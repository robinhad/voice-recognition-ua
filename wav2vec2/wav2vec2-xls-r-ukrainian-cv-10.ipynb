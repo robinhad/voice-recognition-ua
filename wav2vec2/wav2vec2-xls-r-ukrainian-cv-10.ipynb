{
 "cells": [
  {
   "cell_type": "code",
   "execution_count": 1,
   "metadata": {
    "colab": {
     "base_uri": "https://localhost:8080/"
    },
    "executionInfo": {
     "elapsed": 829,
     "status": "ok",
     "timestamp": 1641588786523,
     "user": {
      "displayName": "Yurii Paniv",
      "photoUrl": "https://lh3.googleusercontent.com/a/default-user=s64",
      "userId": "13095662915325887123"
     },
     "user_tz": -120
    },
    "id": "YELVqGxMxnbG",
    "outputId": "876761c1-2e03-411b-e61b-07ac4ad61377"
   },
   "outputs": [
    {
     "name": "stdout",
     "output_type": "stream",
     "text": [
      "Fri Sep  2 01:31:23 2022       \n",
      "+-----------------------------------------------------------------------------+\n",
      "| NVIDIA-SMI 515.65.01    Driver Version: 515.65.01    CUDA Version: 11.7     |\n",
      "|-------------------------------+----------------------+----------------------+\n",
      "| GPU  Name        Persistence-M| Bus-Id        Disp.A | Volatile Uncorr. ECC |\n",
      "| Fan  Temp  Perf  Pwr:Usage/Cap|         Memory-Usage | GPU-Util  Compute M. |\n",
      "|                               |                      |               MIG M. |\n",
      "|===============================+======================+======================|\n",
      "|   0  NVIDIA GeForce ...  Off  | 00000000:0A:00.0  On |                  N/A |\n",
      "|  0%   35C    P5    52W / 390W |   1231MiB / 24576MiB |     34%      Default |\n",
      "|                               |                      |                  N/A |\n",
      "+-------------------------------+----------------------+----------------------+\n",
      "                                                                               \n",
      "+-----------------------------------------------------------------------------+\n",
      "| Processes:                                                                  |\n",
      "|  GPU   GI   CI        PID   Type   Process name                  GPU Memory |\n",
      "|        ID   ID                                                   Usage      |\n",
      "|=============================================================================|\n",
      "|    0   N/A  N/A      1216      G   /usr/lib/xorg/Xorg                485MiB |\n",
      "|    0   N/A  N/A      1601      G   /usr/bin/kwin_x11                  97MiB |\n",
      "|    0   N/A  N/A      1650      G   /usr/bin/plasmashell               64MiB |\n",
      "|    0   N/A  N/A      1747      G   telegram-desktop                    4MiB |\n",
      "|    0   N/A  N/A      4701      G   ...5/usr/lib/firefox/firefox      175MiB |\n",
      "|    0   N/A  N/A    804722      G   ...RendererForSitePerProcess      363MiB |\n",
      "|    0   N/A  N/A    867357      G   ...996071496053229024,131072       35MiB |\n",
      "+-----------------------------------------------------------------------------+\n"
     ]
    }
   ],
   "source": [
    "gpu_info = !nvidia-smi\n",
    "gpu_info = '\\n'.join(gpu_info)\n",
    "if gpu_info.find('failed') >= 0:\n",
    "  print('Not connected to a GPU')\n",
    "else:\n",
    "  print(gpu_info)"
   ]
  },
  {
   "cell_type": "code",
   "execution_count": 2,
   "metadata": {
    "id": "c8eh87Hoee5d"
   },
   "outputs": [],
   "source": [
    "#%%capture\n",
    "#!pip install datasets==1.13.3\n",
    "#!pip install transformers==4.11.3\n",
    "#!pip install huggingface_hub==0.1\n",
    "#!pip install torchaudio==0.10.0+cu113 -f https://download.pytorch.org/whl/cu113/torch_stable.html\n",
    "#!pip install jiwer"
   ]
  },
  {
   "cell_type": "code",
   "execution_count": 3,
   "metadata": {
    "colab": {
     "base_uri": "https://localhost:8080/"
    },
    "executionInfo": {
     "elapsed": 5334,
     "status": "ok",
     "timestamp": 1641588811766,
     "user": {
      "displayName": "Yurii Paniv",
      "photoUrl": "https://lh3.googleusercontent.com/a/default-user=s64",
      "userId": "13095662915325887123"
     },
     "user_tz": -120
    },
    "id": "2MMXcWFFgCXU",
    "outputId": "be9fd72e-4395-4cd0-ff87-631dad046e71"
   },
   "outputs": [
    {
     "name": "stderr",
     "output_type": "stream",
     "text": [
      "Reusing dataset common_voice_10_0 (/home/robinhad/.cache/huggingface/datasets/mozilla-foundation___common_voice_10_0/uk/10.0.0/27df768ab1b5cac48a7616f145b79b62599167b0ffa2e054bf4c3e74e9619e5e)\n",
      "Reusing dataset common_voice_10_0 (/home/robinhad/.cache/huggingface/datasets/mozilla-foundation___common_voice_10_0/uk/10.0.0/27df768ab1b5cac48a7616f145b79b62599167b0ffa2e054bf4c3e74e9619e5e)\n"
     ]
    }
   ],
   "source": [
    "from datasets import load_dataset, load_metric, Audio\n",
    "\n",
    "common_voice_train = load_dataset(\"mozilla-foundation/common_voice_10_0\", \"uk\", split=\"train\", use_auth_token=True)\n",
    "common_voice_test = load_dataset(\"mozilla-foundation/common_voice_10_0\", \"uk\", split=\"test\", use_auth_token=True)"
   ]
  },
  {
   "cell_type": "code",
   "execution_count": 4,
   "metadata": {},
   "outputs": [
    {
     "data": {
      "text/plain": [
       "Dataset({\n",
       "    features: ['client_id', 'path', 'audio', 'sentence', 'up_votes', 'down_votes', 'age', 'gender', 'accent', 'locale', 'segment'],\n",
       "    num_rows: 11463\n",
       "})"
      ]
     },
     "execution_count": 4,
     "metadata": {},
     "output_type": "execute_result"
    }
   ],
   "source": [
    "common_voice_train"
   ]
  },
  {
   "cell_type": "code",
   "execution_count": 5,
   "metadata": {},
   "outputs": [
    {
     "data": {
      "text/plain": [
       "0"
      ]
     },
     "execution_count": 5,
     "metadata": {},
     "output_type": "execute_result"
    }
   ],
   "source": [
    "common_voice_train.cleanup_cache_files()\n",
    "common_voice_test.cleanup_cache_files()"
   ]
  },
  {
   "cell_type": "code",
   "execution_count": 6,
   "metadata": {
    "id": "kbyq6lDgQc2a"
   },
   "outputs": [],
   "source": [
    "common_voice_train = common_voice_train.remove_columns([\"accent\", \"age\", \"client_id\", \"down_votes\", \"gender\", \"locale\", \"segment\", \"up_votes\"])\n",
    "common_voice_test = common_voice_test.remove_columns([\"accent\", \"age\", \"client_id\", \"down_votes\", \"gender\", \"locale\", \"segment\", \"up_votes\"])"
   ]
  },
  {
   "cell_type": "code",
   "execution_count": 7,
   "metadata": {
    "id": "72737oog2F6U"
   },
   "outputs": [],
   "source": [
    "from datasets import ClassLabel\n",
    "import random\n",
    "import pandas as pd\n",
    "from IPython.display import display, HTML\n",
    "\n",
    "def show_random_elements(dataset, num_examples=10):\n",
    "    assert num_examples <= len(dataset), \"Can't pick more elements than there are in the dataset.\"\n",
    "    picks = []\n",
    "    for _ in range(num_examples):\n",
    "        pick = random.randint(0, len(dataset)-1)\n",
    "        while pick in picks:\n",
    "            pick = random.randint(0, len(dataset)-1)\n",
    "        picks.append(pick)\n",
    "    \n",
    "    df = pd.DataFrame(dataset[picks])\n",
    "    display(HTML(df.to_html()))"
   ]
  },
  {
   "cell_type": "code",
   "execution_count": 8,
   "metadata": {
    "colab": {
     "base_uri": "https://localhost:8080/",
     "height": 363
    },
    "executionInfo": {
     "elapsed": 39,
     "status": "ok",
     "timestamp": 1641588811771,
     "user": {
      "displayName": "Yurii Paniv",
      "photoUrl": "https://lh3.googleusercontent.com/a/default-user=s64",
      "userId": "13095662915325887123"
     },
     "user_tz": -120
    },
    "id": "K_JUmf3G3b9S",
    "outputId": "8603c909-09e1-43ae-f7c2-b27b25d795a3"
   },
   "outputs": [
    {
     "data": {
      "text/html": [
       "<table border=\"1\" class=\"dataframe\">\n",
       "  <thead>\n",
       "    <tr style=\"text-align: right;\">\n",
       "      <th></th>\n",
       "      <th>sentence</th>\n",
       "    </tr>\n",
       "  </thead>\n",
       "  <tbody>\n",
       "    <tr>\n",
       "      <th>0</th>\n",
       "      <td>Вона нас не лякає.</td>\n",
       "    </tr>\n",
       "    <tr>\n",
       "      <th>1</th>\n",
       "      <td>Бейнбрідж затримався, готуючи екіпажі, й фактично не встиг узяти участі у війні.</td>\n",
       "    </tr>\n",
       "    <tr>\n",
       "      <th>2</th>\n",
       "      <td>А тепер.</td>\n",
       "    </tr>\n",
       "    <tr>\n",
       "      <th>3</th>\n",
       "      <td>Наші \"будьонівці\", ніби з цікавості, зібралися й оточили червоні шеренги.</td>\n",
       "    </tr>\n",
       "    <tr>\n",
       "      <th>4</th>\n",
       "      <td>Серед квітів я вмирав, Серед хмар я воскресав.</td>\n",
       "    </tr>\n",
       "    <tr>\n",
       "      <th>5</th>\n",
       "      <td>Сьогодні виробництво полімерів найбільша галузь хімічної промисловості.</td>\n",
       "    </tr>\n",
       "    <tr>\n",
       "      <th>6</th>\n",
       "      <td>Хмельницький заплатив за все на цілий рік наперед.</td>\n",
       "    </tr>\n",
       "    <tr>\n",
       "      <th>7</th>\n",
       "      <td>Соловій же залишився підпалити бікфордів шнур.</td>\n",
       "    </tr>\n",
       "    <tr>\n",
       "      <th>8</th>\n",
       "      <td>Тоді його слово буде хвилювати, захоплювати, піднімати людську душу.</td>\n",
       "    </tr>\n",
       "    <tr>\n",
       "      <th>9</th>\n",
       "      <td>Тут були яблуні, сливи, вишні, — вишень найбільше.</td>\n",
       "    </tr>\n",
       "  </tbody>\n",
       "</table>"
      ],
      "text/plain": [
       "<IPython.core.display.HTML object>"
      ]
     },
     "metadata": {},
     "output_type": "display_data"
    }
   ],
   "source": [
    "show_random_elements(common_voice_train.remove_columns([\"path\", \"audio\"]), num_examples=10)"
   ]
  },
  {
   "cell_type": "code",
   "execution_count": 9,
   "metadata": {
    "colab": {
     "base_uri": "https://localhost:8080/"
    },
    "executionInfo": {
     "elapsed": 30,
     "status": "ok",
     "timestamp": 1641588811775,
     "user": {
      "displayName": "Yurii Paniv",
      "photoUrl": "https://lh3.googleusercontent.com/a/default-user=s64",
      "userId": "13095662915325887123"
     },
     "user_tz": -120
    },
    "id": "XIHocAuTQbBR",
    "outputId": "e8392853-e0d1-45ba-df74-065c50565654"
   },
   "outputs": [
    {
     "data": {
      "application/json": {
       "ascii": false,
       "bar_format": null,
       "colour": null,
       "elapsed": 0.00995326042175293,
       "initial": 0,
       "n": 0,
       "ncols": null,
       "nrows": null,
       "postfix": null,
       "prefix": "",
       "rate": null,
       "total": 12,
       "unit": "ba",
       "unit_divisor": 1000,
       "unit_scale": false
      },
      "application/vnd.jupyter.widget-view+json": {
       "model_id": "4c0c81459dfb4ede8f0ec6fe25a0807e",
       "version_major": 2,
       "version_minor": 0
      },
      "text/plain": [
       "  0%|          | 0/12 [00:00<?, ?ba/s]"
      ]
     },
     "metadata": {},
     "output_type": "display_data"
    },
    {
     "data": {
      "application/json": {
       "ascii": false,
       "bar_format": null,
       "colour": null,
       "elapsed": 0.007294893264770508,
       "initial": 0,
       "n": 0,
       "ncols": null,
       "nrows": null,
       "postfix": null,
       "prefix": "",
       "rate": null,
       "total": 7,
       "unit": "ba",
       "unit_divisor": 1000,
       "unit_scale": false
      },
      "application/vnd.jupyter.widget-view+json": {
       "model_id": "66c16ae632444339ae8ec80070398586",
       "version_major": 2,
       "version_minor": 0
      },
      "text/plain": [
       "  0%|          | 0/7 [00:00<?, ?ba/s]"
      ]
     },
     "metadata": {},
     "output_type": "display_data"
    }
   ],
   "source": [
    "filter_func = lambda x: not (\"joki\" in x or \"ы\" in x)\n",
    "common_voice_train = common_voice_train.filter(filter_func, input_columns=[\"sentence\"])\n",
    "common_voice_test = common_voice_test.filter(filter_func, input_columns=[\"sentence\"])"
   ]
  },
  {
   "cell_type": "code",
   "execution_count": 10,
   "metadata": {
    "id": "ZcVsD0ETElrR"
   },
   "outputs": [
    {
     "data": {
      "text/plain": [
       "{'sentence': \"привіт як у тебе справи загалом м'якотілий друже\"}"
      ]
     },
     "execution_count": 10,
     "metadata": {},
     "output_type": "execute_result"
    }
   ],
   "source": [
    "def cleaner(batch):\n",
    "    replace_as_space = \"!:;,—…–“”?\\\"«»\"\n",
    "    special_words = {\n",
    "        \"ХIХ\": \"дев'ятнадцятого\",\n",
    "        \"Linux\": \"Лінукс\",\n",
    "        \"Maace\": \"Маасе\",\n",
    "        \"м 'ясо\": \"м'ясо\",\n",
    "        \"'іде\": \"іде\",\n",
    "        \"Д'Аламбер\": \"даламбер\",\n",
    "        \" - \": \" \",\n",
    "        \"--\": \" \",\n",
    "        \"....\": \" \",\n",
    "        \"...\": \" \",\n",
    "        \"..\": \" \",\n",
    "        \" '\": \" \",\n",
    "        \"О'\": \"о\",\n",
    "        \"-\": \"\" #further check needed\n",
    "    }\n",
    "    # check abbreviations later\n",
    "    abbreviations = {\n",
    "        'ЧК': \"чека\",\n",
    "        'ҐПУ': \"ґепеу\",\n",
    "        'ЄС.': \"єес\",\n",
    "        'УНР': \"уенер\",\n",
    "        'ДТП.': \"детепе\",\n",
    "        'РНБО': \"еренбео\",\n",
    "        'СРСР': \"есересер\",\n",
    "        'ДБР': \"дебеер\",\n",
    "        'КП': \"капе\",\n",
    "        'ОС': \"оес\",\n",
    "    } \n",
    "    chars_dict = {\n",
    "        \"C\": \"С\",\n",
    "        \"I\": \"І\",\n",
    "        \"P\": \"Р\",\n",
    "        \"a\": \"а\",\n",
    "        \"e\": \"е\",\n",
    "        \"x\": \"х\",\n",
    "        \"y\": \"у\",\n",
    "        \"p\": \"р\",\n",
    "        \"o\": \"о\",\n",
    "        \"i\": \"і\",\n",
    "        \"\\u0301\": \"\",\n",
    "        \"`\": \"'\",\n",
    "        \"՚\": \"'\",\n",
    "        \".\": \" \",\n",
    "        \"’\": \"'\"\n",
    "        \n",
    "    }\n",
    "    for word in special_words.keys():\n",
    "        batch[\"sentence\"] = batch[\"sentence\"].replace(word, special_words[word])\n",
    "    for word in abbreviations.keys():\n",
    "        batch[\"sentence\"] = batch[\"sentence\"].replace(word, abbreviations[word])\n",
    "    for char in chars_dict.keys():\n",
    "        batch[\"sentence\"] = batch[\"sentence\"].replace(char, chars_dict[char])\n",
    "    for char in replace_as_space:\n",
    "        batch[\"sentence\"] = batch[\"sentence\"].replace(char, \" \")\n",
    "    batch[\"sentence\"] = \" \".join(filter(lambda x: x != \"\", batch[\"sentence\"].strip().lower().split(\" \")))\n",
    "    return batch\n",
    "\n",
    "sentence = {\"sentence\": \"Привіт, - як у тебе справи загалом, м'якотілий друже?\"}\n",
    "cleaner(sentence)"
   ]
  },
  {
   "cell_type": "code",
   "execution_count": 11,
   "metadata": {
    "colab": {
     "base_uri": "https://localhost:8080/",
     "height": 401
    },
    "executionInfo": {
     "elapsed": 32,
     "status": "ok",
     "timestamp": 1641588811774,
     "user": {
      "displayName": "Yurii Paniv",
      "photoUrl": "https://lh3.googleusercontent.com/a/default-user=s64",
      "userId": "13095662915325887123"
     },
     "user_tz": -120
    },
    "id": "6falIJSBED65",
    "outputId": "2f0ca829-dbfa-4d70-ee4a-ded2ae342117"
   },
   "outputs": [
    {
     "data": {
      "application/json": {
       "ascii": false,
       "bar_format": null,
       "colour": null,
       "elapsed": 0.00716710090637207,
       "initial": 0,
       "n": 0,
       "ncols": null,
       "nrows": null,
       "postfix": null,
       "prefix": "",
       "rate": null,
       "total": 11463,
       "unit": "ex",
       "unit_divisor": 1000,
       "unit_scale": false
      },
      "application/vnd.jupyter.widget-view+json": {
       "model_id": "ca29db891c7f4d0cbd328a65477d2392",
       "version_major": 2,
       "version_minor": 0
      },
      "text/plain": [
       "  0%|          | 0/11463 [00:00<?, ?ex/s]"
      ]
     },
     "metadata": {},
     "output_type": "display_data"
    },
    {
     "data": {
      "text/html": [
       "<table border=\"1\" class=\"dataframe\">\n",
       "  <thead>\n",
       "    <tr style=\"text-align: right;\">\n",
       "      <th></th>\n",
       "      <th>sentence</th>\n",
       "    </tr>\n",
       "  </thead>\n",
       "  <tbody>\n",
       "    <tr>\n",
       "      <th>0</th>\n",
       "      <td>так так усе на світі кінчається</td>\n",
       "    </tr>\n",
       "    <tr>\n",
       "      <th>1</th>\n",
       "      <td>комуністів тільки й є що воєнком та два ротні політруки</td>\n",
       "    </tr>\n",
       "    <tr>\n",
       "      <th>2</th>\n",
       "      <td>уже й убитих чимало</td>\n",
       "    </tr>\n",
       "    <tr>\n",
       "      <th>3</th>\n",
       "      <td>трупів не закопували</td>\n",
       "    </tr>\n",
       "    <tr>\n",
       "      <th>4</th>\n",
       "      <td>до фастова дісталася з якимось польським обозом</td>\n",
       "    </tr>\n",
       "    <tr>\n",
       "      <th>5</th>\n",
       "      <td>невже то ви були</td>\n",
       "    </tr>\n",
       "    <tr>\n",
       "      <th>6</th>\n",
       "      <td>при отій купці отої нещасної духовної братії</td>\n",
       "    </tr>\n",
       "    <tr>\n",
       "      <th>7</th>\n",
       "      <td>вирішуємо напасти на бригаду по дорозі не допустивши до села</td>\n",
       "    </tr>\n",
       "    <tr>\n",
       "      <th>8</th>\n",
       "      <td>де то хто таке видав аби хлопи купували панські маєтки</td>\n",
       "    </tr>\n",
       "    <tr>\n",
       "      <th>9</th>\n",
       "      <td>коні пішли з коноводами в балку</td>\n",
       "    </tr>\n",
       "  </tbody>\n",
       "</table>"
      ],
      "text/plain": [
       "<IPython.core.display.HTML object>"
      ]
     },
     "metadata": {},
     "output_type": "display_data"
    }
   ],
   "source": [
    "show_random_elements(common_voice_train.map(cleaner).remove_columns([\"path\", \"audio\"]), num_examples=10)"
   ]
  },
  {
   "cell_type": "code",
   "execution_count": 12,
   "metadata": {},
   "outputs": [
    {
     "name": "stderr",
     "output_type": "stream",
     "text": [
      "Loading cached processed dataset at /home/robinhad/.cache/huggingface/datasets/mozilla-foundation___common_voice_10_0/uk/10.0.0/27df768ab1b5cac48a7616f145b79b62599167b0ffa2e054bf4c3e74e9619e5e/cache-890587fbc5f83609.arrow\n"
     ]
    },
    {
     "data": {
      "application/json": {
       "ascii": false,
       "bar_format": null,
       "colour": null,
       "elapsed": 0.007320880889892578,
       "initial": 0,
       "n": 0,
       "ncols": null,
       "nrows": null,
       "postfix": null,
       "prefix": "",
       "rate": null,
       "total": 6783,
       "unit": "ex",
       "unit_divisor": 1000,
       "unit_scale": false
      },
      "application/vnd.jupyter.widget-view+json": {
       "model_id": "8261bf1a7bd747fb88f7e063c24273d4",
       "version_major": 2,
       "version_minor": 0
      },
      "text/plain": [
       "  0%|          | 0/6783 [00:00<?, ?ex/s]"
      ]
     },
     "metadata": {},
     "output_type": "display_data"
    }
   ],
   "source": [
    "common_voice_train = common_voice_train.map(cleaner)\n",
    "common_voice_test = common_voice_test.map(cleaner)"
   ]
  },
  {
   "cell_type": "code",
   "execution_count": 13,
   "metadata": {
    "colab": {
     "base_uri": "https://localhost:8080/",
     "height": 363
    },
    "executionInfo": {
     "elapsed": 24,
     "status": "ok",
     "timestamp": 1641588811775,
     "user": {
      "displayName": "Yurii Paniv",
      "photoUrl": "https://lh3.googleusercontent.com/a/default-user=s64",
      "userId": "13095662915325887123"
     },
     "user_tz": -120
    },
    "id": "RBDRAAYxRE6n",
    "outputId": "a16beae1-84e6-4388-d601-2ed3a92bf451"
   },
   "outputs": [
    {
     "data": {
      "text/html": [
       "<table border=\"1\" class=\"dataframe\">\n",
       "  <thead>\n",
       "    <tr style=\"text-align: right;\">\n",
       "      <th></th>\n",
       "      <th>sentence</th>\n",
       "    </tr>\n",
       "  </thead>\n",
       "  <tbody>\n",
       "    <tr>\n",
       "      <th>0</th>\n",
       "      <td>я замилувався маневруванням тачанок на полях</td>\n",
       "    </tr>\n",
       "    <tr>\n",
       "      <th>1</th>\n",
       "      <td>андрій із бугаєм вилізли на близький горб роздивилися</td>\n",
       "    </tr>\n",
       "    <tr>\n",
       "      <th>2</th>\n",
       "      <td>вона нам потрібна як щоденний хліб</td>\n",
       "    </tr>\n",
       "    <tr>\n",
       "      <th>3</th>\n",
       "      <td>олесеві ще більше захотілось чаю</td>\n",
       "    </tr>\n",
       "    <tr>\n",
       "      <th>4</th>\n",
       "      <td>вирішуємо тут поснідати і з годину відпочити бо люди й коні потомлені</td>\n",
       "    </tr>\n",
       "    <tr>\n",
       "      <th>5</th>\n",
       "      <td>воротилову сотню найдужче боявся він дрібного дощу який почав сіятись удосвіта й міг зашкодити</td>\n",
       "    </tr>\n",
       "    <tr>\n",
       "      <th>6</th>\n",
       "      <td>люта злість піднялася в душі хлопця при вигляді оцього свого тирана</td>\n",
       "    </tr>\n",
       "    <tr>\n",
       "      <th>7</th>\n",
       "      <td>також цього року в столиці виникла низка профспілкових організацій і був створений робочий клуб</td>\n",
       "    </tr>\n",
       "    <tr>\n",
       "      <th>8</th>\n",
       "      <td>накидав того літа а вони в наших плавнях затрималися всю січ мені засмерділи</td>\n",
       "    </tr>\n",
       "    <tr>\n",
       "      <th>9</th>\n",
       "      <td>їздять коло нас</td>\n",
       "    </tr>\n",
       "  </tbody>\n",
       "</table>"
      ],
      "text/plain": [
       "<IPython.core.display.HTML object>"
      ]
     },
     "metadata": {},
     "output_type": "display_data"
    }
   ],
   "source": [
    "show_random_elements(common_voice_train.remove_columns([\"path\",\"audio\"]))"
   ]
  },
  {
   "cell_type": "code",
   "execution_count": 14,
   "metadata": {
    "id": "LwCshNbbeRZR"
   },
   "outputs": [],
   "source": [
    "def extract_all_chars(batch):\n",
    "  all_text = \" \".join(batch[\"sentence\"])\n",
    "  vocab = list(set(all_text))\n",
    "  return {\"vocab\": [vocab], \"all_text\": [all_text]}"
   ]
  },
  {
   "cell_type": "code",
   "execution_count": 15,
   "metadata": {
    "colab": {
     "base_uri": "https://localhost:8080/",
     "height": 81,
     "referenced_widgets": [
      "116786d9364a4a57b521cddaabeda688",
      "9baa2f69aa9c4387bf1086a04ed78420",
      "a1e2c04dc2cb45ea80bec125e3dbf56f",
      "b6d46d40efa14b21814f41531f5a2f41",
      "d8bf8dc5d6c84140a4e96c9c435b8f17",
      "04ec68b059df4c628839c3ac29e2ebdd",
      "427056895c674c428400bee0f5b43995",
      "d518f2c2ab6945b78a6d336dad6262bd",
      "77f1a51099b24831ad8b2be3d2dc833a",
      "5815ae1348994bfebba4a8e968489a96",
      "22ba979142074f1d976e1a905544fd2d",
      "8b6b7f28751c45c8869aa86eb2a0ab26",
      "445c84e1e2e541f2a54fb989def386ae",
      "68502fb433564eee8dfdf272ed7e4f56",
      "1f3abdf2e0f6459da4179a94d691c4c4",
      "48c60be3ca9349a295b83f65769c7f27",
      "6c80bd8a8fe14a5989fe27445c14650f",
      "5c2a7fea8c434d51ada69a0854b88baf",
      "414efa8a08cd491cb78af8a95a151daa",
      "c31a747e18df4b4aa4449a30e387448c",
      "3dedffa30b774426bd474072a3a0d591",
      "05d8496d54174ae298c319b0194fc710"
     ]
    },
    "executionInfo": {
     "elapsed": 560,
     "status": "ok",
     "timestamp": 1641588812313,
     "user": {
      "displayName": "Yurii Paniv",
      "photoUrl": "https://lh3.googleusercontent.com/a/default-user=s64",
      "userId": "13095662915325887123"
     },
     "user_tz": -120
    },
    "id": "_m6uUjjcfbjH",
    "outputId": "4cc94e18-9295-4414-c611-c98916fe3d4d"
   },
   "outputs": [
    {
     "data": {
      "application/json": {
       "ascii": false,
       "bar_format": null,
       "colour": null,
       "elapsed": 0.009069681167602539,
       "initial": 0,
       "n": 0,
       "ncols": null,
       "nrows": null,
       "postfix": null,
       "prefix": "",
       "rate": null,
       "total": 1,
       "unit": "ba",
       "unit_divisor": 1000,
       "unit_scale": false
      },
      "application/vnd.jupyter.widget-view+json": {
       "model_id": "21abcee2f4f6401096ebfcc2b283f704",
       "version_major": 2,
       "version_minor": 0
      },
      "text/plain": [
       "  0%|          | 0/1 [00:00<?, ?ba/s]"
      ]
     },
     "metadata": {},
     "output_type": "display_data"
    },
    {
     "data": {
      "application/json": {
       "ascii": false,
       "bar_format": null,
       "colour": null,
       "elapsed": 0.007071256637573242,
       "initial": 0,
       "n": 0,
       "ncols": null,
       "nrows": null,
       "postfix": null,
       "prefix": "",
       "rate": null,
       "total": 1,
       "unit": "ba",
       "unit_divisor": 1000,
       "unit_scale": false
      },
      "application/vnd.jupyter.widget-view+json": {
       "model_id": "82e2b6e9482345ba913c5800eab41275",
       "version_major": 2,
       "version_minor": 0
      },
      "text/plain": [
       "  0%|          | 0/1 [00:00<?, ?ba/s]"
      ]
     },
     "metadata": {},
     "output_type": "display_data"
    }
   ],
   "source": [
    "vocab_train = common_voice_train.map(extract_all_chars, batched=True, batch_size=-1, keep_in_memory=True, remove_columns=common_voice_train.column_names)\n",
    "vocab_test = common_voice_test.map(extract_all_chars, batched=True, batch_size=-1, keep_in_memory=True, remove_columns=common_voice_test.column_names)"
   ]
  },
  {
   "cell_type": "code",
   "execution_count": 16,
   "metadata": {
    "id": "aQfneNsmlJI0"
   },
   "outputs": [],
   "source": [
    "vocab_list = list(set(vocab_train[\"vocab\"][0]) | set(vocab_test[\"vocab\"][0]))"
   ]
  },
  {
   "cell_type": "code",
   "execution_count": 17,
   "metadata": {
    "colab": {
     "base_uri": "https://localhost:8080/"
    },
    "executionInfo": {
     "elapsed": 18,
     "status": "ok",
     "timestamp": 1641588812314,
     "user": {
      "displayName": "Yurii Paniv",
      "photoUrl": "https://lh3.googleusercontent.com/a/default-user=s64",
      "userId": "13095662915325887123"
     },
     "user_tz": -120
    },
    "id": "_0kRndSvqaKk",
    "outputId": "35c48e76-5060-470b-8405-bd6d288296ea"
   },
   "outputs": [
    {
     "data": {
      "text/plain": [
       "{' ': 0,\n",
       " \"'\": 1,\n",
       " 'а': 2,\n",
       " 'б': 3,\n",
       " 'в': 4,\n",
       " 'г': 5,\n",
       " 'д': 6,\n",
       " 'е': 7,\n",
       " 'ж': 8,\n",
       " 'з': 9,\n",
       " 'и': 10,\n",
       " 'й': 11,\n",
       " 'к': 12,\n",
       " 'л': 13,\n",
       " 'м': 14,\n",
       " 'н': 15,\n",
       " 'о': 16,\n",
       " 'п': 17,\n",
       " 'р': 18,\n",
       " 'с': 19,\n",
       " 'т': 20,\n",
       " 'у': 21,\n",
       " 'ф': 22,\n",
       " 'х': 23,\n",
       " 'ц': 24,\n",
       " 'ч': 25,\n",
       " 'ш': 26,\n",
       " 'щ': 27,\n",
       " 'ь': 28,\n",
       " 'ю': 29,\n",
       " 'я': 30,\n",
       " 'є': 31,\n",
       " 'і': 32,\n",
       " 'ї': 33,\n",
       " 'ґ': 34}"
      ]
     },
     "execution_count": 17,
     "metadata": {},
     "output_type": "execute_result"
    }
   ],
   "source": [
    "vocab_dict = {v: k for k, v in enumerate(sorted(vocab_list))}\n",
    "vocab_dict"
   ]
  },
  {
   "cell_type": "code",
   "execution_count": 18,
   "metadata": {
    "id": "npbIbBoLgaFX"
   },
   "outputs": [],
   "source": [
    "vocab_dict[\"|\"] = vocab_dict[\" \"]\n",
    "del vocab_dict[\" \"]"
   ]
  },
  {
   "cell_type": "code",
   "execution_count": 19,
   "metadata": {
    "colab": {
     "base_uri": "https://localhost:8080/"
    },
    "executionInfo": {
     "elapsed": 15,
     "status": "ok",
     "timestamp": 1641588812316,
     "user": {
      "displayName": "Yurii Paniv",
      "photoUrl": "https://lh3.googleusercontent.com/a/default-user=s64",
      "userId": "13095662915325887123"
     },
     "user_tz": -120
    },
    "id": "znF0bNunsjbl",
    "outputId": "480da4c9-b3d4-41c6-fc5c-b87b8b66202e"
   },
   "outputs": [
    {
     "data": {
      "text/plain": [
       "37"
      ]
     },
     "execution_count": 19,
     "metadata": {},
     "output_type": "execute_result"
    }
   ],
   "source": [
    "vocab_dict[\"[UNK]\"] = len(vocab_dict)\n",
    "vocab_dict[\"[PAD]\"] = len(vocab_dict)\n",
    "len(vocab_dict)"
   ]
  },
  {
   "cell_type": "code",
   "execution_count": 20,
   "metadata": {
    "id": "ehyUoh9vk191"
   },
   "outputs": [],
   "source": [
    "import json\n",
    "with open('vocab.json', 'w') as vocab_file:\n",
    "    json.dump(vocab_dict, vocab_file)"
   ]
  },
  {
   "cell_type": "code",
   "execution_count": 21,
   "metadata": {
    "colab": {
     "base_uri": "https://localhost:8080/"
    },
    "executionInfo": {
     "elapsed": 8013,
     "status": "ok",
     "timestamp": 1641588820318,
     "user": {
      "displayName": "Yurii Paniv",
      "photoUrl": "https://lh3.googleusercontent.com/a/default-user=s64",
      "userId": "13095662915325887123"
     },
     "user_tz": -120
    },
    "id": "xriFGEWQkO4M",
    "outputId": "a4497f75-d6f5-411a-d983-2ad519f65b8b"
   },
   "outputs": [
    {
     "name": "stderr",
     "output_type": "stream",
     "text": [
      "Special tokens have been added in the vocabulary, make sure the associated word embeddings are fine-tuned or trained.\n"
     ]
    }
   ],
   "source": [
    "from transformers import Wav2Vec2CTCTokenizer\n",
    "\n",
    "tokenizer = Wav2Vec2CTCTokenizer.from_pretrained(\"./\", unk_token=\"[UNK]\", pad_token=\"[PAD]\", word_delimiter_token=\"|\")"
   ]
  },
  {
   "cell_type": "code",
   "execution_count": 22,
   "metadata": {
    "id": "A1XApZBAF2zr"
   },
   "outputs": [],
   "source": [
    "repo_name = \"wav2vec2-xls-r-300m-uk\""
   ]
  },
  {
   "cell_type": "code",
   "execution_count": 23,
   "metadata": {
    "id": "kAR0-2KLkopp"
   },
   "outputs": [],
   "source": [
    "from transformers import Wav2Vec2FeatureExtractor\n",
    "\n",
    "feature_extractor = Wav2Vec2FeatureExtractor(feature_size=1, sampling_rate=16000, padding_value=0.0, do_normalize=True, return_attention_mask=True)"
   ]
  },
  {
   "cell_type": "code",
   "execution_count": 24,
   "metadata": {
    "id": "KYZtoW-tlZgl"
   },
   "outputs": [],
   "source": [
    "from transformers import Wav2Vec2Processor\n",
    "\n",
    "processor = Wav2Vec2Processor(feature_extractor=feature_extractor, tokenizer=tokenizer)"
   ]
  },
  {
   "cell_type": "code",
   "execution_count": 25,
   "metadata": {},
   "outputs": [],
   "source": [
    "# save tokenizer to folder\n",
    "processor.save_pretrained(repo_name)"
   ]
  },
  {
   "cell_type": "code",
   "execution_count": 26,
   "metadata": {
    "colab": {
     "base_uri": "https://localhost:8080/",
     "height": 54
    },
    "executionInfo": {
     "elapsed": 18,
     "status": "ok",
     "timestamp": 1641588820325,
     "user": {
      "displayName": "Yurii Paniv",
      "photoUrl": "https://lh3.googleusercontent.com/a/default-user=s64",
      "userId": "13095662915325887123"
     },
     "user_tz": -120
    },
    "id": "TTCS7W6XJ9BG",
    "outputId": "18b0d44f-a498-4a79-f0a7-984fae48cad1"
   },
   "outputs": [
    {
     "data": {
      "text/plain": [
       "'/home/robinhad/.cache/huggingface/datasets/downloads/extracted/ee7155196e5d51620d53e48cf58eb693b7839b8ff183604c8bb948d3e0aad92d/cv-corpus-10.0-2022-07-04/uk/clips/common_voice_uk_20907128.mp3'"
      ]
     },
     "execution_count": 26,
     "metadata": {},
     "output_type": "execute_result"
    }
   ],
   "source": [
    "common_voice_train[0][\"path\"]"
   ]
  },
  {
   "cell_type": "code",
   "execution_count": 27,
   "metadata": {
    "colab": {
     "base_uri": "https://localhost:8080/"
    },
    "executionInfo": {
     "elapsed": 863,
     "status": "ok",
     "timestamp": 1641588821172,
     "user": {
      "displayName": "Yurii Paniv",
      "photoUrl": "https://lh3.googleusercontent.com/a/default-user=s64",
      "userId": "13095662915325887123"
     },
     "user_tz": -120
    },
    "id": "qj_z5Zc3GAs9",
    "outputId": "ace70f42-dcf0-445c-9b81-b23d4089c90d"
   },
   "outputs": [
    {
     "data": {
      "text/plain": [
       "{'path': '/home/robinhad/.cache/huggingface/datasets/downloads/extracted/ee7155196e5d51620d53e48cf58eb693b7839b8ff183604c8bb948d3e0aad92d/cv-corpus-10.0-2022-07-04/uk/clips/common_voice_uk_20907128.mp3',\n",
       " 'array': array([ 0.0000000e+00, -3.5002383e-14,  9.4785833e-15, ...,\n",
       "        -5.0386465e-08, -4.4114326e-08, -1.9402206e-08], dtype=float32),\n",
       " 'sampling_rate': 48000}"
      ]
     },
     "execution_count": 27,
     "metadata": {},
     "output_type": "execute_result"
    }
   ],
   "source": [
    "common_voice_train[0][\"audio\"]"
   ]
  },
  {
   "cell_type": "code",
   "execution_count": 28,
   "metadata": {
    "id": "rrv65aj7G95i"
   },
   "outputs": [],
   "source": [
    "common_voice_train = common_voice_train.cast_column(\"audio\", Audio(sampling_rate=16_000))\n",
    "common_voice_test = common_voice_test.cast_column(\"audio\", Audio(sampling_rate=16_000))"
   ]
  },
  {
   "cell_type": "code",
   "execution_count": 29,
   "metadata": {
    "colab": {
     "base_uri": "https://localhost:8080/"
    },
    "executionInfo": {
     "elapsed": 31,
     "status": "ok",
     "timestamp": 1641588821174,
     "user": {
      "displayName": "Yurii Paniv",
      "photoUrl": "https://lh3.googleusercontent.com/a/default-user=s64",
      "userId": "13095662915325887123"
     },
     "user_tz": -120
    },
    "id": "aKtkc1o_HWHC",
    "outputId": "55538536-b8c6-484f-d695-5c8e0492747a"
   },
   "outputs": [
    {
     "data": {
      "text/plain": [
       "{'path': '/home/robinhad/.cache/huggingface/datasets/downloads/extracted/ee7155196e5d51620d53e48cf58eb693b7839b8ff183604c8bb948d3e0aad92d/cv-corpus-10.0-2022-07-04/uk/clips/common_voice_uk_20907128.mp3',\n",
       " 'array': array([ 1.00456624e-13, -1.54340042e-13,  7.00158518e-13, ...,\n",
       "        -1.50335762e-08, -1.92623926e-08, -2.21930367e-08], dtype=float32),\n",
       " 'sampling_rate': 16000}"
      ]
     },
     "execution_count": 29,
     "metadata": {},
     "output_type": "execute_result"
    }
   ],
   "source": [
    "common_voice_train[0][\"audio\"]"
   ]
  },
  {
   "cell_type": "code",
   "execution_count": 30,
   "metadata": {
    "colab": {
     "base_uri": "https://localhost:8080/",
     "height": 80
    },
    "executionInfo": {
     "elapsed": 27,
     "status": "ok",
     "timestamp": 1641588821175,
     "user": {
      "displayName": "Yurii Paniv",
      "photoUrl": "https://lh3.googleusercontent.com/a/default-user=s64",
      "userId": "13095662915325887123"
     },
     "user_tz": -120
    },
    "id": "dueM6U7Ev0OA",
    "outputId": "8f8e14bf-6d59-43e2-ae2d-525bac8e5097"
   },
   "outputs": [
    {
     "name": "stdout",
     "output_type": "stream",
     "text": [
      "от би була рада\n"
     ]
    },
    {
     "data": {
      "text/html": [
       "\n",
       "                <audio  controls=\"controls\" autoplay=\"autoplay\">\n",
       "                    <source src=\"data:audio/wav;base64,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\" type=\"audio/wav\" />\n",
       "                    Your browser does not support the audio element.\n",
       "                </audio>\n",
       "              "
      ],
      "text/plain": [
       "<IPython.lib.display.Audio object>"
      ]
     },
     "execution_count": 30,
     "metadata": {},
     "output_type": "execute_result"
    }
   ],
   "source": [
    "import IPython.display as ipd\n",
    "import numpy as np\n",
    "import random\n",
    "\n",
    "rand_int = random.randint(0, len(common_voice_train)-1)\n",
    "\n",
    "print(common_voice_train[rand_int][\"sentence\"])\n",
    "ipd.Audio(data=common_voice_train[rand_int][\"audio\"][\"array\"], autoplay=True, rate=16000)"
   ]
  },
  {
   "cell_type": "code",
   "execution_count": 31,
   "metadata": {
    "colab": {
     "base_uri": "https://localhost:8080/"
    },
    "executionInfo": {
     "elapsed": 22,
     "status": "ok",
     "timestamp": 1641588821176,
     "user": {
      "displayName": "Yurii Paniv",
      "photoUrl": "https://lh3.googleusercontent.com/a/default-user=s64",
      "userId": "13095662915325887123"
     },
     "user_tz": -120
    },
    "id": "1Po2g7YPuRTx",
    "outputId": "ad79ec8a-ab5a-4c52-edfa-a20d0eec2282"
   },
   "outputs": [
    {
     "name": "stdout",
     "output_type": "stream",
     "text": [
      "Target text: от їхало якихось із десять на конях назустріч\n",
      "Input array shape: (73152,)\n",
      "Sampling rate: 16000\n"
     ]
    }
   ],
   "source": [
    "rand_int = random.randint(0, len(common_voice_train)-1)\n",
    "\n",
    "print(\"Target text:\", common_voice_train[rand_int][\"sentence\"])\n",
    "print(\"Input array shape:\", common_voice_train[rand_int][\"audio\"][\"array\"].shape)\n",
    "print(\"Sampling rate:\", common_voice_train[rand_int][\"audio\"][\"sampling_rate\"])"
   ]
  },
  {
   "cell_type": "code",
   "execution_count": 32,
   "metadata": {
    "id": "eJY7I0XAwe9p"
   },
   "outputs": [],
   "source": [
    "def prepare_dataset(batch):\n",
    "    audio = batch[\"audio\"]\n",
    "\n",
    "    # batched output is \"un-batched\"\n",
    "    batch[\"input_values\"] = processor(audio[\"array\"], sampling_rate=audio[\"sampling_rate\"]).input_values[0]\n",
    "    batch[\"input_length\"] = len(batch[\"input_values\"])\n",
    "    \n",
    "    with processor.as_target_processor():\n",
    "        batch[\"labels\"] = processor(batch[\"sentence\"]).input_ids\n",
    "    return batch"
   ]
  },
  {
   "cell_type": "code",
   "execution_count": 33,
   "metadata": {
    "colab": {
     "base_uri": "https://localhost:8080/",
     "height": 87,
     "referenced_widgets": [
      "a29f88f174f8499082fbb36a36c47fa4",
      "efc3bc0c48124ebeb79d245216eaf0fe",
      "d45747150d0b434593a3a7c98399599a",
      "ea73f7deb1c643f7b81de7fb7acaaf1b",
      "18bc63944343440f837cdff76db004fc",
      "9c875952cdd649a5bab87de9bb3f5200",
      "aa329cb93df44a6da6012c7cc49d7489",
      "b39b6e9131ca4ce3b31e84ceb04e1b83",
      "c5eed102ef134a4e8ca41713b82ff6a4",
      "e6e50da6516847878309fdc5c463edb3",
      "a4ae510b4f3845f891a796cf844fc2bb"
     ]
    },
    "executionInfo": {
     "elapsed": 107521,
     "status": "ok",
     "timestamp": 1641588928679,
     "user": {
      "displayName": "Yurii Paniv",
      "photoUrl": "https://lh3.googleusercontent.com/a/default-user=s64",
      "userId": "13095662915325887123"
     },
     "user_tz": -120
    },
    "id": "-np9xYK-wl8q",
    "outputId": "779b4637-0606-4cc8-be3c-16c1c4241e63"
   },
   "outputs": [
    {
     "data": {
      "application/json": {
       "ascii": false,
       "bar_format": null,
       "colour": null,
       "elapsed": 0.00739741325378418,
       "initial": 0,
       "n": 0,
       "ncols": null,
       "nrows": null,
       "postfix": null,
       "prefix": "",
       "rate": null,
       "total": 11463,
       "unit": "ex",
       "unit_divisor": 1000,
       "unit_scale": false
      },
      "application/vnd.jupyter.widget-view+json": {
       "model_id": "c51a283b0cf149d7a84ade53f6eb40d9",
       "version_major": 2,
       "version_minor": 0
      },
      "text/plain": [
       "  0%|          | 0/11463 [00:00<?, ?ex/s]"
      ]
     },
     "metadata": {},
     "output_type": "display_data"
    },
    {
     "data": {
      "application/json": {
       "ascii": false,
       "bar_format": null,
       "colour": null,
       "elapsed": 0.010543107986450195,
       "initial": 0,
       "n": 0,
       "ncols": null,
       "nrows": null,
       "postfix": null,
       "prefix": "",
       "rate": null,
       "total": 6783,
       "unit": "ex",
       "unit_divisor": 1000,
       "unit_scale": false
      },
      "application/vnd.jupyter.widget-view+json": {
       "model_id": "9666ba72472f47db816037cec309e7ed",
       "version_major": 2,
       "version_minor": 0
      },
      "text/plain": [
       "  0%|          | 0/6783 [00:00<?, ?ex/s]"
      ]
     },
     "metadata": {},
     "output_type": "display_data"
    }
   ],
   "source": [
    "common_voice_train = common_voice_train.map(prepare_dataset, remove_columns=common_voice_train.column_names)\n",
    "common_voice_test = common_voice_test.map(prepare_dataset, remove_columns=common_voice_test.column_names)"
   ]
  },
  {
   "cell_type": "code",
   "execution_count": 34,
   "metadata": {
    "id": "tdHfbUJ_09iA"
   },
   "outputs": [],
   "source": [
    "#max_input_length_in_sec = 5.0\n",
    "#common_voice_train = common_voice_train.filter(lambda x: x < max_input_length_in_sec * processor.feature_extractor.sampling_rate, input_columns=[\"input_length\"])"
   ]
  },
  {
   "cell_type": "code",
   "execution_count": 35,
   "metadata": {
    "id": "tborvC9hx88e"
   },
   "outputs": [],
   "source": [
    "import torch\n",
    "\n",
    "from dataclasses import dataclass, field\n",
    "from typing import Any, Dict, List, Optional, Union\n",
    "\n",
    "@dataclass\n",
    "class DataCollatorCTCWithPadding:\n",
    "    \"\"\"\n",
    "    Data collator that will dynamically pad the inputs received.\n",
    "    Args:\n",
    "        processor (:class:`~transformers.Wav2Vec2Processor`)\n",
    "            The processor used for proccessing the data.\n",
    "        padding (:obj:`bool`, :obj:`str` or :class:`~transformers.tokenization_utils_base.PaddingStrategy`, `optional`, defaults to :obj:`True`):\n",
    "            Select a strategy to pad the returned sequences (according to the model's padding side and padding index)\n",
    "            among:\n",
    "            * :obj:`True` or :obj:`'longest'`: Pad to the longest sequence in the batch (or no padding if only a single\n",
    "              sequence if provided).\n",
    "            * :obj:`'max_length'`: Pad to a maximum length specified with the argument :obj:`max_length` or to the\n",
    "              maximum acceptable input length for the model if that argument is not provided.\n",
    "            * :obj:`False` or :obj:`'do_not_pad'` (default): No padding (i.e., can output a batch with sequences of\n",
    "              different lengths).\n",
    "    \"\"\"\n",
    "\n",
    "    processor: Wav2Vec2Processor\n",
    "    padding: Union[bool, str] = True\n",
    "\n",
    "    def __call__(self, features: List[Dict[str, Union[List[int], torch.Tensor]]]) -> Dict[str, torch.Tensor]:\n",
    "        # split inputs and labels since they have to be of different lenghts and need\n",
    "        # different padding methods\n",
    "        input_features = [{\"input_values\": feature[\"input_values\"]} for feature in features]\n",
    "        label_features = [{\"input_ids\": feature[\"labels\"]} for feature in features]\n",
    "\n",
    "        batch = self.processor.pad(\n",
    "            input_features,\n",
    "            padding=self.padding,\n",
    "            return_tensors=\"pt\",\n",
    "        )\n",
    "        with self.processor.as_target_processor():\n",
    "            labels_batch = self.processor.pad(\n",
    "                label_features,\n",
    "                padding=self.padding,\n",
    "                return_tensors=\"pt\",\n",
    "            )\n",
    "\n",
    "        # replace padding with -100 to ignore loss correctly\n",
    "        labels = labels_batch[\"input_ids\"].masked_fill(labels_batch.attention_mask.ne(1), -100)\n",
    "\n",
    "        batch[\"labels\"] = labels\n",
    "\n",
    "        return batch"
   ]
  },
  {
   "cell_type": "code",
   "execution_count": 36,
   "metadata": {
    "id": "lbQf5GuZyQ4_"
   },
   "outputs": [],
   "source": [
    "data_collator = DataCollatorCTCWithPadding(processor=processor, padding=True)"
   ]
  },
  {
   "cell_type": "code",
   "execution_count": 37,
   "metadata": {
    "id": "9Xsux2gmyXso"
   },
   "outputs": [],
   "source": [
    "wer_metric = load_metric(\"wer\")\n",
    "cer_metric = load_metric(\"cer\")\n",
    "metrics = [wer_metric, cer_metric]"
   ]
  },
  {
   "cell_type": "code",
   "execution_count": 38,
   "metadata": {
    "id": "1XZ-kjweyTy_"
   },
   "outputs": [],
   "source": [
    "def compute_metrics(pred):\n",
    "    pred_logits = pred.predictions\n",
    "    pred_ids = np.argmax(pred_logits, axis=-1)\n",
    "\n",
    "    pred.label_ids[pred.label_ids == -100] = processor.tokenizer.pad_token_id\n",
    "\n",
    "    pred_str = processor.batch_decode(pred_ids)\n",
    "    # we do not want to group tokens when computing the metrics\n",
    "    label_str = processor.batch_decode(pred.label_ids, group_tokens=False)\n",
    "\n",
    "    wer = wer_metric.compute(predictions=pred_str, references=label_str)\n",
    "    cer = cer_metric.compute(predictions=pred_str, references=label_str)\n",
    "\n",
    "    return {\"wer\": wer, \"cer\": cer}"
   ]
  },
  {
   "cell_type": "code",
   "execution_count": 39,
   "metadata": {
    "colab": {
     "base_uri": "https://localhost:8080/"
    },
    "executionInfo": {
     "elapsed": 9496,
     "status": "ok",
     "timestamp": 1641588938616,
     "user": {
      "displayName": "Yurii Paniv",
      "photoUrl": "https://lh3.googleusercontent.com/a/default-user=s64",
      "userId": "13095662915325887123"
     },
     "user_tz": -120
    },
    "id": "e7cqAWIayn6w",
    "outputId": "b7b20ce9-e1b2-473f-8032-2a75f98dfa9e"
   },
   "outputs": [
    {
     "name": "stderr",
     "output_type": "stream",
     "text": [
      "Some weights of the model checkpoint at facebook/wav2vec2-xls-r-300m were not used when initializing Wav2Vec2ForCTC: ['quantizer.codevectors', 'project_hid.bias', 'project_q.weight', 'quantizer.weight_proj.weight', 'quantizer.weight_proj.bias', 'project_q.bias', 'project_hid.weight']\n",
      "- This IS expected if you are initializing Wav2Vec2ForCTC from the checkpoint of a model trained on another task or with another architecture (e.g. initializing a BertForSequenceClassification model from a BertForPreTraining model).\n",
      "- This IS NOT expected if you are initializing Wav2Vec2ForCTC from the checkpoint of a model that you expect to be exactly identical (initializing a BertForSequenceClassification model from a BertForSequenceClassification model).\n",
      "Some weights of Wav2Vec2ForCTC were not initialized from the model checkpoint at facebook/wav2vec2-xls-r-300m and are newly initialized: ['lm_head.bias', 'lm_head.weight']\n",
      "You should probably TRAIN this model on a down-stream task to be able to use it for predictions and inference.\n"
     ]
    }
   ],
   "source": [
    "from transformers import Wav2Vec2ForCTC\n",
    "\n",
    "model = Wav2Vec2ForCTC.from_pretrained(\n",
    "    \"facebook/wav2vec2-xls-r-300m\", \n",
    "    attention_dropout=0.3,\n",
    "    hidden_dropout=0.3,\n",
    "    feat_proj_dropout=0.3,\n",
    "    mask_time_prob=0.05,\n",
    "    layerdrop=0.3,\n",
    "    ctc_loss_reduction=\"mean\", \n",
    "    pad_token_id=processor.tokenizer.pad_token_id,\n",
    "    vocab_size=len(processor.tokenizer),\n",
    ")"
   ]
  },
  {
   "cell_type": "code",
   "execution_count": 40,
   "metadata": {
    "id": "oGI8zObtZ3V0"
   },
   "outputs": [
    {
     "name": "stderr",
     "output_type": "stream",
     "text": [
      "/home/robinhad/Projects/Speech/wav2vec2-xls-r-ukrainian/.venv/lib/python3.9/site-packages/transformers/models/wav2vec2/modeling_wav2vec2.py:1618: FutureWarning: The method `freeze_feature_extractor` is deprecated and will be removed in Transformers v5.Please use the equivalent `freeze_feature_encoder` method instead.\n",
      "  warnings.warn(\n"
     ]
    }
   ],
   "source": [
    "model.freeze_feature_extractor()"
   ]
  },
  {
   "cell_type": "code",
   "execution_count": 41,
   "metadata": {
    "id": "KbeKSV7uzGPP"
   },
   "outputs": [],
   "source": [
    "from transformers import TrainingArguments\n",
    "\n",
    "training_args = TrainingArguments(\n",
    "  output_dir=repo_name,\n",
    "  group_by_length=True,\n",
    "  per_device_train_batch_size=16,\n",
    "  gradient_accumulation_steps=6,\n",
    "  eval_accumulation_steps=4,\n",
    "  evaluation_strategy=\"steps\",\n",
    "  num_train_epochs=100,\n",
    "  gradient_checkpointing=True,\n",
    "  fp16=True,\n",
    "  save_steps=400,\n",
    "  eval_steps=400,\n",
    "  logging_steps=400,\n",
    "  learning_rate=3e-4,\n",
    "  warmup_steps=500,\n",
    "  save_total_limit=2,\n",
    "  report_to=\"tensorboard\"\n",
    ")"
   ]
  },
  {
   "cell_type": "code",
   "execution_count": 43,
   "metadata": {
    "colab": {
     "base_uri": "https://localhost:8080/"
    },
    "executionInfo": {
     "elapsed": 11063,
     "status": "ok",
     "timestamp": 1641588949674,
     "user": {
      "displayName": "Yurii Paniv",
      "photoUrl": "https://lh3.googleusercontent.com/a/default-user=s64",
      "userId": "13095662915325887123"
     },
     "user_tz": -120
    },
    "id": "rY7vBmFCPFgC",
    "outputId": "2e89d5ea-5b25-44bf-8492-a6220b0b1c38"
   },
   "outputs": [
    {
     "name": "stderr",
     "output_type": "stream",
     "text": [
      "Using cuda_amp half precision backend\n"
     ]
    }
   ],
   "source": [
    "from transformers import Trainer\n",
    "\n",
    "trainer = Trainer(\n",
    "    model=model,\n",
    "    data_collator=data_collator,\n",
    "    args=training_args,\n",
    "    compute_metrics=compute_metrics,\n",
    "    train_dataset=common_voice_train,\n",
    "    eval_dataset=common_voice_test,\n",
    "    tokenizer=processor.feature_extractor,\n",
    ")"
   ]
  },
  {
   "cell_type": "code",
   "execution_count": 44,
   "metadata": {
    "colab": {
     "base_uri": "https://localhost:8080/",
     "height": 409
    },
    "id": "9fRr9TG5pGBl",
    "outputId": "c2a7c797-326c-4bd2-b167-9d2f41d77def"
   },
   "outputs": [
    {
     "name": "stderr",
     "output_type": "stream",
     "text": [
      "The following columns in the training set don't have a corresponding argument in `Wav2Vec2ForCTC.forward` and have been ignored: input_length. If input_length are not expected by `Wav2Vec2ForCTC.forward`,  you can safely ignore this message.\n",
      "/home/robinhad/Projects/Speech/wav2vec2-xls-r-ukrainian/.venv/lib/python3.9/site-packages/transformers/optimization.py:306: FutureWarning: This implementation of AdamW is deprecated and will be removed in a future version. Use the PyTorch implementation torch.optim.AdamW instead, or set `no_deprecation_warning=True` to disable this warning\n",
      "  warnings.warn(\n",
      "***** Running training *****\n",
      "  Num examples = 11463\n",
      "  Num Epochs = 100\n",
      "  Instantaneous batch size per device = 16\n",
      "  Total train batch size (w. parallel, distributed & accumulation) = 96\n",
      "  Gradient Accumulation steps = 6\n",
      "  Total optimization steps = 11900\n"
     ]
    },
    {
     "data": {
      "application/json": {
       "ascii": false,
       "bar_format": null,
       "colour": null,
       "elapsed": 0.007272958755493164,
       "initial": 0,
       "n": 0,
       "ncols": null,
       "nrows": null,
       "postfix": null,
       "prefix": "",
       "rate": null,
       "total": 11900,
       "unit": "it",
       "unit_divisor": 1000,
       "unit_scale": false
      },
      "application/vnd.jupyter.widget-view+json": {
       "model_id": "deebda57b25f4f95b4915d7a8d479a62",
       "version_major": 2,
       "version_minor": 0
      },
      "text/plain": [
       "  0%|          | 0/11900 [00:00<?, ?it/s]"
      ]
     },
     "metadata": {},
     "output_type": "display_data"
    },
    {
     "name": "stderr",
     "output_type": "stream",
     "text": [
      "The following columns in the evaluation set don't have a corresponding argument in `Wav2Vec2ForCTC.forward` and have been ignored: input_length. If input_length are not expected by `Wav2Vec2ForCTC.forward`,  you can safely ignore this message.\n",
      "***** Running Evaluation *****\n",
      "  Num examples = 6783\n",
      "  Batch size = 8\n"
     ]
    },
    {
     "name": "stdout",
     "output_type": "stream",
     "text": [
      "{'loss': 5.4923, 'learning_rate': 0.0002388, 'epoch': 3.36}\n"
     ]
    },
    {
     "data": {
      "application/json": {
       "ascii": false,
       "bar_format": null,
       "colour": null,
       "elapsed": 0.0072269439697265625,
       "initial": 0,
       "n": 0,
       "ncols": null,
       "nrows": null,
       "postfix": null,
       "prefix": "",
       "rate": null,
       "total": 848,
       "unit": "it",
       "unit_divisor": 1000,
       "unit_scale": false
      },
      "application/vnd.jupyter.widget-view+json": {
       "model_id": "19ecc3e6ca434f5789950aeaad863a08",
       "version_major": 2,
       "version_minor": 0
      },
      "text/plain": [
       "  0%|          | 0/848 [00:00<?, ?it/s]"
      ]
     },
     "metadata": {},
     "output_type": "display_data"
    },
    {
     "name": "stderr",
     "output_type": "stream",
     "text": [
      "Saving model checkpoint to wav2vec2-xls-r-300m-uk/checkpoint-400\n",
      "Configuration saved in wav2vec2-xls-r-300m-uk/checkpoint-400/config.json\n"
     ]
    },
    {
     "name": "stdout",
     "output_type": "stream",
     "text": [
      "{'eval_loss': 3.336439609527588, 'eval_wer': 1.0, 'eval_cer': 1.0, 'eval_runtime': 211.1144, 'eval_samples_per_second': 32.13, 'eval_steps_per_second': 4.017, 'epoch': 3.36}\n"
     ]
    },
    {
     "name": "stderr",
     "output_type": "stream",
     "text": [
      "Model weights saved in wav2vec2-xls-r-300m-uk/checkpoint-400/pytorch_model.bin\n",
      "Feature extractor saved in wav2vec2-xls-r-300m-uk/checkpoint-400/preprocessor_config.json\n",
      "Deleting older checkpoint [wav2vec2-xls-r-300m-uk/checkpoint-6800] due to args.save_total_limit\n",
      "The following columns in the evaluation set don't have a corresponding argument in `Wav2Vec2ForCTC.forward` and have been ignored: input_length. If input_length are not expected by `Wav2Vec2ForCTC.forward`,  you can safely ignore this message.\n",
      "***** Running Evaluation *****\n",
      "  Num examples = 6783\n",
      "  Batch size = 8\n"
     ]
    },
    {
     "name": "stdout",
     "output_type": "stream",
     "text": [
      "{'loss': 3.3451, 'learning_rate': 0.00029215789473684205, 'epoch': 6.72}\n"
     ]
    },
    {
     "data": {
      "application/json": {
       "ascii": false,
       "bar_format": null,
       "colour": null,
       "elapsed": 0.007369041442871094,
       "initial": 0,
       "n": 0,
       "ncols": null,
       "nrows": null,
       "postfix": null,
       "prefix": "",
       "rate": null,
       "total": 848,
       "unit": "it",
       "unit_divisor": 1000,
       "unit_scale": false
      },
      "application/vnd.jupyter.widget-view+json": {
       "model_id": "775a551a1cec442a965bada0af3b83e6",
       "version_major": 2,
       "version_minor": 0
      },
      "text/plain": [
       "  0%|          | 0/848 [00:00<?, ?it/s]"
      ]
     },
     "metadata": {},
     "output_type": "display_data"
    },
    {
     "name": "stderr",
     "output_type": "stream",
     "text": [
      "Saving model checkpoint to wav2vec2-xls-r-300m-uk/checkpoint-800\n",
      "Configuration saved in wav2vec2-xls-r-300m-uk/checkpoint-800/config.json\n"
     ]
    },
    {
     "name": "stdout",
     "output_type": "stream",
     "text": [
      "{'eval_loss': 3.3383235931396484, 'eval_wer': 1.0, 'eval_cer': 1.0, 'eval_runtime': 211.2077, 'eval_samples_per_second': 32.115, 'eval_steps_per_second': 4.015, 'epoch': 6.72}\n"
     ]
    },
    {
     "name": "stderr",
     "output_type": "stream",
     "text": [
      "Model weights saved in wav2vec2-xls-r-300m-uk/checkpoint-800/pytorch_model.bin\n",
      "Feature extractor saved in wav2vec2-xls-r-300m-uk/checkpoint-800/preprocessor_config.json\n",
      "Deleting older checkpoint [wav2vec2-xls-r-300m-uk/checkpoint-7200] due to args.save_total_limit\n",
      "The following columns in the evaluation set don't have a corresponding argument in `Wav2Vec2ForCTC.forward` and have been ignored: input_length. If input_length are not expected by `Wav2Vec2ForCTC.forward`,  you can safely ignore this message.\n",
      "***** Running Evaluation *****\n",
      "  Num examples = 6783\n",
      "  Batch size = 8\n"
     ]
    },
    {
     "name": "stdout",
     "output_type": "stream",
     "text": [
      "{'loss': 3.329, 'learning_rate': 0.00028163157894736836, 'epoch': 10.08}\n"
     ]
    },
    {
     "data": {
      "application/json": {
       "ascii": false,
       "bar_format": null,
       "colour": null,
       "elapsed": 0.007276296615600586,
       "initial": 0,
       "n": 0,
       "ncols": null,
       "nrows": null,
       "postfix": null,
       "prefix": "",
       "rate": null,
       "total": 848,
       "unit": "it",
       "unit_divisor": 1000,
       "unit_scale": false
      },
      "application/vnd.jupyter.widget-view+json": {
       "model_id": "20b67f8d1d164f4ea9f7668d619e6e7b",
       "version_major": 2,
       "version_minor": 0
      },
      "text/plain": [
       "  0%|          | 0/848 [00:00<?, ?it/s]"
      ]
     },
     "metadata": {},
     "output_type": "display_data"
    },
    {
     "name": "stderr",
     "output_type": "stream",
     "text": [
      "Saving model checkpoint to wav2vec2-xls-r-300m-uk/checkpoint-1200\n",
      "Configuration saved in wav2vec2-xls-r-300m-uk/checkpoint-1200/config.json\n"
     ]
    },
    {
     "name": "stdout",
     "output_type": "stream",
     "text": [
      "{'eval_loss': 3.3315727710723877, 'eval_wer': 1.0, 'eval_cer': 1.0, 'eval_runtime': 211.0671, 'eval_samples_per_second': 32.137, 'eval_steps_per_second': 4.018, 'epoch': 10.08}\n"
     ]
    },
    {
     "name": "stderr",
     "output_type": "stream",
     "text": [
      "Model weights saved in wav2vec2-xls-r-300m-uk/checkpoint-1200/pytorch_model.bin\n",
      "Feature extractor saved in wav2vec2-xls-r-300m-uk/checkpoint-1200/preprocessor_config.json\n",
      "Deleting older checkpoint [wav2vec2-xls-r-300m-uk/checkpoint-400] due to args.save_total_limit\n",
      "The following columns in the evaluation set don't have a corresponding argument in `Wav2Vec2ForCTC.forward` and have been ignored: input_length. If input_length are not expected by `Wav2Vec2ForCTC.forward`,  you can safely ignore this message.\n",
      "***** Running Evaluation *****\n",
      "  Num examples = 6783\n",
      "  Batch size = 8\n"
     ]
    },
    {
     "name": "stdout",
     "output_type": "stream",
     "text": [
      "{'loss': 3.1437, 'learning_rate': 0.00027110526315789473, 'epoch': 13.44}\n"
     ]
    },
    {
     "data": {
      "application/json": {
       "ascii": false,
       "bar_format": null,
       "colour": null,
       "elapsed": 0.006963014602661133,
       "initial": 0,
       "n": 0,
       "ncols": null,
       "nrows": null,
       "postfix": null,
       "prefix": "",
       "rate": null,
       "total": 848,
       "unit": "it",
       "unit_divisor": 1000,
       "unit_scale": false
      },
      "application/vnd.jupyter.widget-view+json": {
       "model_id": "70c7241390304e4888951e93cdc4ca41",
       "version_major": 2,
       "version_minor": 0
      },
      "text/plain": [
       "  0%|          | 0/848 [00:00<?, ?it/s]"
      ]
     },
     "metadata": {},
     "output_type": "display_data"
    },
    {
     "name": "stderr",
     "output_type": "stream",
     "text": [
      "Saving model checkpoint to wav2vec2-xls-r-300m-uk/checkpoint-1600\n",
      "Configuration saved in wav2vec2-xls-r-300m-uk/checkpoint-1600/config.json\n"
     ]
    },
    {
     "name": "stdout",
     "output_type": "stream",
     "text": [
      "{'eval_loss': 2.463456392288208, 'eval_wer': 0.9999594238182187, 'eval_cer': 0.9103366773973774, 'eval_runtime': 208.2248, 'eval_samples_per_second': 32.575, 'eval_steps_per_second': 4.073, 'epoch': 13.44}\n"
     ]
    },
    {
     "name": "stderr",
     "output_type": "stream",
     "text": [
      "Model weights saved in wav2vec2-xls-r-300m-uk/checkpoint-1600/pytorch_model.bin\n",
      "Feature extractor saved in wav2vec2-xls-r-300m-uk/checkpoint-1600/preprocessor_config.json\n",
      "Deleting older checkpoint [wav2vec2-xls-r-300m-uk/checkpoint-800] due to args.save_total_limit\n",
      "The following columns in the evaluation set don't have a corresponding argument in `Wav2Vec2ForCTC.forward` and have been ignored: input_length. If input_length are not expected by `Wav2Vec2ForCTC.forward`,  you can safely ignore this message.\n",
      "***** Running Evaluation *****\n",
      "  Num examples = 6783\n",
      "  Batch size = 8\n"
     ]
    },
    {
     "name": "stdout",
     "output_type": "stream",
     "text": [
      "{'loss': 1.5745, 'learning_rate': 0.00026057894736842104, 'epoch': 16.8}\n"
     ]
    },
    {
     "data": {
      "application/json": {
       "ascii": false,
       "bar_format": null,
       "colour": null,
       "elapsed": 0.0073626041412353516,
       "initial": 0,
       "n": 0,
       "ncols": null,
       "nrows": null,
       "postfix": null,
       "prefix": "",
       "rate": null,
       "total": 848,
       "unit": "it",
       "unit_divisor": 1000,
       "unit_scale": false
      },
      "application/vnd.jupyter.widget-view+json": {
       "model_id": "a78f719c4e7c4b1d974da356c2390432",
       "version_major": 2,
       "version_minor": 0
      },
      "text/plain": [
       "  0%|          | 0/848 [00:00<?, ?it/s]"
      ]
     },
     "metadata": {},
     "output_type": "display_data"
    },
    {
     "name": "stderr",
     "output_type": "stream",
     "text": [
      "Saving model checkpoint to wav2vec2-xls-r-300m-uk/checkpoint-2000\n",
      "Configuration saved in wav2vec2-xls-r-300m-uk/checkpoint-2000/config.json\n"
     ]
    },
    {
     "name": "stdout",
     "output_type": "stream",
     "text": [
      "{'eval_loss': 1.1160292625427246, 'eval_wer': 0.9768512882937715, 'eval_cer': 0.36920856433421695, 'eval_runtime': 211.5684, 'eval_samples_per_second': 32.061, 'eval_steps_per_second': 4.008, 'epoch': 16.8}\n"
     ]
    },
    {
     "name": "stderr",
     "output_type": "stream",
     "text": [
      "Model weights saved in wav2vec2-xls-r-300m-uk/checkpoint-2000/pytorch_model.bin\n",
      "Feature extractor saved in wav2vec2-xls-r-300m-uk/checkpoint-2000/preprocessor_config.json\n",
      "Deleting older checkpoint [wav2vec2-xls-r-300m-uk/checkpoint-1200] due to args.save_total_limit\n",
      "The following columns in the evaluation set don't have a corresponding argument in `Wav2Vec2ForCTC.forward` and have been ignored: input_length. If input_length are not expected by `Wav2Vec2ForCTC.forward`,  you can safely ignore this message.\n",
      "***** Running Evaluation *****\n",
      "  Num examples = 6783\n",
      "  Batch size = 8\n"
     ]
    },
    {
     "name": "stdout",
     "output_type": "stream",
     "text": [
      "{'loss': 1.0611, 'learning_rate': 0.00025005263157894735, 'epoch': 20.17}\n"
     ]
    },
    {
     "data": {
      "application/json": {
       "ascii": false,
       "bar_format": null,
       "colour": null,
       "elapsed": 0.0070798397064208984,
       "initial": 0,
       "n": 0,
       "ncols": null,
       "nrows": null,
       "postfix": null,
       "prefix": "",
       "rate": null,
       "total": 848,
       "unit": "it",
       "unit_divisor": 1000,
       "unit_scale": false
      },
      "application/vnd.jupyter.widget-view+json": {
       "model_id": "b30e2ef5c27c4c71ad0d7027bfef821d",
       "version_major": 2,
       "version_minor": 0
      },
      "text/plain": [
       "  0%|          | 0/848 [00:00<?, ?it/s]"
      ]
     },
     "metadata": {},
     "output_type": "display_data"
    },
    {
     "name": "stderr",
     "output_type": "stream",
     "text": [
      "Saving model checkpoint to wav2vec2-xls-r-300m-uk/checkpoint-2400\n",
      "Configuration saved in wav2vec2-xls-r-300m-uk/checkpoint-2400/config.json\n"
     ]
    },
    {
     "name": "stdout",
     "output_type": "stream",
     "text": [
      "{'eval_loss': 0.9386810064315796, 'eval_wer': 0.891316697098803, 'eval_cer': 0.28140508810053505, 'eval_runtime': 210.3288, 'eval_samples_per_second': 32.25, 'eval_steps_per_second': 4.032, 'epoch': 20.17}\n"
     ]
    },
    {
     "name": "stderr",
     "output_type": "stream",
     "text": [
      "Model weights saved in wav2vec2-xls-r-300m-uk/checkpoint-2400/pytorch_model.bin\n",
      "Feature extractor saved in wav2vec2-xls-r-300m-uk/checkpoint-2400/preprocessor_config.json\n",
      "Deleting older checkpoint [wav2vec2-xls-r-300m-uk/checkpoint-1600] due to args.save_total_limit\n",
      "The following columns in the evaluation set don't have a corresponding argument in `Wav2Vec2ForCTC.forward` and have been ignored: input_length. If input_length are not expected by `Wav2Vec2ForCTC.forward`,  you can safely ignore this message.\n",
      "***** Running Evaluation *****\n",
      "  Num examples = 6783\n",
      "  Batch size = 8\n"
     ]
    },
    {
     "name": "stdout",
     "output_type": "stream",
     "text": [
      "{'loss': 0.8741, 'learning_rate': 0.00023952631578947364, 'epoch': 23.53}\n"
     ]
    },
    {
     "data": {
      "application/json": {
       "ascii": false,
       "bar_format": null,
       "colour": null,
       "elapsed": 0.0073435306549072266,
       "initial": 0,
       "n": 0,
       "ncols": null,
       "nrows": null,
       "postfix": null,
       "prefix": "",
       "rate": null,
       "total": 848,
       "unit": "it",
       "unit_divisor": 1000,
       "unit_scale": false
      },
      "application/vnd.jupyter.widget-view+json": {
       "model_id": "b340f47813b74d458a3e18fb15da89be",
       "version_major": 2,
       "version_minor": 0
      },
      "text/plain": [
       "  0%|          | 0/848 [00:00<?, ?it/s]"
      ]
     },
     "metadata": {},
     "output_type": "display_data"
    },
    {
     "name": "stderr",
     "output_type": "stream",
     "text": [
      "Saving model checkpoint to wav2vec2-xls-r-300m-uk/checkpoint-2800\n",
      "Configuration saved in wav2vec2-xls-r-300m-uk/checkpoint-2800/config.json\n"
     ]
    },
    {
     "name": "stdout",
     "output_type": "stream",
     "text": [
      "{'eval_loss': 0.9212636351585388, 'eval_wer': 0.8704402515723271, 'eval_cer': 0.26904808800689695, 'eval_runtime': 212.3022, 'eval_samples_per_second': 31.95, 'eval_steps_per_second': 3.994, 'epoch': 23.53}\n"
     ]
    },
    {
     "name": "stderr",
     "output_type": "stream",
     "text": [
      "Model weights saved in wav2vec2-xls-r-300m-uk/checkpoint-2800/pytorch_model.bin\n",
      "Feature extractor saved in wav2vec2-xls-r-300m-uk/checkpoint-2800/preprocessor_config.json\n",
      "Deleting older checkpoint [wav2vec2-xls-r-300m-uk/checkpoint-2000] due to args.save_total_limit\n",
      "The following columns in the evaluation set don't have a corresponding argument in `Wav2Vec2ForCTC.forward` and have been ignored: input_length. If input_length are not expected by `Wav2Vec2ForCTC.forward`,  you can safely ignore this message.\n",
      "***** Running Evaluation *****\n",
      "  Num examples = 6783\n",
      "  Batch size = 8\n"
     ]
    },
    {
     "name": "stdout",
     "output_type": "stream",
     "text": [
      "{'loss': 0.7685, 'learning_rate': 0.00022899999999999998, 'epoch': 26.89}\n"
     ]
    },
    {
     "data": {
      "application/json": {
       "ascii": false,
       "bar_format": null,
       "colour": null,
       "elapsed": 0.007165431976318359,
       "initial": 0,
       "n": 0,
       "ncols": null,
       "nrows": null,
       "postfix": null,
       "prefix": "",
       "rate": null,
       "total": 848,
       "unit": "it",
       "unit_divisor": 1000,
       "unit_scale": false
      },
      "application/vnd.jupyter.widget-view+json": {
       "model_id": "a190b8f6eb8e434ea38065c7331ca229",
       "version_major": 2,
       "version_minor": 0
      },
      "text/plain": [
       "  0%|          | 0/848 [00:00<?, ?it/s]"
      ]
     },
     "metadata": {},
     "output_type": "display_data"
    },
    {
     "name": "stderr",
     "output_type": "stream",
     "text": [
      "Saving model checkpoint to wav2vec2-xls-r-300m-uk/checkpoint-3200\n",
      "Configuration saved in wav2vec2-xls-r-300m-uk/checkpoint-3200/config.json\n"
     ]
    },
    {
     "name": "stdout",
     "output_type": "stream",
     "text": [
      "{'eval_loss': 0.8420816659927368, 'eval_wer': 0.8330898762426455, 'eval_cer': 0.24242257905154294, 'eval_runtime': 208.9367, 'eval_samples_per_second': 32.464, 'eval_steps_per_second': 4.059, 'epoch': 26.89}\n"
     ]
    },
    {
     "name": "stderr",
     "output_type": "stream",
     "text": [
      "Model weights saved in wav2vec2-xls-r-300m-uk/checkpoint-3200/pytorch_model.bin\n",
      "Feature extractor saved in wav2vec2-xls-r-300m-uk/checkpoint-3200/preprocessor_config.json\n",
      "Deleting older checkpoint [wav2vec2-xls-r-300m-uk/checkpoint-2400] due to args.save_total_limit\n",
      "The following columns in the evaluation set don't have a corresponding argument in `Wav2Vec2ForCTC.forward` and have been ignored: input_length. If input_length are not expected by `Wav2Vec2ForCTC.forward`,  you can safely ignore this message.\n",
      "***** Running Evaluation *****\n",
      "  Num examples = 6783\n",
      "  Batch size = 8\n"
     ]
    },
    {
     "name": "stdout",
     "output_type": "stream",
     "text": [
      "{'loss': 0.6913, 'learning_rate': 0.0002184736842105263, 'epoch': 30.25}\n"
     ]
    },
    {
     "data": {
      "application/json": {
       "ascii": false,
       "bar_format": null,
       "colour": null,
       "elapsed": 0.007306575775146484,
       "initial": 0,
       "n": 0,
       "ncols": null,
       "nrows": null,
       "postfix": null,
       "prefix": "",
       "rate": null,
       "total": 848,
       "unit": "it",
       "unit_divisor": 1000,
       "unit_scale": false
      },
      "application/vnd.jupyter.widget-view+json": {
       "model_id": "99146f2067db4c7e80bc098c573138de",
       "version_major": 2,
       "version_minor": 0
      },
      "text/plain": [
       "  0%|          | 0/848 [00:00<?, ?it/s]"
      ]
     },
     "metadata": {},
     "output_type": "display_data"
    },
    {
     "name": "stderr",
     "output_type": "stream",
     "text": [
      "Saving model checkpoint to wav2vec2-xls-r-300m-uk/checkpoint-3600\n",
      "Configuration saved in wav2vec2-xls-r-300m-uk/checkpoint-3600/config.json\n"
     ]
    },
    {
     "name": "stdout",
     "output_type": "stream",
     "text": [
      "{'eval_loss': 0.8760627508163452, 'eval_wer': 0.80908906471901, 'eval_cer': 0.23088894844415456, 'eval_runtime': 211.4392, 'eval_samples_per_second': 32.08, 'eval_steps_per_second': 4.011, 'epoch': 30.25}\n"
     ]
    },
    {
     "name": "stderr",
     "output_type": "stream",
     "text": [
      "Model weights saved in wav2vec2-xls-r-300m-uk/checkpoint-3600/pytorch_model.bin\n",
      "Feature extractor saved in wav2vec2-xls-r-300m-uk/checkpoint-3600/preprocessor_config.json\n",
      "Deleting older checkpoint [wav2vec2-xls-r-300m-uk/checkpoint-2800] due to args.save_total_limit\n",
      "The following columns in the evaluation set don't have a corresponding argument in `Wav2Vec2ForCTC.forward` and have been ignored: input_length. If input_length are not expected by `Wav2Vec2ForCTC.forward`,  you can safely ignore this message.\n",
      "***** Running Evaluation *****\n",
      "  Num examples = 6783\n",
      "  Batch size = 8\n"
     ]
    },
    {
     "name": "stdout",
     "output_type": "stream",
     "text": [
      "{'loss': 0.6387, 'learning_rate': 0.0002079473684210526, 'epoch': 33.61}\n"
     ]
    },
    {
     "data": {
      "application/json": {
       "ascii": false,
       "bar_format": null,
       "colour": null,
       "elapsed": 0.007359981536865234,
       "initial": 0,
       "n": 0,
       "ncols": null,
       "nrows": null,
       "postfix": null,
       "prefix": "",
       "rate": null,
       "total": 848,
       "unit": "it",
       "unit_divisor": 1000,
       "unit_scale": false
      },
      "application/vnd.jupyter.widget-view+json": {
       "model_id": "5cdc1f646ea4449c884719317058ad6d",
       "version_major": 2,
       "version_minor": 0
      },
      "text/plain": [
       "  0%|          | 0/848 [00:00<?, ?it/s]"
      ]
     },
     "metadata": {},
     "output_type": "display_data"
    },
    {
     "name": "stderr",
     "output_type": "stream",
     "text": [
      "Saving model checkpoint to wav2vec2-xls-r-300m-uk/checkpoint-4000\n",
      "Configuration saved in wav2vec2-xls-r-300m-uk/checkpoint-4000/config.json\n"
     ]
    },
    {
     "name": "stdout",
     "output_type": "stream",
     "text": [
      "{'eval_loss': 0.7959503531455994, 'eval_wer': 0.7825725299249341, 'eval_cer': 0.21715966587343358, 'eval_runtime': 212.6087, 'eval_samples_per_second': 31.904, 'eval_steps_per_second': 3.989, 'epoch': 33.61}\n"
     ]
    },
    {
     "name": "stderr",
     "output_type": "stream",
     "text": [
      "Model weights saved in wav2vec2-xls-r-300m-uk/checkpoint-4000/pytorch_model.bin\n",
      "Feature extractor saved in wav2vec2-xls-r-300m-uk/checkpoint-4000/preprocessor_config.json\n",
      "Deleting older checkpoint [wav2vec2-xls-r-300m-uk/checkpoint-3200] due to args.save_total_limit\n",
      "The following columns in the evaluation set don't have a corresponding argument in `Wav2Vec2ForCTC.forward` and have been ignored: input_length. If input_length are not expected by `Wav2Vec2ForCTC.forward`,  you can safely ignore this message.\n",
      "***** Running Evaluation *****\n",
      "  Num examples = 6783\n",
      "  Batch size = 8\n"
     ]
    },
    {
     "name": "stdout",
     "output_type": "stream",
     "text": [
      "{'loss': 0.5837, 'learning_rate': 0.00019742105263157892, 'epoch': 36.97}\n"
     ]
    },
    {
     "data": {
      "application/json": {
       "ascii": false,
       "bar_format": null,
       "colour": null,
       "elapsed": 0.007372379302978516,
       "initial": 0,
       "n": 0,
       "ncols": null,
       "nrows": null,
       "postfix": null,
       "prefix": "",
       "rate": null,
       "total": 848,
       "unit": "it",
       "unit_divisor": 1000,
       "unit_scale": false
      },
      "application/vnd.jupyter.widget-view+json": {
       "model_id": "6a1d3419c50d409c9bc2b6b239bda3b5",
       "version_major": 2,
       "version_minor": 0
      },
      "text/plain": [
       "  0%|          | 0/848 [00:00<?, ?it/s]"
      ]
     },
     "metadata": {},
     "output_type": "display_data"
    },
    {
     "name": "stderr",
     "output_type": "stream",
     "text": [
      "Saving model checkpoint to wav2vec2-xls-r-300m-uk/checkpoint-4400\n",
      "Configuration saved in wav2vec2-xls-r-300m-uk/checkpoint-4400/config.json\n"
     ]
    },
    {
     "name": "stdout",
     "output_type": "stream",
     "text": [
      "{'eval_loss': 0.8115484714508057, 'eval_wer': 0.7656725502130249, 'eval_cer': 0.2103047112879113, 'eval_runtime': 213.1592, 'eval_samples_per_second': 31.821, 'eval_steps_per_second': 3.978, 'epoch': 36.97}\n"
     ]
    },
    {
     "name": "stderr",
     "output_type": "stream",
     "text": [
      "Model weights saved in wav2vec2-xls-r-300m-uk/checkpoint-4400/pytorch_model.bin\n",
      "Feature extractor saved in wav2vec2-xls-r-300m-uk/checkpoint-4400/preprocessor_config.json\n",
      "Deleting older checkpoint [wav2vec2-xls-r-300m-uk/checkpoint-3600] due to args.save_total_limit\n",
      "The following columns in the evaluation set don't have a corresponding argument in `Wav2Vec2ForCTC.forward` and have been ignored: input_length. If input_length are not expected by `Wav2Vec2ForCTC.forward`,  you can safely ignore this message.\n",
      "***** Running Evaluation *****\n",
      "  Num examples = 6783\n",
      "  Batch size = 8\n"
     ]
    },
    {
     "name": "stdout",
     "output_type": "stream",
     "text": [
      "{'loss': 0.5456, 'learning_rate': 0.00018689473684210524, 'epoch': 40.33}\n"
     ]
    },
    {
     "data": {
      "application/json": {
       "ascii": false,
       "bar_format": null,
       "colour": null,
       "elapsed": 0.007362842559814453,
       "initial": 0,
       "n": 0,
       "ncols": null,
       "nrows": null,
       "postfix": null,
       "prefix": "",
       "rate": null,
       "total": 848,
       "unit": "it",
       "unit_divisor": 1000,
       "unit_scale": false
      },
      "application/vnd.jupyter.widget-view+json": {
       "model_id": "9844a70e8695435094b62a58a5301f28",
       "version_major": 2,
       "version_minor": 0
      },
      "text/plain": [
       "  0%|          | 0/848 [00:00<?, ?it/s]"
      ]
     },
     "metadata": {},
     "output_type": "display_data"
    },
    {
     "name": "stderr",
     "output_type": "stream",
     "text": [
      "Saving model checkpoint to wav2vec2-xls-r-300m-uk/checkpoint-4800\n",
      "Configuration saved in wav2vec2-xls-r-300m-uk/checkpoint-4800/config.json\n"
     ]
    },
    {
     "name": "stdout",
     "output_type": "stream",
     "text": [
      "{'eval_loss': 0.8416911959648132, 'eval_wer': 0.7579833637654697, 'eval_cer': 0.21142836846914626, 'eval_runtime': 212.6331, 'eval_samples_per_second': 31.9, 'eval_steps_per_second': 3.988, 'epoch': 40.33}\n"
     ]
    },
    {
     "name": "stderr",
     "output_type": "stream",
     "text": [
      "Model weights saved in wav2vec2-xls-r-300m-uk/checkpoint-4800/pytorch_model.bin\n",
      "Feature extractor saved in wav2vec2-xls-r-300m-uk/checkpoint-4800/preprocessor_config.json\n",
      "Deleting older checkpoint [wav2vec2-xls-r-300m-uk/checkpoint-4000] due to args.save_total_limit\n",
      "The following columns in the evaluation set don't have a corresponding argument in `Wav2Vec2ForCTC.forward` and have been ignored: input_length. If input_length are not expected by `Wav2Vec2ForCTC.forward`,  you can safely ignore this message.\n",
      "***** Running Evaluation *****\n",
      "  Num examples = 6783\n",
      "  Batch size = 8\n"
     ]
    },
    {
     "name": "stdout",
     "output_type": "stream",
     "text": [
      "{'loss': 0.5179, 'learning_rate': 0.00017636842105263155, 'epoch': 43.69}\n"
     ]
    },
    {
     "data": {
      "application/json": {
       "ascii": false,
       "bar_format": null,
       "colour": null,
       "elapsed": 0.006958484649658203,
       "initial": 0,
       "n": 0,
       "ncols": null,
       "nrows": null,
       "postfix": null,
       "prefix": "",
       "rate": null,
       "total": 848,
       "unit": "it",
       "unit_divisor": 1000,
       "unit_scale": false
      },
      "application/vnd.jupyter.widget-view+json": {
       "model_id": "e5e46905e0f04ab6a6129ba61a1d80ba",
       "version_major": 2,
       "version_minor": 0
      },
      "text/plain": [
       "  0%|          | 0/848 [00:00<?, ?it/s]"
      ]
     },
     "metadata": {},
     "output_type": "display_data"
    },
    {
     "name": "stderr",
     "output_type": "stream",
     "text": [
      "Saving model checkpoint to wav2vec2-xls-r-300m-uk/checkpoint-5200\n",
      "Configuration saved in wav2vec2-xls-r-300m-uk/checkpoint-5200/config.json\n"
     ]
    },
    {
     "name": "stdout",
     "output_type": "stream",
     "text": [
      "{'eval_loss': 0.8144774436950684, 'eval_wer': 0.7585311422195171, 'eval_cer': 0.20418917479004078, 'eval_runtime': 209.912, 'eval_samples_per_second': 32.314, 'eval_steps_per_second': 4.04, 'epoch': 43.69}\n"
     ]
    },
    {
     "name": "stderr",
     "output_type": "stream",
     "text": [
      "Model weights saved in wav2vec2-xls-r-300m-uk/checkpoint-5200/pytorch_model.bin\n",
      "Feature extractor saved in wav2vec2-xls-r-300m-uk/checkpoint-5200/preprocessor_config.json\n",
      "Deleting older checkpoint [wav2vec2-xls-r-300m-uk/checkpoint-4400] due to args.save_total_limit\n",
      "The following columns in the evaluation set don't have a corresponding argument in `Wav2Vec2ForCTC.forward` and have been ignored: input_length. If input_length are not expected by `Wav2Vec2ForCTC.forward`,  you can safely ignore this message.\n",
      "***** Running Evaluation *****\n",
      "  Num examples = 6783\n",
      "  Batch size = 8\n"
     ]
    },
    {
     "name": "stdout",
     "output_type": "stream",
     "text": [
      "{'loss': 0.4861, 'learning_rate': 0.00016584210526315787, 'epoch': 47.06}\n"
     ]
    },
    {
     "data": {
      "application/json": {
       "ascii": false,
       "bar_format": null,
       "colour": null,
       "elapsed": 0.007211446762084961,
       "initial": 0,
       "n": 0,
       "ncols": null,
       "nrows": null,
       "postfix": null,
       "prefix": "",
       "rate": null,
       "total": 848,
       "unit": "it",
       "unit_divisor": 1000,
       "unit_scale": false
      },
      "application/vnd.jupyter.widget-view+json": {
       "model_id": "eb38365a17bb4efab96f3dd48a145d42",
       "version_major": 2,
       "version_minor": 0
      },
      "text/plain": [
       "  0%|          | 0/848 [00:00<?, ?it/s]"
      ]
     },
     "metadata": {},
     "output_type": "display_data"
    },
    {
     "name": "stderr",
     "output_type": "stream",
     "text": [
      "Saving model checkpoint to wav2vec2-xls-r-300m-uk/checkpoint-5600\n",
      "Configuration saved in wav2vec2-xls-r-300m-uk/checkpoint-5600/config.json\n"
     ]
    },
    {
     "name": "stdout",
     "output_type": "stream",
     "text": [
      "{'eval_loss': 0.8354366421699524, 'eval_wer': 0.739216879691621, 'eval_cer': 0.20429572848826133, 'eval_runtime': 208.2486, 'eval_samples_per_second': 32.572, 'eval_steps_per_second': 4.072, 'epoch': 47.06}\n"
     ]
    },
    {
     "name": "stderr",
     "output_type": "stream",
     "text": [
      "Model weights saved in wav2vec2-xls-r-300m-uk/checkpoint-5600/pytorch_model.bin\n",
      "Feature extractor saved in wav2vec2-xls-r-300m-uk/checkpoint-5600/preprocessor_config.json\n",
      "Deleting older checkpoint [wav2vec2-xls-r-300m-uk/checkpoint-4800] due to args.save_total_limit\n",
      "The following columns in the evaluation set don't have a corresponding argument in `Wav2Vec2ForCTC.forward` and have been ignored: input_length. If input_length are not expected by `Wav2Vec2ForCTC.forward`,  you can safely ignore this message.\n",
      "***** Running Evaluation *****\n",
      "  Num examples = 6783\n",
      "  Batch size = 8\n"
     ]
    },
    {
     "name": "stdout",
     "output_type": "stream",
     "text": [
      "{'loss': 0.4641, 'learning_rate': 0.0001553157894736842, 'epoch': 50.42}\n"
     ]
    },
    {
     "data": {
      "application/json": {
       "ascii": false,
       "bar_format": null,
       "colour": null,
       "elapsed": 0.00705265998840332,
       "initial": 0,
       "n": 0,
       "ncols": null,
       "nrows": null,
       "postfix": null,
       "prefix": "",
       "rate": null,
       "total": 848,
       "unit": "it",
       "unit_divisor": 1000,
       "unit_scale": false
      },
      "application/vnd.jupyter.widget-view+json": {
       "model_id": "129886198a2b49e3a62732bef0b76110",
       "version_major": 2,
       "version_minor": 0
      },
      "text/plain": [
       "  0%|          | 0/848 [00:00<?, ?it/s]"
      ]
     },
     "metadata": {},
     "output_type": "display_data"
    },
    {
     "name": "stderr",
     "output_type": "stream",
     "text": [
      "Saving model checkpoint to wav2vec2-xls-r-300m-uk/checkpoint-6000\n",
      "Configuration saved in wav2vec2-xls-r-300m-uk/checkpoint-6000/config.json\n"
     ]
    },
    {
     "name": "stdout",
     "output_type": "stream",
     "text": [
      "{'eval_loss': 0.8092752695083618, 'eval_wer': 0.7217691215256644, 'eval_cer': 0.19502232784312712, 'eval_runtime': 210.6162, 'eval_samples_per_second': 32.206, 'eval_steps_per_second': 4.026, 'epoch': 50.42}\n"
     ]
    },
    {
     "name": "stderr",
     "output_type": "stream",
     "text": [
      "Model weights saved in wav2vec2-xls-r-300m-uk/checkpoint-6000/pytorch_model.bin\n",
      "Feature extractor saved in wav2vec2-xls-r-300m-uk/checkpoint-6000/preprocessor_config.json\n",
      "Deleting older checkpoint [wav2vec2-xls-r-300m-uk/checkpoint-5200] due to args.save_total_limit\n",
      "The following columns in the evaluation set don't have a corresponding argument in `Wav2Vec2ForCTC.forward` and have been ignored: input_length. If input_length are not expected by `Wav2Vec2ForCTC.forward`,  you can safely ignore this message.\n",
      "***** Running Evaluation *****\n",
      "  Num examples = 6783\n",
      "  Batch size = 8\n"
     ]
    },
    {
     "name": "stdout",
     "output_type": "stream",
     "text": [
      "{'loss': 0.4368, 'learning_rate': 0.00014478947368421052, 'epoch': 53.78}\n"
     ]
    },
    {
     "data": {
      "application/json": {
       "ascii": false,
       "bar_format": null,
       "colour": null,
       "elapsed": 0.007249355316162109,
       "initial": 0,
       "n": 0,
       "ncols": null,
       "nrows": null,
       "postfix": null,
       "prefix": "",
       "rate": null,
       "total": 848,
       "unit": "it",
       "unit_divisor": 1000,
       "unit_scale": false
      },
      "application/vnd.jupyter.widget-view+json": {
       "model_id": "518e42e24b7d479ca5a8fe5247ad01f5",
       "version_major": 2,
       "version_minor": 0
      },
      "text/plain": [
       "  0%|          | 0/848 [00:00<?, ?it/s]"
      ]
     },
     "metadata": {},
     "output_type": "display_data"
    },
    {
     "name": "stderr",
     "output_type": "stream",
     "text": [
      "Saving model checkpoint to wav2vec2-xls-r-300m-uk/checkpoint-6400\n",
      "Configuration saved in wav2vec2-xls-r-300m-uk/checkpoint-6400/config.json\n"
     ]
    },
    {
     "name": "stdout",
     "output_type": "stream",
     "text": [
      "{'eval_loss': 0.8010208010673523, 'eval_wer': 0.7055589369040374, 'eval_cer': 0.1889358514447713, 'eval_runtime': 211.7021, 'eval_samples_per_second': 32.04, 'eval_steps_per_second': 4.006, 'epoch': 53.78}\n"
     ]
    },
    {
     "name": "stderr",
     "output_type": "stream",
     "text": [
      "Model weights saved in wav2vec2-xls-r-300m-uk/checkpoint-6400/pytorch_model.bin\n",
      "Feature extractor saved in wav2vec2-xls-r-300m-uk/checkpoint-6400/preprocessor_config.json\n",
      "Deleting older checkpoint [wav2vec2-xls-r-300m-uk/checkpoint-5600] due to args.save_total_limit\n",
      "The following columns in the evaluation set don't have a corresponding argument in `Wav2Vec2ForCTC.forward` and have been ignored: input_length. If input_length are not expected by `Wav2Vec2ForCTC.forward`,  you can safely ignore this message.\n",
      "***** Running Evaluation *****\n",
      "  Num examples = 6783\n",
      "  Batch size = 8\n"
     ]
    },
    {
     "name": "stdout",
     "output_type": "stream",
     "text": [
      "{'loss': 0.4207, 'learning_rate': 0.00013426315789473683, 'epoch': 57.14}\n"
     ]
    },
    {
     "data": {
      "application/json": {
       "ascii": false,
       "bar_format": null,
       "colour": null,
       "elapsed": 0.007280111312866211,
       "initial": 0,
       "n": 0,
       "ncols": null,
       "nrows": null,
       "postfix": null,
       "prefix": "",
       "rate": null,
       "total": 848,
       "unit": "it",
       "unit_divisor": 1000,
       "unit_scale": false
      },
      "application/vnd.jupyter.widget-view+json": {
       "model_id": "310968ba59f84d3899c3fcfc37555a72",
       "version_major": 2,
       "version_minor": 0
      },
      "text/plain": [
       "  0%|          | 0/848 [00:00<?, ?it/s]"
      ]
     },
     "metadata": {},
     "output_type": "display_data"
    },
    {
     "name": "stderr",
     "output_type": "stream",
     "text": [
      "Saving model checkpoint to wav2vec2-xls-r-300m-uk/checkpoint-6800\n",
      "Configuration saved in wav2vec2-xls-r-300m-uk/checkpoint-6800/config.json\n"
     ]
    },
    {
     "name": "stdout",
     "output_type": "stream",
     "text": [
      "{'eval_loss': 0.8339575529098511, 'eval_wer': 0.7027388922702373, 'eval_cer': 0.18708892067561503, 'eval_runtime': 212.1919, 'eval_samples_per_second': 31.966, 'eval_steps_per_second': 3.996, 'epoch': 57.14}\n"
     ]
    },
    {
     "name": "stderr",
     "output_type": "stream",
     "text": [
      "Model weights saved in wav2vec2-xls-r-300m-uk/checkpoint-6800/pytorch_model.bin\n",
      "Feature extractor saved in wav2vec2-xls-r-300m-uk/checkpoint-6800/preprocessor_config.json\n",
      "Deleting older checkpoint [wav2vec2-xls-r-300m-uk/checkpoint-6000] due to args.save_total_limit\n",
      "The following columns in the evaluation set don't have a corresponding argument in `Wav2Vec2ForCTC.forward` and have been ignored: input_length. If input_length are not expected by `Wav2Vec2ForCTC.forward`,  you can safely ignore this message.\n",
      "***** Running Evaluation *****\n",
      "  Num examples = 6783\n",
      "  Batch size = 8\n"
     ]
    },
    {
     "name": "stdout",
     "output_type": "stream",
     "text": [
      "{'loss': 0.3972, 'learning_rate': 0.00012376315789473682, 'epoch': 60.5}\n"
     ]
    },
    {
     "data": {
      "application/json": {
       "ascii": false,
       "bar_format": null,
       "colour": null,
       "elapsed": 0.0073511600494384766,
       "initial": 0,
       "n": 0,
       "ncols": null,
       "nrows": null,
       "postfix": null,
       "prefix": "",
       "rate": null,
       "total": 848,
       "unit": "it",
       "unit_divisor": 1000,
       "unit_scale": false
      },
      "application/vnd.jupyter.widget-view+json": {
       "model_id": "70c026d4141f4d41a79bef25278385a9",
       "version_major": 2,
       "version_minor": 0
      },
      "text/plain": [
       "  0%|          | 0/848 [00:00<?, ?it/s]"
      ]
     },
     "metadata": {},
     "output_type": "display_data"
    },
    {
     "name": "stderr",
     "output_type": "stream",
     "text": [
      "Saving model checkpoint to wav2vec2-xls-r-300m-uk/checkpoint-7200\n",
      "Configuration saved in wav2vec2-xls-r-300m-uk/checkpoint-7200/config.json\n"
     ]
    },
    {
     "name": "stdout",
     "output_type": "stream",
     "text": [
      "{'eval_loss': 0.8393998742103577, 'eval_wer': 0.6940961655508217, 'eval_cer': 0.18495784671120397, 'eval_runtime': 211.3395, 'eval_samples_per_second': 32.095, 'eval_steps_per_second': 4.013, 'epoch': 60.5}\n"
     ]
    },
    {
     "name": "stderr",
     "output_type": "stream",
     "text": [
      "Model weights saved in wav2vec2-xls-r-300m-uk/checkpoint-7200/pytorch_model.bin\n",
      "Feature extractor saved in wav2vec2-xls-r-300m-uk/checkpoint-7200/preprocessor_config.json\n",
      "Deleting older checkpoint [wav2vec2-xls-r-300m-uk/checkpoint-6400] due to args.save_total_limit\n",
      "The following columns in the evaluation set don't have a corresponding argument in `Wav2Vec2ForCTC.forward` and have been ignored: input_length. If input_length are not expected by `Wav2Vec2ForCTC.forward`,  you can safely ignore this message.\n",
      "***** Running Evaluation *****\n",
      "  Num examples = 6783\n",
      "  Batch size = 8\n"
     ]
    },
    {
     "name": "stdout",
     "output_type": "stream",
     "text": [
      "{'loss': 0.3825, 'learning_rate': 0.00011323684210526315, 'epoch': 63.86}\n"
     ]
    },
    {
     "data": {
      "application/json": {
       "ascii": false,
       "bar_format": null,
       "colour": null,
       "elapsed": 0.0074388980865478516,
       "initial": 0,
       "n": 0,
       "ncols": null,
       "nrows": null,
       "postfix": null,
       "prefix": "",
       "rate": null,
       "total": 848,
       "unit": "it",
       "unit_divisor": 1000,
       "unit_scale": false
      },
      "application/vnd.jupyter.widget-view+json": {
       "model_id": "edc0cd14d08a4236ac788f2f71f3d547",
       "version_major": 2,
       "version_minor": 0
      },
      "text/plain": [
       "  0%|          | 0/848 [00:00<?, ?it/s]"
      ]
     },
     "metadata": {},
     "output_type": "display_data"
    },
    {
     "name": "stderr",
     "output_type": "stream",
     "text": [
      "Saving model checkpoint to wav2vec2-xls-r-300m-uk/checkpoint-7600\n",
      "Configuration saved in wav2vec2-xls-r-300m-uk/checkpoint-7600/config.json\n"
     ]
    },
    {
     "name": "stdout",
     "output_type": "stream",
     "text": [
      "{'eval_loss': 0.8245963454246521, 'eval_wer': 0.6890647190099412, 'eval_cer': 0.18329173433902804, 'eval_runtime': 212.3966, 'eval_samples_per_second': 31.936, 'eval_steps_per_second': 3.993, 'epoch': 63.86}\n"
     ]
    },
    {
     "name": "stderr",
     "output_type": "stream",
     "text": [
      "Model weights saved in wav2vec2-xls-r-300m-uk/checkpoint-7600/pytorch_model.bin\n",
      "Feature extractor saved in wav2vec2-xls-r-300m-uk/checkpoint-7600/preprocessor_config.json\n",
      "Deleting older checkpoint [wav2vec2-xls-r-300m-uk/checkpoint-6800] due to args.save_total_limit\n",
      "The following columns in the evaluation set don't have a corresponding argument in `Wav2Vec2ForCTC.forward` and have been ignored: input_length. If input_length are not expected by `Wav2Vec2ForCTC.forward`,  you can safely ignore this message.\n",
      "***** Running Evaluation *****\n",
      "  Num examples = 6783\n",
      "  Batch size = 8\n"
     ]
    },
    {
     "name": "stdout",
     "output_type": "stream",
     "text": [
      "{'loss': 0.3719, 'learning_rate': 0.00010271052631578946, 'epoch': 67.23}\n"
     ]
    },
    {
     "data": {
      "application/json": {
       "ascii": false,
       "bar_format": null,
       "colour": null,
       "elapsed": 0.007239818572998047,
       "initial": 0,
       "n": 0,
       "ncols": null,
       "nrows": null,
       "postfix": null,
       "prefix": "",
       "rate": null,
       "total": 848,
       "unit": "it",
       "unit_divisor": 1000,
       "unit_scale": false
      },
      "application/vnd.jupyter.widget-view+json": {
       "model_id": "8daa262ce82f405fb2f3c6c7c09873ad",
       "version_major": 2,
       "version_minor": 0
      },
      "text/plain": [
       "  0%|          | 0/848 [00:00<?, ?it/s]"
      ]
     },
     "metadata": {},
     "output_type": "display_data"
    },
    {
     "name": "stderr",
     "output_type": "stream",
     "text": [
      "Saving model checkpoint to wav2vec2-xls-r-300m-uk/checkpoint-8000\n",
      "Configuration saved in wav2vec2-xls-r-300m-uk/checkpoint-8000/config.json\n"
     ]
    },
    {
     "name": "stdout",
     "output_type": "stream",
     "text": [
      "{'eval_loss': 0.8630526065826416, 'eval_wer': 0.6835463582876852, 'eval_cer': 0.17931372960546071, 'eval_runtime': 209.1605, 'eval_samples_per_second': 32.43, 'eval_steps_per_second': 4.054, 'epoch': 67.23}\n"
     ]
    },
    {
     "name": "stderr",
     "output_type": "stream",
     "text": [
      "Model weights saved in wav2vec2-xls-r-300m-uk/checkpoint-8000/pytorch_model.bin\n",
      "Feature extractor saved in wav2vec2-xls-r-300m-uk/checkpoint-8000/preprocessor_config.json\n",
      "Deleting older checkpoint [wav2vec2-xls-r-300m-uk/checkpoint-7200] due to args.save_total_limit\n",
      "The following columns in the evaluation set don't have a corresponding argument in `Wav2Vec2ForCTC.forward` and have been ignored: input_length. If input_length are not expected by `Wav2Vec2ForCTC.forward`,  you can safely ignore this message.\n",
      "***** Running Evaluation *****\n",
      "  Num examples = 6783\n",
      "  Batch size = 8\n"
     ]
    },
    {
     "name": "stdout",
     "output_type": "stream",
     "text": [
      "{'loss': 0.3601, 'learning_rate': 9.218421052631579e-05, 'epoch': 70.59}\n"
     ]
    },
    {
     "data": {
      "application/json": {
       "ascii": false,
       "bar_format": null,
       "colour": null,
       "elapsed": 0.006955146789550781,
       "initial": 0,
       "n": 0,
       "ncols": null,
       "nrows": null,
       "postfix": null,
       "prefix": "",
       "rate": null,
       "total": 848,
       "unit": "it",
       "unit_divisor": 1000,
       "unit_scale": false
      },
      "application/vnd.jupyter.widget-view+json": {
       "model_id": "da7b7cf93dab401c8db40d62be638e02",
       "version_major": 2,
       "version_minor": 0
      },
      "text/plain": [
       "  0%|          | 0/848 [00:00<?, ?it/s]"
      ]
     },
     "metadata": {},
     "output_type": "display_data"
    },
    {
     "name": "stderr",
     "output_type": "stream",
     "text": [
      "Saving model checkpoint to wav2vec2-xls-r-300m-uk/checkpoint-8400\n",
      "Configuration saved in wav2vec2-xls-r-300m-uk/checkpoint-8400/config.json\n"
     ]
    },
    {
     "name": "stdout",
     "output_type": "stream",
     "text": [
      "{'eval_loss': 0.8463570475578308, 'eval_wer': 0.6926354230066951, 'eval_cer': 0.18325944533956726, 'eval_runtime': 208.5926, 'eval_samples_per_second': 32.518, 'eval_steps_per_second': 4.065, 'epoch': 70.59}\n"
     ]
    },
    {
     "name": "stderr",
     "output_type": "stream",
     "text": [
      "Model weights saved in wav2vec2-xls-r-300m-uk/checkpoint-8400/pytorch_model.bin\n",
      "Feature extractor saved in wav2vec2-xls-r-300m-uk/checkpoint-8400/preprocessor_config.json\n",
      "Deleting older checkpoint [wav2vec2-xls-r-300m-uk/checkpoint-7600] due to args.save_total_limit\n",
      "The following columns in the evaluation set don't have a corresponding argument in `Wav2Vec2ForCTC.forward` and have been ignored: input_length. If input_length are not expected by `Wav2Vec2ForCTC.forward`,  you can safely ignore this message.\n",
      "***** Running Evaluation *****\n",
      "  Num examples = 6783\n",
      "  Batch size = 8\n"
     ]
    },
    {
     "name": "stdout",
     "output_type": "stream",
     "text": [
      "{'loss': 0.3468, 'learning_rate': 8.16578947368421e-05, 'epoch': 73.95}\n"
     ]
    },
    {
     "data": {
      "application/json": {
       "ascii": false,
       "bar_format": null,
       "colour": null,
       "elapsed": 0.007674217224121094,
       "initial": 0,
       "n": 0,
       "ncols": null,
       "nrows": null,
       "postfix": null,
       "prefix": "",
       "rate": null,
       "total": 848,
       "unit": "it",
       "unit_divisor": 1000,
       "unit_scale": false
      },
      "application/vnd.jupyter.widget-view+json": {
       "model_id": "9c1914cd880b4ff1a88cc4907460108f",
       "version_major": 2,
       "version_minor": 0
      },
      "text/plain": [
       "  0%|          | 0/848 [00:00<?, ?it/s]"
      ]
     },
     "metadata": {},
     "output_type": "display_data"
    },
    {
     "name": "stderr",
     "output_type": "stream",
     "text": [
      "Saving model checkpoint to wav2vec2-xls-r-300m-uk/checkpoint-8800\n",
      "Configuration saved in wav2vec2-xls-r-300m-uk/checkpoint-8800/config.json\n"
     ]
    },
    {
     "name": "stdout",
     "output_type": "stream",
     "text": [
      "{'eval_loss': 0.8564673662185669, 'eval_wer': 0.6686751876648407, 'eval_cer': 0.17537124277130026, 'eval_runtime': 221.3871, 'eval_samples_per_second': 30.639, 'eval_steps_per_second': 3.83, 'epoch': 73.95}\n"
     ]
    },
    {
     "name": "stderr",
     "output_type": "stream",
     "text": [
      "Model weights saved in wav2vec2-xls-r-300m-uk/checkpoint-8800/pytorch_model.bin\n",
      "Feature extractor saved in wav2vec2-xls-r-300m-uk/checkpoint-8800/preprocessor_config.json\n",
      "Deleting older checkpoint [wav2vec2-xls-r-300m-uk/checkpoint-8000] due to args.save_total_limit\n",
      "The following columns in the evaluation set don't have a corresponding argument in `Wav2Vec2ForCTC.forward` and have been ignored: input_length. If input_length are not expected by `Wav2Vec2ForCTC.forward`,  you can safely ignore this message.\n",
      "***** Running Evaluation *****\n",
      "  Num examples = 6783\n",
      "  Batch size = 8\n"
     ]
    },
    {
     "name": "stdout",
     "output_type": "stream",
     "text": [
      "{'loss': 0.3326, 'learning_rate': 7.113157894736842e-05, 'epoch': 77.31}\n"
     ]
    },
    {
     "data": {
      "application/json": {
       "ascii": false,
       "bar_format": null,
       "colour": null,
       "elapsed": 0.007187604904174805,
       "initial": 0,
       "n": 0,
       "ncols": null,
       "nrows": null,
       "postfix": null,
       "prefix": "",
       "rate": null,
       "total": 848,
       "unit": "it",
       "unit_divisor": 1000,
       "unit_scale": false
      },
      "application/vnd.jupyter.widget-view+json": {
       "model_id": "a0d41f2cff1744aba4aa9d61f2b141c1",
       "version_major": 2,
       "version_minor": 0
      },
      "text/plain": [
       "  0%|          | 0/848 [00:00<?, ?it/s]"
      ]
     },
     "metadata": {},
     "output_type": "display_data"
    },
    {
     "name": "stderr",
     "output_type": "stream",
     "text": [
      "Saving model checkpoint to wav2vec2-xls-r-300m-uk/checkpoint-9200\n",
      "Configuration saved in wav2vec2-xls-r-300m-uk/checkpoint-9200/config.json\n"
     ]
    },
    {
     "name": "stdout",
     "output_type": "stream",
     "text": [
      "{'eval_loss': 0.8846502900123596, 'eval_wer': 0.665672550213025, 'eval_cer': 0.1759911915609471, 'eval_runtime': 209.6762, 'eval_samples_per_second': 32.35, 'eval_steps_per_second': 4.044, 'epoch': 77.31}\n"
     ]
    },
    {
     "name": "stderr",
     "output_type": "stream",
     "text": [
      "Model weights saved in wav2vec2-xls-r-300m-uk/checkpoint-9200/pytorch_model.bin\n",
      "Feature extractor saved in wav2vec2-xls-r-300m-uk/checkpoint-9200/preprocessor_config.json\n",
      "Deleting older checkpoint [wav2vec2-xls-r-300m-uk/checkpoint-8400] due to args.save_total_limit\n",
      "The following columns in the evaluation set don't have a corresponding argument in `Wav2Vec2ForCTC.forward` and have been ignored: input_length. If input_length are not expected by `Wav2Vec2ForCTC.forward`,  you can safely ignore this message.\n",
      "***** Running Evaluation *****\n",
      "  Num examples = 6783\n",
      "  Batch size = 8\n"
     ]
    },
    {
     "name": "stdout",
     "output_type": "stream",
     "text": [
      "{'loss': 0.3272, 'learning_rate': 6.0605263157894733e-05, 'epoch': 80.67}\n"
     ]
    },
    {
     "data": {
      "application/json": {
       "ascii": false,
       "bar_format": null,
       "colour": null,
       "elapsed": 0.007404804229736328,
       "initial": 0,
       "n": 0,
       "ncols": null,
       "nrows": null,
       "postfix": null,
       "prefix": "",
       "rate": null,
       "total": 848,
       "unit": "it",
       "unit_divisor": 1000,
       "unit_scale": false
      },
      "application/vnd.jupyter.widget-view+json": {
       "model_id": "0fe22fe7b78943afa6eaab5153dde314",
       "version_major": 2,
       "version_minor": 0
      },
      "text/plain": [
       "  0%|          | 0/848 [00:00<?, ?it/s]"
      ]
     },
     "metadata": {},
     "output_type": "display_data"
    },
    {
     "name": "stderr",
     "output_type": "stream",
     "text": [
      "Saving model checkpoint to wav2vec2-xls-r-300m-uk/checkpoint-9600\n",
      "Configuration saved in wav2vec2-xls-r-300m-uk/checkpoint-9600/config.json\n"
     ]
    },
    {
     "name": "stdout",
     "output_type": "stream",
     "text": [
      "{'eval_loss': 0.8954363465309143, 'eval_wer': 0.6707242848447961, 'eval_cer': 0.17582328876375108, 'eval_runtime': 211.264, 'eval_samples_per_second': 32.107, 'eval_steps_per_second': 4.014, 'epoch': 80.67}\n"
     ]
    },
    {
     "name": "stderr",
     "output_type": "stream",
     "text": [
      "Model weights saved in wav2vec2-xls-r-300m-uk/checkpoint-9600/pytorch_model.bin\n",
      "Feature extractor saved in wav2vec2-xls-r-300m-uk/checkpoint-9600/preprocessor_config.json\n",
      "Deleting older checkpoint [wav2vec2-xls-r-300m-uk/checkpoint-8800] due to args.save_total_limit\n",
      "The following columns in the evaluation set don't have a corresponding argument in `Wav2Vec2ForCTC.forward` and have been ignored: input_length. If input_length are not expected by `Wav2Vec2ForCTC.forward`,  you can safely ignore this message.\n",
      "***** Running Evaluation *****\n",
      "  Num examples = 6783\n",
      "  Batch size = 8\n"
     ]
    },
    {
     "name": "stdout",
     "output_type": "stream",
     "text": [
      "{'loss': 0.3213, 'learning_rate': 5.007894736842105e-05, 'epoch': 84.03}\n"
     ]
    },
    {
     "data": {
      "application/json": {
       "ascii": false,
       "bar_format": null,
       "colour": null,
       "elapsed": 0.006964445114135742,
       "initial": 0,
       "n": 0,
       "ncols": null,
       "nrows": null,
       "postfix": null,
       "prefix": "",
       "rate": null,
       "total": 848,
       "unit": "it",
       "unit_divisor": 1000,
       "unit_scale": false
      },
      "application/vnd.jupyter.widget-view+json": {
       "model_id": "65019eafe06d4894a31fd4b0c6503218",
       "version_major": 2,
       "version_minor": 0
      },
      "text/plain": [
       "  0%|          | 0/848 [00:00<?, ?it/s]"
      ]
     },
     "metadata": {},
     "output_type": "display_data"
    },
    {
     "name": "stderr",
     "output_type": "stream",
     "text": [
      "Saving model checkpoint to wav2vec2-xls-r-300m-uk/checkpoint-10000\n",
      "Configuration saved in wav2vec2-xls-r-300m-uk/checkpoint-10000/config.json\n"
     ]
    },
    {
     "name": "stdout",
     "output_type": "stream",
     "text": [
      "{'eval_loss': 0.8902531266212463, 'eval_wer': 0.6653885169405559, 'eval_cer': 0.17506772617636898, 'eval_runtime': 209.0979, 'eval_samples_per_second': 32.439, 'eval_steps_per_second': 4.056, 'epoch': 84.03}\n"
     ]
    },
    {
     "name": "stderr",
     "output_type": "stream",
     "text": [
      "Model weights saved in wav2vec2-xls-r-300m-uk/checkpoint-10000/pytorch_model.bin\n",
      "Feature extractor saved in wav2vec2-xls-r-300m-uk/checkpoint-10000/preprocessor_config.json\n",
      "Deleting older checkpoint [wav2vec2-xls-r-300m-uk/checkpoint-9200] due to args.save_total_limit\n",
      "The following columns in the evaluation set don't have a corresponding argument in `Wav2Vec2ForCTC.forward` and have been ignored: input_length. If input_length are not expected by `Wav2Vec2ForCTC.forward`,  you can safely ignore this message.\n",
      "***** Running Evaluation *****\n",
      "  Num examples = 6783\n",
      "  Batch size = 8\n"
     ]
    },
    {
     "name": "stdout",
     "output_type": "stream",
     "text": [
      "{'loss': 0.3125, 'learning_rate': 3.955263157894737e-05, 'epoch': 87.39}\n"
     ]
    },
    {
     "data": {
      "application/json": {
       "ascii": false,
       "bar_format": null,
       "colour": null,
       "elapsed": 0.007245779037475586,
       "initial": 0,
       "n": 0,
       "ncols": null,
       "nrows": null,
       "postfix": null,
       "prefix": "",
       "rate": null,
       "total": 848,
       "unit": "it",
       "unit_divisor": 1000,
       "unit_scale": false
      },
      "application/vnd.jupyter.widget-view+json": {
       "model_id": "f23bf08feef0414e844f231b57c88c3b",
       "version_major": 2,
       "version_minor": 0
      },
      "text/plain": [
       "  0%|          | 0/848 [00:00<?, ?it/s]"
      ]
     },
     "metadata": {},
     "output_type": "display_data"
    },
    {
     "name": "stderr",
     "output_type": "stream",
     "text": [
      "Saving model checkpoint to wav2vec2-xls-r-300m-uk/checkpoint-10400\n",
      "Configuration saved in wav2vec2-xls-r-300m-uk/checkpoint-10400/config.json\n"
     ]
    },
    {
     "name": "stdout",
     "output_type": "stream",
     "text": [
      "{'eval_loss': 0.8979071974754333, 'eval_wer': 0.6685940353012781, 'eval_cer': 0.17526791797302577, 'eval_runtime': 209.5385, 'eval_samples_per_second': 32.371, 'eval_steps_per_second': 4.047, 'epoch': 87.39}\n"
     ]
    },
    {
     "name": "stderr",
     "output_type": "stream",
     "text": [
      "Model weights saved in wav2vec2-xls-r-300m-uk/checkpoint-10400/pytorch_model.bin\n",
      "Feature extractor saved in wav2vec2-xls-r-300m-uk/checkpoint-10400/preprocessor_config.json\n",
      "Deleting older checkpoint [wav2vec2-xls-r-300m-uk/checkpoint-9600] due to args.save_total_limit\n",
      "The following columns in the evaluation set don't have a corresponding argument in `Wav2Vec2ForCTC.forward` and have been ignored: input_length. If input_length are not expected by `Wav2Vec2ForCTC.forward`,  you can safely ignore this message.\n",
      "***** Running Evaluation *****\n",
      "  Num examples = 6783\n",
      "  Batch size = 8\n"
     ]
    },
    {
     "name": "stdout",
     "output_type": "stream",
     "text": [
      "{'loss': 0.3095, 'learning_rate': 2.9026315789473685e-05, 'epoch': 90.75}\n"
     ]
    },
    {
     "data": {
      "application/json": {
       "ascii": false,
       "bar_format": null,
       "colour": null,
       "elapsed": 0.007394552230834961,
       "initial": 0,
       "n": 0,
       "ncols": null,
       "nrows": null,
       "postfix": null,
       "prefix": "",
       "rate": null,
       "total": 848,
       "unit": "it",
       "unit_divisor": 1000,
       "unit_scale": false
      },
      "application/vnd.jupyter.widget-view+json": {
       "model_id": "3e53e86fd8a242a2b8ff424210dde90d",
       "version_major": 2,
       "version_minor": 0
      },
      "text/plain": [
       "  0%|          | 0/848 [00:00<?, ?it/s]"
      ]
     },
     "metadata": {},
     "output_type": "display_data"
    },
    {
     "name": "stderr",
     "output_type": "stream",
     "text": [
      "Saving model checkpoint to wav2vec2-xls-r-300m-uk/checkpoint-10800\n",
      "Configuration saved in wav2vec2-xls-r-300m-uk/checkpoint-10800/config.json\n"
     ]
    },
    {
     "name": "stdout",
     "output_type": "stream",
     "text": [
      "{'eval_loss': 0.9134525060653687, 'eval_wer': 0.6639886386691012, 'eval_cer': 0.17337578260462444, 'eval_runtime': 214.8656, 'eval_samples_per_second': 31.569, 'eval_steps_per_second': 3.947, 'epoch': 90.75}\n"
     ]
    },
    {
     "name": "stderr",
     "output_type": "stream",
     "text": [
      "Model weights saved in wav2vec2-xls-r-300m-uk/checkpoint-10800/pytorch_model.bin\n",
      "Feature extractor saved in wav2vec2-xls-r-300m-uk/checkpoint-10800/preprocessor_config.json\n",
      "Deleting older checkpoint [wav2vec2-xls-r-300m-uk/checkpoint-10000] due to args.save_total_limit\n",
      "The following columns in the evaluation set don't have a corresponding argument in `Wav2Vec2ForCTC.forward` and have been ignored: input_length. If input_length are not expected by `Wav2Vec2ForCTC.forward`,  you can safely ignore this message.\n",
      "***** Running Evaluation *****\n",
      "  Num examples = 6783\n",
      "  Batch size = 8\n"
     ]
    },
    {
     "name": "stdout",
     "output_type": "stream",
     "text": [
      "{'loss': 0.3009, 'learning_rate': 1.8526315789473684e-05, 'epoch': 94.12}\n"
     ]
    },
    {
     "data": {
      "application/json": {
       "ascii": false,
       "bar_format": null,
       "colour": null,
       "elapsed": 0.007333517074584961,
       "initial": 0,
       "n": 0,
       "ncols": null,
       "nrows": null,
       "postfix": null,
       "prefix": "",
       "rate": null,
       "total": 848,
       "unit": "it",
       "unit_divisor": 1000,
       "unit_scale": false
      },
      "application/vnd.jupyter.widget-view+json": {
       "model_id": "4eee8fdf4ce940c6bf475a70a09d87c0",
       "version_major": 2,
       "version_minor": 0
      },
      "text/plain": [
       "  0%|          | 0/848 [00:00<?, ?it/s]"
      ]
     },
     "metadata": {},
     "output_type": "display_data"
    },
    {
     "name": "stderr",
     "output_type": "stream",
     "text": [
      "Saving model checkpoint to wav2vec2-xls-r-300m-uk/checkpoint-11200\n",
      "Configuration saved in wav2vec2-xls-r-300m-uk/checkpoint-11200/config.json\n"
     ]
    },
    {
     "name": "stdout",
     "output_type": "stream",
     "text": [
      "{'eval_loss': 0.9179993867874146, 'eval_wer': 0.6621829985798336, 'eval_cer': 0.1734791074028989, 'eval_runtime': 209.042, 'eval_samples_per_second': 32.448, 'eval_steps_per_second': 4.057, 'epoch': 94.12}\n"
     ]
    },
    {
     "name": "stderr",
     "output_type": "stream",
     "text": [
      "Model weights saved in wav2vec2-xls-r-300m-uk/checkpoint-11200/pytorch_model.bin\n",
      "Feature extractor saved in wav2vec2-xls-r-300m-uk/checkpoint-11200/preprocessor_config.json\n",
      "Deleting older checkpoint [wav2vec2-xls-r-300m-uk/checkpoint-10400] due to args.save_total_limit\n",
      "The following columns in the evaluation set don't have a corresponding argument in `Wav2Vec2ForCTC.forward` and have been ignored: input_length. If input_length are not expected by `Wav2Vec2ForCTC.forward`,  you can safely ignore this message.\n",
      "***** Running Evaluation *****\n",
      "  Num examples = 6783\n",
      "  Batch size = 8\n"
     ]
    },
    {
     "name": "stdout",
     "output_type": "stream",
     "text": [
      "{'loss': 0.2967, 'learning_rate': 8e-06, 'epoch': 97.48}\n"
     ]
    },
    {
     "data": {
      "application/json": {
       "ascii": false,
       "bar_format": null,
       "colour": null,
       "elapsed": 0.007021665573120117,
       "initial": 0,
       "n": 0,
       "ncols": null,
       "nrows": null,
       "postfix": null,
       "prefix": "",
       "rate": null,
       "total": 848,
       "unit": "it",
       "unit_divisor": 1000,
       "unit_scale": false
      },
      "application/vnd.jupyter.widget-view+json": {
       "model_id": "0dfbd82a81e24bec865be87a87258dfd",
       "version_major": 2,
       "version_minor": 0
      },
      "text/plain": [
       "  0%|          | 0/848 [00:00<?, ?it/s]"
      ]
     },
     "metadata": {},
     "output_type": "display_data"
    },
    {
     "name": "stderr",
     "output_type": "stream",
     "text": [
      "Saving model checkpoint to wav2vec2-xls-r-300m-uk/checkpoint-11600\n",
      "Configuration saved in wav2vec2-xls-r-300m-uk/checkpoint-11600/config.json\n"
     ]
    },
    {
     "name": "stdout",
     "output_type": "stream",
     "text": [
      "{'eval_loss': 0.9188246130943298, 'eval_wer': 0.660722256035707, 'eval_cer': 0.17280426731416873, 'eval_runtime': 211.3614, 'eval_samples_per_second': 32.092, 'eval_steps_per_second': 4.012, 'epoch': 97.48}\n"
     ]
    },
    {
     "name": "stderr",
     "output_type": "stream",
     "text": [
      "Model weights saved in wav2vec2-xls-r-300m-uk/checkpoint-11600/pytorch_model.bin\n",
      "Feature extractor saved in wav2vec2-xls-r-300m-uk/checkpoint-11600/preprocessor_config.json\n",
      "Deleting older checkpoint [wav2vec2-xls-r-300m-uk/checkpoint-10800] due to args.save_total_limit\n",
      "\n",
      "\n",
      "Training completed. Do not forget to share your model on huggingface.co/models =)\n",
      "\n",
      "\n"
     ]
    },
    {
     "name": "stdout",
     "output_type": "stream",
     "text": [
      "{'train_runtime': 40015.4, 'train_samples_per_second': 28.646, 'train_steps_per_second': 0.297, 'train_loss': 0.9631941716811236, 'epoch': 100.0}\n"
     ]
    },
    {
     "data": {
      "text/plain": [
       "TrainOutput(global_step=11900, training_loss=0.9631941716811236, metrics={'train_runtime': 40015.4, 'train_samples_per_second': 28.646, 'train_steps_per_second': 0.297, 'train_loss': 0.9631941716811236, 'epoch': 100.0})"
      ]
     },
     "execution_count": 44,
     "metadata": {},
     "output_type": "execute_result"
    }
   ],
   "source": [
    "trainer.train()"
   ]
  },
  {
   "cell_type": "code",
   "execution_count": null,
   "metadata": {},
   "outputs": [
    {
     "name": "stderr",
     "output_type": "stream",
     "text": [
      "Dropping the following result as it does not have all the necessary fields:\n",
      "{'dataset': {'name': 'common_voice', 'type': 'common_voice', 'args': 'uk'}}\n"
     ]
    }
   ],
   "source": [
    "trainer.create_model_card()"
   ]
  },
  {
   "cell_type": "code",
   "execution_count": null,
   "metadata": {
    "id": "R351I9IQp_9D"
   },
   "outputs": [
    {
     "name": "stderr",
     "output_type": "stream",
     "text": [
      "loading configuration file wav2vec2-xls-r-300m-uk/checkpoint-5600/config.json\n",
      "Model config Wav2Vec2Config {\n",
      "  \"_name_or_path\": \"facebook/wav2vec2-xls-r-300m\",\n",
      "  \"activation_dropout\": 0.0,\n",
      "  \"adapter_kernel_size\": 3,\n",
      "  \"adapter_stride\": 2,\n",
      "  \"add_adapter\": false,\n",
      "  \"apply_spec_augment\": true,\n",
      "  \"architectures\": [\n",
      "    \"Wav2Vec2ForCTC\"\n",
      "  ],\n",
      "  \"attention_dropout\": 0.0,\n",
      "  \"bos_token_id\": 1,\n",
      "  \"classifier_proj_size\": 256,\n",
      "  \"codevector_dim\": 768,\n",
      "  \"contrastive_logits_temperature\": 0.1,\n",
      "  \"conv_bias\": true,\n",
      "  \"conv_dim\": [\n",
      "    512,\n",
      "    512,\n",
      "    512,\n",
      "    512,\n",
      "    512,\n",
      "    512,\n",
      "    512\n",
      "  ],\n",
      "  \"conv_kernel\": [\n",
      "    10,\n",
      "    3,\n",
      "    3,\n",
      "    3,\n",
      "    3,\n",
      "    2,\n",
      "    2\n",
      "  ],\n",
      "  \"conv_stride\": [\n",
      "    5,\n",
      "    2,\n",
      "    2,\n",
      "    2,\n",
      "    2,\n",
      "    2,\n",
      "    2\n",
      "  ],\n",
      "  \"ctc_loss_reduction\": \"mean\",\n",
      "  \"ctc_zero_infinity\": false,\n",
      "  \"diversity_loss_weight\": 0.1,\n",
      "  \"do_stable_layer_norm\": true,\n",
      "  \"eos_token_id\": 2,\n",
      "  \"feat_extract_activation\": \"gelu\",\n",
      "  \"feat_extract_dropout\": 0.0,\n",
      "  \"feat_extract_norm\": \"layer\",\n",
      "  \"feat_proj_dropout\": 0.0,\n",
      "  \"feat_quantizer_dropout\": 0.0,\n",
      "  \"final_dropout\": 0.0,\n",
      "  \"gradient_checkpointing\": false,\n",
      "  \"hidden_act\": \"gelu\",\n",
      "  \"hidden_dropout\": 0.0,\n",
      "  \"hidden_size\": 1024,\n",
      "  \"initializer_range\": 0.02,\n",
      "  \"intermediate_size\": 4096,\n",
      "  \"layer_norm_eps\": 1e-05,\n",
      "  \"layerdrop\": 0.0,\n",
      "  \"mask_feature_length\": 10,\n",
      "  \"mask_feature_min_masks\": 0,\n",
      "  \"mask_feature_prob\": 0.0,\n",
      "  \"mask_time_length\": 10,\n",
      "  \"mask_time_min_masks\": 2,\n",
      "  \"mask_time_prob\": 0.05,\n",
      "  \"model_type\": \"wav2vec2\",\n",
      "  \"num_adapter_layers\": 3,\n",
      "  \"num_attention_heads\": 16,\n",
      "  \"num_codevector_groups\": 2,\n",
      "  \"num_codevectors_per_group\": 320,\n",
      "  \"num_conv_pos_embedding_groups\": 16,\n",
      "  \"num_conv_pos_embeddings\": 128,\n",
      "  \"num_feat_extract_layers\": 7,\n",
      "  \"num_hidden_layers\": 24,\n",
      "  \"num_negatives\": 100,\n",
      "  \"output_hidden_size\": 1024,\n",
      "  \"pad_token_id\": 37,\n",
      "  \"proj_codevector_dim\": 768,\n",
      "  \"torch_dtype\": \"float32\",\n",
      "  \"transformers_version\": \"4.14.1\",\n",
      "  \"use_weighted_layer_sum\": false,\n",
      "  \"vocab_size\": 40\n",
      "}\n",
      "\n",
      "loading weights file wav2vec2-xls-r-300m-uk/checkpoint-5600/pytorch_model.bin\n",
      "All model checkpoint weights were used when initializing Wav2Vec2ForCTC.\n",
      "\n",
      "All the weights of Wav2Vec2ForCTC were initialized from the model checkpoint at wav2vec2-xls-r-300m-uk/checkpoint-5600.\n",
      "If your task is similar to the task the model of the checkpoint was trained on, you can already use Wav2Vec2ForCTC for predictions without further training.\n",
      "loading feature extractor configuration file wav2vec2-xls-r-300m-uk/preprocessor_config.json\n",
      "Feature extractor Wav2Vec2FeatureExtractor {\n",
      "  \"do_normalize\": true,\n",
      "  \"feature_extractor_type\": \"Wav2Vec2FeatureExtractor\",\n",
      "  \"feature_size\": 1,\n",
      "  \"padding_side\": \"right\",\n",
      "  \"padding_value\": 0.0,\n",
      "  \"return_attention_mask\": true,\n",
      "  \"sampling_rate\": 16000\n",
      "}\n",
      "\n",
      "Didn't find file wav2vec2-xls-r-300m-uk/tokenizer.json. We won't load it.\n",
      "loading file wav2vec2-xls-r-300m-uk/vocab.json\n",
      "loading file wav2vec2-xls-r-300m-uk/tokenizer_config.json\n",
      "loading file wav2vec2-xls-r-300m-uk/added_tokens.json\n",
      "loading file wav2vec2-xls-r-300m-uk/special_tokens_map.json\n",
      "loading file None\n",
      "Adding <s> to the vocabulary\n",
      "Adding </s> to the vocabulary\n"
     ]
    }
   ],
   "source": [
    "from transformers import Wav2Vec2ForCTC, Wav2Vec2Processor\n",
    "model = Wav2Vec2ForCTC.from_pretrained(repo_name + \"/checkpoint-11200\").to(\"cuda\")\n",
    "processor = Wav2Vec2Processor.from_pretrained(repo_name)"
   ]
  },
  {
   "cell_type": "markdown",
   "metadata": {
    "id": "jD7TZ1YS3S_K"
   },
   "source": [
    "\n",
    "Now, we will just take the first example of the test set, run it through the model and take the `argmax(...)` of the logits to retrieve the predicted token ids."
   ]
  },
  {
   "cell_type": "code",
   "execution_count": null,
   "metadata": {
    "id": "pax07TnL3WZn"
   },
   "outputs": [
    {
     "name": "stderr",
     "output_type": "stream",
     "text": [
      "It is strongly recommended to pass the ``sampling_rate`` argument to this function. Failing to do so can result in silent errors that might be hard to debug.\n"
     ]
    }
   ],
   "source": [
    "audio_id = 10\n",
    "\n",
    "input_dict = processor(common_voice_test[\"input_values\"], return_tensors=\"pt\", padding=True)\n",
    "\n",
    "logits = model(input_dict.input_values.to(\"cuda\")).logits\n",
    "\n",
    "pred_ids = torch.argmax(logits, dim=-1)[audio_id]\n",
    "\n",
    "common_voice_test_transcription = load_dataset(\"common_voice\", \"uk\", split=\"test\")\n",
    "\n",
    "print(\"Prediction:\")\n",
    "print(processor.decode(pred_ids))\n",
    "\n",
    "print(\"\\nReference:\")\n",
    "print(common_voice_test_transcription[audio_id][\"sentence\"].lower())"
   ]
  }
 ],
 "metadata": {
  "accelerator": "GPU",
  "colab": {
   "collapsed_sections": [],
   "machine_shape": "hm",
   "name": "Копія записника \"Fine-Tune XLS-R on Common Voice.ipynb\"",
   "provenance": [
    {
     "file_id": "https://github.com/patrickvonplaten/notebooks/blob/master/Fine_Tune_XLS_R_on_Common_Voice.ipynb",
     "timestamp": 1641583715050
    }
   ]
  },
  "kernelspec": {
   "display_name": "Python 3.9.13 (conda)",
   "language": "python",
   "name": "python3"
  },
  "language_info": {
   "codemirror_mode": {
    "name": "ipython",
    "version": 3
   },
   "file_extension": ".py",
   "mimetype": "text/x-python",
   "name": "python",
   "nbconvert_exporter": "python",
   "pygments_lexer": "ipython3",
   "version": "3.9.13"
  },
  "vscode": {
   "interpreter": {
    "hash": "a5cdd9abf8df3af0fd61fdb3838d6c6f2f66a9ba4bf4484f45cd88abf9f04fe9"
   }
  },
  "widgets": {
   "application/vnd.jupyter.widget-state+json": {
    "04ec68b059df4c628839c3ac29e2ebdd": {
     "model_module": "@jupyter-widgets/controls",
     "model_module_version": "1.5.0",
     "model_name": "DescriptionStyleModel",
     "state": {
      "_model_module": "@jupyter-widgets/controls",
      "_model_module_version": "1.5.0",
      "_model_name": "DescriptionStyleModel",
      "_view_count": null,
      "_view_module": "@jupyter-widgets/base",
      "_view_module_version": "1.2.0",
      "_view_name": "StyleView",
      "description_width": ""
     }
    },
    "05d8496d54174ae298c319b0194fc710": {
     "model_module": "@jupyter-widgets/base",
     "model_module_version": "1.2.0",
     "model_name": "LayoutModel",
     "state": {
      "_model_module": "@jupyter-widgets/base",
      "_model_module_version": "1.2.0",
      "_model_name": "LayoutModel",
      "_view_count": null,
      "_view_module": "@jupyter-widgets/base",
      "_view_module_version": "1.2.0",
      "_view_name": "LayoutView",
      "align_content": null,
      "align_items": null,
      "align_self": null,
      "border": null,
      "bottom": null,
      "display": null,
      "flex": null,
      "flex_flow": null,
      "grid_area": null,
      "grid_auto_columns": null,
      "grid_auto_flow": null,
      "grid_auto_rows": null,
      "grid_column": null,
      "grid_gap": null,
      "grid_row": null,
      "grid_template_areas": null,
      "grid_template_columns": null,
      "grid_template_rows": null,
      "height": null,
      "justify_content": null,
      "justify_items": null,
      "left": null,
      "margin": null,
      "max_height": null,
      "max_width": null,
      "min_height": null,
      "min_width": null,
      "object_fit": null,
      "object_position": null,
      "order": null,
      "overflow": null,
      "overflow_x": null,
      "overflow_y": null,
      "padding": null,
      "right": null,
      "top": null,
      "visibility": null,
      "width": null
     }
    },
    "116786d9364a4a57b521cddaabeda688": {
     "model_module": "@jupyter-widgets/controls",
     "model_module_version": "1.5.0",
     "model_name": "HBoxModel",
     "state": {
      "_dom_classes": [],
      "_model_module": "@jupyter-widgets/controls",
      "_model_module_version": "1.5.0",
      "_model_name": "HBoxModel",
      "_view_count": null,
      "_view_module": "@jupyter-widgets/controls",
      "_view_module_version": "1.5.0",
      "_view_name": "HBoxView",
      "box_style": "",
      "children": [
       "IPY_MODEL_a1e2c04dc2cb45ea80bec125e3dbf56f",
       "IPY_MODEL_b6d46d40efa14b21814f41531f5a2f41",
       "IPY_MODEL_d8bf8dc5d6c84140a4e96c9c435b8f17"
      ],
      "layout": "IPY_MODEL_9baa2f69aa9c4387bf1086a04ed78420"
     }
    },
    "18bc63944343440f837cdff76db004fc": {
     "model_module": "@jupyter-widgets/controls",
     "model_module_version": "1.5.0",
     "model_name": "HTMLModel",
     "state": {
      "_dom_classes": [],
      "_model_module": "@jupyter-widgets/controls",
      "_model_module_version": "1.5.0",
      "_model_name": "HTMLModel",
      "_view_count": null,
      "_view_module": "@jupyter-widgets/controls",
      "_view_module_version": "1.5.0",
      "_view_name": "HTMLView",
      "description": "",
      "description_tooltip": null,
      "layout": "IPY_MODEL_a4ae510b4f3845f891a796cf844fc2bb",
      "placeholder": "​",
      "style": "IPY_MODEL_e6e50da6516847878309fdc5c463edb3",
      "value": " 6962/6962 [01:46&lt;00:00, 78.15ex/s]"
     }
    },
    "1f3abdf2e0f6459da4179a94d691c4c4": {
     "model_module": "@jupyter-widgets/controls",
     "model_module_version": "1.5.0",
     "model_name": "FloatProgressModel",
     "state": {
      "_dom_classes": [],
      "_model_module": "@jupyter-widgets/controls",
      "_model_module_version": "1.5.0",
      "_model_name": "FloatProgressModel",
      "_view_count": null,
      "_view_module": "@jupyter-widgets/controls",
      "_view_module_version": "1.5.0",
      "_view_name": "ProgressView",
      "bar_style": "success",
      "description": "",
      "description_tooltip": null,
      "layout": "IPY_MODEL_c31a747e18df4b4aa4449a30e387448c",
      "max": 1,
      "min": 0,
      "orientation": "horizontal",
      "style": "IPY_MODEL_414efa8a08cd491cb78af8a95a151daa",
      "value": 1
     }
    },
    "22ba979142074f1d976e1a905544fd2d": {
     "model_module": "@jupyter-widgets/base",
     "model_module_version": "1.2.0",
     "model_name": "LayoutModel",
     "state": {
      "_model_module": "@jupyter-widgets/base",
      "_model_module_version": "1.2.0",
      "_model_name": "LayoutModel",
      "_view_count": null,
      "_view_module": "@jupyter-widgets/base",
      "_view_module_version": "1.2.0",
      "_view_name": "LayoutView",
      "align_content": null,
      "align_items": null,
      "align_self": null,
      "border": null,
      "bottom": null,
      "display": null,
      "flex": null,
      "flex_flow": null,
      "grid_area": null,
      "grid_auto_columns": null,
      "grid_auto_flow": null,
      "grid_auto_rows": null,
      "grid_column": null,
      "grid_gap": null,
      "grid_row": null,
      "grid_template_areas": null,
      "grid_template_columns": null,
      "grid_template_rows": null,
      "height": null,
      "justify_content": null,
      "justify_items": null,
      "left": null,
      "margin": null,
      "max_height": null,
      "max_width": null,
      "min_height": null,
      "min_width": null,
      "object_fit": null,
      "object_position": null,
      "order": null,
      "overflow": null,
      "overflow_x": null,
      "overflow_y": null,
      "padding": null,
      "right": null,
      "top": null,
      "visibility": null,
      "width": null
     }
    },
    "3dedffa30b774426bd474072a3a0d591": {
     "model_module": "@jupyter-widgets/controls",
     "model_module_version": "1.5.0",
     "model_name": "DescriptionStyleModel",
     "state": {
      "_model_module": "@jupyter-widgets/controls",
      "_model_module_version": "1.5.0",
      "_model_name": "DescriptionStyleModel",
      "_view_count": null,
      "_view_module": "@jupyter-widgets/base",
      "_view_module_version": "1.2.0",
      "_view_name": "StyleView",
      "description_width": ""
     }
    },
    "414efa8a08cd491cb78af8a95a151daa": {
     "model_module": "@jupyter-widgets/controls",
     "model_module_version": "1.5.0",
     "model_name": "ProgressStyleModel",
     "state": {
      "_model_module": "@jupyter-widgets/controls",
      "_model_module_version": "1.5.0",
      "_model_name": "ProgressStyleModel",
      "_view_count": null,
      "_view_module": "@jupyter-widgets/base",
      "_view_module_version": "1.2.0",
      "_view_name": "StyleView",
      "bar_color": null,
      "description_width": ""
     }
    },
    "427056895c674c428400bee0f5b43995": {
     "model_module": "@jupyter-widgets/base",
     "model_module_version": "1.2.0",
     "model_name": "LayoutModel",
     "state": {
      "_model_module": "@jupyter-widgets/base",
      "_model_module_version": "1.2.0",
      "_model_name": "LayoutModel",
      "_view_count": null,
      "_view_module": "@jupyter-widgets/base",
      "_view_module_version": "1.2.0",
      "_view_name": "LayoutView",
      "align_content": null,
      "align_items": null,
      "align_self": null,
      "border": null,
      "bottom": null,
      "display": null,
      "flex": null,
      "flex_flow": null,
      "grid_area": null,
      "grid_auto_columns": null,
      "grid_auto_flow": null,
      "grid_auto_rows": null,
      "grid_column": null,
      "grid_gap": null,
      "grid_row": null,
      "grid_template_areas": null,
      "grid_template_columns": null,
      "grid_template_rows": null,
      "height": null,
      "justify_content": null,
      "justify_items": null,
      "left": null,
      "margin": null,
      "max_height": null,
      "max_width": null,
      "min_height": null,
      "min_width": null,
      "object_fit": null,
      "object_position": null,
      "order": null,
      "overflow": null,
      "overflow_x": null,
      "overflow_y": null,
      "padding": null,
      "right": null,
      "top": null,
      "visibility": null,
      "width": null
     }
    },
    "445c84e1e2e541f2a54fb989def386ae": {
     "model_module": "@jupyter-widgets/base",
     "model_module_version": "1.2.0",
     "model_name": "LayoutModel",
     "state": {
      "_model_module": "@jupyter-widgets/base",
      "_model_module_version": "1.2.0",
      "_model_name": "LayoutModel",
      "_view_count": null,
      "_view_module": "@jupyter-widgets/base",
      "_view_module_version": "1.2.0",
      "_view_name": "LayoutView",
      "align_content": null,
      "align_items": null,
      "align_self": null,
      "border": null,
      "bottom": null,
      "display": null,
      "flex": null,
      "flex_flow": null,
      "grid_area": null,
      "grid_auto_columns": null,
      "grid_auto_flow": null,
      "grid_auto_rows": null,
      "grid_column": null,
      "grid_gap": null,
      "grid_row": null,
      "grid_template_areas": null,
      "grid_template_columns": null,
      "grid_template_rows": null,
      "height": null,
      "justify_content": null,
      "justify_items": null,
      "left": null,
      "margin": null,
      "max_height": null,
      "max_width": null,
      "min_height": null,
      "min_width": null,
      "object_fit": null,
      "object_position": null,
      "order": null,
      "overflow": null,
      "overflow_x": null,
      "overflow_y": null,
      "padding": null,
      "right": null,
      "top": null,
      "visibility": null,
      "width": null
     }
    },
    "48c60be3ca9349a295b83f65769c7f27": {
     "model_module": "@jupyter-widgets/controls",
     "model_module_version": "1.5.0",
     "model_name": "HTMLModel",
     "state": {
      "_dom_classes": [],
      "_model_module": "@jupyter-widgets/controls",
      "_model_module_version": "1.5.0",
      "_model_name": "HTMLModel",
      "_view_count": null,
      "_view_module": "@jupyter-widgets/controls",
      "_view_module_version": "1.5.0",
      "_view_name": "HTMLView",
      "description": "",
      "description_tooltip": null,
      "layout": "IPY_MODEL_05d8496d54174ae298c319b0194fc710",
      "placeholder": "​",
      "style": "IPY_MODEL_3dedffa30b774426bd474072a3a0d591",
      "value": " 1/1 [00:00&lt;00:00, 11.09ba/s]"
     }
    },
    "5815ae1348994bfebba4a8e968489a96": {
     "model_module": "@jupyter-widgets/controls",
     "model_module_version": "1.5.0",
     "model_name": "DescriptionStyleModel",
     "state": {
      "_model_module": "@jupyter-widgets/controls",
      "_model_module_version": "1.5.0",
      "_model_name": "DescriptionStyleModel",
      "_view_count": null,
      "_view_module": "@jupyter-widgets/base",
      "_view_module_version": "1.2.0",
      "_view_name": "StyleView",
      "description_width": ""
     }
    },
    "5c2a7fea8c434d51ada69a0854b88baf": {
     "model_module": "@jupyter-widgets/base",
     "model_module_version": "1.2.0",
     "model_name": "LayoutModel",
     "state": {
      "_model_module": "@jupyter-widgets/base",
      "_model_module_version": "1.2.0",
      "_model_name": "LayoutModel",
      "_view_count": null,
      "_view_module": "@jupyter-widgets/base",
      "_view_module_version": "1.2.0",
      "_view_name": "LayoutView",
      "align_content": null,
      "align_items": null,
      "align_self": null,
      "border": null,
      "bottom": null,
      "display": null,
      "flex": null,
      "flex_flow": null,
      "grid_area": null,
      "grid_auto_columns": null,
      "grid_auto_flow": null,
      "grid_auto_rows": null,
      "grid_column": null,
      "grid_gap": null,
      "grid_row": null,
      "grid_template_areas": null,
      "grid_template_columns": null,
      "grid_template_rows": null,
      "height": null,
      "justify_content": null,
      "justify_items": null,
      "left": null,
      "margin": null,
      "max_height": null,
      "max_width": null,
      "min_height": null,
      "min_width": null,
      "object_fit": null,
      "object_position": null,
      "order": null,
      "overflow": null,
      "overflow_x": null,
      "overflow_y": null,
      "padding": null,
      "right": null,
      "top": null,
      "visibility": null,
      "width": null
     }
    },
    "68502fb433564eee8dfdf272ed7e4f56": {
     "model_module": "@jupyter-widgets/controls",
     "model_module_version": "1.5.0",
     "model_name": "HTMLModel",
     "state": {
      "_dom_classes": [],
      "_model_module": "@jupyter-widgets/controls",
      "_model_module_version": "1.5.0",
      "_model_name": "HTMLModel",
      "_view_count": null,
      "_view_module": "@jupyter-widgets/controls",
      "_view_module_version": "1.5.0",
      "_view_name": "HTMLView",
      "description": "",
      "description_tooltip": null,
      "layout": "IPY_MODEL_5c2a7fea8c434d51ada69a0854b88baf",
      "placeholder": "​",
      "style": "IPY_MODEL_6c80bd8a8fe14a5989fe27445c14650f",
      "value": "100%"
     }
    },
    "6c80bd8a8fe14a5989fe27445c14650f": {
     "model_module": "@jupyter-widgets/controls",
     "model_module_version": "1.5.0",
     "model_name": "DescriptionStyleModel",
     "state": {
      "_model_module": "@jupyter-widgets/controls",
      "_model_module_version": "1.5.0",
      "_model_name": "DescriptionStyleModel",
      "_view_count": null,
      "_view_module": "@jupyter-widgets/base",
      "_view_module_version": "1.2.0",
      "_view_name": "StyleView",
      "description_width": ""
     }
    },
    "77f1a51099b24831ad8b2be3d2dc833a": {
     "model_module": "@jupyter-widgets/base",
     "model_module_version": "1.2.0",
     "model_name": "LayoutModel",
     "state": {
      "_model_module": "@jupyter-widgets/base",
      "_model_module_version": "1.2.0",
      "_model_name": "LayoutModel",
      "_view_count": null,
      "_view_module": "@jupyter-widgets/base",
      "_view_module_version": "1.2.0",
      "_view_name": "LayoutView",
      "align_content": null,
      "align_items": null,
      "align_self": null,
      "border": null,
      "bottom": null,
      "display": null,
      "flex": null,
      "flex_flow": null,
      "grid_area": null,
      "grid_auto_columns": null,
      "grid_auto_flow": null,
      "grid_auto_rows": null,
      "grid_column": null,
      "grid_gap": null,
      "grid_row": null,
      "grid_template_areas": null,
      "grid_template_columns": null,
      "grid_template_rows": null,
      "height": null,
      "justify_content": null,
      "justify_items": null,
      "left": null,
      "margin": null,
      "max_height": null,
      "max_width": null,
      "min_height": null,
      "min_width": null,
      "object_fit": null,
      "object_position": null,
      "order": null,
      "overflow": null,
      "overflow_x": null,
      "overflow_y": null,
      "padding": null,
      "right": null,
      "top": null,
      "visibility": null,
      "width": null
     }
    },
    "8b6b7f28751c45c8869aa86eb2a0ab26": {
     "model_module": "@jupyter-widgets/controls",
     "model_module_version": "1.5.0",
     "model_name": "HBoxModel",
     "state": {
      "_dom_classes": [],
      "_model_module": "@jupyter-widgets/controls",
      "_model_module_version": "1.5.0",
      "_model_name": "HBoxModel",
      "_view_count": null,
      "_view_module": "@jupyter-widgets/controls",
      "_view_module_version": "1.5.0",
      "_view_name": "HBoxView",
      "box_style": "",
      "children": [
       "IPY_MODEL_68502fb433564eee8dfdf272ed7e4f56",
       "IPY_MODEL_1f3abdf2e0f6459da4179a94d691c4c4",
       "IPY_MODEL_48c60be3ca9349a295b83f65769c7f27"
      ],
      "layout": "IPY_MODEL_445c84e1e2e541f2a54fb989def386ae"
     }
    },
    "9baa2f69aa9c4387bf1086a04ed78420": {
     "model_module": "@jupyter-widgets/base",
     "model_module_version": "1.2.0",
     "model_name": "LayoutModel",
     "state": {
      "_model_module": "@jupyter-widgets/base",
      "_model_module_version": "1.2.0",
      "_model_name": "LayoutModel",
      "_view_count": null,
      "_view_module": "@jupyter-widgets/base",
      "_view_module_version": "1.2.0",
      "_view_name": "LayoutView",
      "align_content": null,
      "align_items": null,
      "align_self": null,
      "border": null,
      "bottom": null,
      "display": null,
      "flex": null,
      "flex_flow": null,
      "grid_area": null,
      "grid_auto_columns": null,
      "grid_auto_flow": null,
      "grid_auto_rows": null,
      "grid_column": null,
      "grid_gap": null,
      "grid_row": null,
      "grid_template_areas": null,
      "grid_template_columns": null,
      "grid_template_rows": null,
      "height": null,
      "justify_content": null,
      "justify_items": null,
      "left": null,
      "margin": null,
      "max_height": null,
      "max_width": null,
      "min_height": null,
      "min_width": null,
      "object_fit": null,
      "object_position": null,
      "order": null,
      "overflow": null,
      "overflow_x": null,
      "overflow_y": null,
      "padding": null,
      "right": null,
      "top": null,
      "visibility": null,
      "width": null
     }
    },
    "9c875952cdd649a5bab87de9bb3f5200": {
     "model_module": "@jupyter-widgets/controls",
     "model_module_version": "1.5.0",
     "model_name": "DescriptionStyleModel",
     "state": {
      "_model_module": "@jupyter-widgets/controls",
      "_model_module_version": "1.5.0",
      "_model_name": "DescriptionStyleModel",
      "_view_count": null,
      "_view_module": "@jupyter-widgets/base",
      "_view_module_version": "1.2.0",
      "_view_name": "StyleView",
      "description_width": ""
     }
    },
    "a1e2c04dc2cb45ea80bec125e3dbf56f": {
     "model_module": "@jupyter-widgets/controls",
     "model_module_version": "1.5.0",
     "model_name": "HTMLModel",
     "state": {
      "_dom_classes": [],
      "_model_module": "@jupyter-widgets/controls",
      "_model_module_version": "1.5.0",
      "_model_name": "HTMLModel",
      "_view_count": null,
      "_view_module": "@jupyter-widgets/controls",
      "_view_module_version": "1.5.0",
      "_view_name": "HTMLView",
      "description": "",
      "description_tooltip": null,
      "layout": "IPY_MODEL_427056895c674c428400bee0f5b43995",
      "placeholder": "​",
      "style": "IPY_MODEL_04ec68b059df4c628839c3ac29e2ebdd",
      "value": "100%"
     }
    },
    "a29f88f174f8499082fbb36a36c47fa4": {
     "model_module": "@jupyter-widgets/controls",
     "model_module_version": "1.5.0",
     "model_name": "HBoxModel",
     "state": {
      "_dom_classes": [],
      "_model_module": "@jupyter-widgets/controls",
      "_model_module_version": "1.5.0",
      "_model_name": "HBoxModel",
      "_view_count": null,
      "_view_module": "@jupyter-widgets/controls",
      "_view_module_version": "1.5.0",
      "_view_name": "HBoxView",
      "box_style": "",
      "children": [
       "IPY_MODEL_d45747150d0b434593a3a7c98399599a",
       "IPY_MODEL_ea73f7deb1c643f7b81de7fb7acaaf1b",
       "IPY_MODEL_18bc63944343440f837cdff76db004fc"
      ],
      "layout": "IPY_MODEL_efc3bc0c48124ebeb79d245216eaf0fe"
     }
    },
    "a4ae510b4f3845f891a796cf844fc2bb": {
     "model_module": "@jupyter-widgets/base",
     "model_module_version": "1.2.0",
     "model_name": "LayoutModel",
     "state": {
      "_model_module": "@jupyter-widgets/base",
      "_model_module_version": "1.2.0",
      "_model_name": "LayoutModel",
      "_view_count": null,
      "_view_module": "@jupyter-widgets/base",
      "_view_module_version": "1.2.0",
      "_view_name": "LayoutView",
      "align_content": null,
      "align_items": null,
      "align_self": null,
      "border": null,
      "bottom": null,
      "display": null,
      "flex": null,
      "flex_flow": null,
      "grid_area": null,
      "grid_auto_columns": null,
      "grid_auto_flow": null,
      "grid_auto_rows": null,
      "grid_column": null,
      "grid_gap": null,
      "grid_row": null,
      "grid_template_areas": null,
      "grid_template_columns": null,
      "grid_template_rows": null,
      "height": null,
      "justify_content": null,
      "justify_items": null,
      "left": null,
      "margin": null,
      "max_height": null,
      "max_width": null,
      "min_height": null,
      "min_width": null,
      "object_fit": null,
      "object_position": null,
      "order": null,
      "overflow": null,
      "overflow_x": null,
      "overflow_y": null,
      "padding": null,
      "right": null,
      "top": null,
      "visibility": null,
      "width": null
     }
    },
    "aa329cb93df44a6da6012c7cc49d7489": {
     "model_module": "@jupyter-widgets/base",
     "model_module_version": "1.2.0",
     "model_name": "LayoutModel",
     "state": {
      "_model_module": "@jupyter-widgets/base",
      "_model_module_version": "1.2.0",
      "_model_name": "LayoutModel",
      "_view_count": null,
      "_view_module": "@jupyter-widgets/base",
      "_view_module_version": "1.2.0",
      "_view_name": "LayoutView",
      "align_content": null,
      "align_items": null,
      "align_self": null,
      "border": null,
      "bottom": null,
      "display": null,
      "flex": null,
      "flex_flow": null,
      "grid_area": null,
      "grid_auto_columns": null,
      "grid_auto_flow": null,
      "grid_auto_rows": null,
      "grid_column": null,
      "grid_gap": null,
      "grid_row": null,
      "grid_template_areas": null,
      "grid_template_columns": null,
      "grid_template_rows": null,
      "height": null,
      "justify_content": null,
      "justify_items": null,
      "left": null,
      "margin": null,
      "max_height": null,
      "max_width": null,
      "min_height": null,
      "min_width": null,
      "object_fit": null,
      "object_position": null,
      "order": null,
      "overflow": null,
      "overflow_x": null,
      "overflow_y": null,
      "padding": null,
      "right": null,
      "top": null,
      "visibility": null,
      "width": null
     }
    },
    "b39b6e9131ca4ce3b31e84ceb04e1b83": {
     "model_module": "@jupyter-widgets/controls",
     "model_module_version": "1.5.0",
     "model_name": "ProgressStyleModel",
     "state": {
      "_model_module": "@jupyter-widgets/controls",
      "_model_module_version": "1.5.0",
      "_model_name": "ProgressStyleModel",
      "_view_count": null,
      "_view_module": "@jupyter-widgets/base",
      "_view_module_version": "1.2.0",
      "_view_name": "StyleView",
      "bar_color": null,
      "description_width": ""
     }
    },
    "b6d46d40efa14b21814f41531f5a2f41": {
     "model_module": "@jupyter-widgets/controls",
     "model_module_version": "1.5.0",
     "model_name": "FloatProgressModel",
     "state": {
      "_dom_classes": [],
      "_model_module": "@jupyter-widgets/controls",
      "_model_module_version": "1.5.0",
      "_model_name": "FloatProgressModel",
      "_view_count": null,
      "_view_module": "@jupyter-widgets/controls",
      "_view_module_version": "1.5.0",
      "_view_name": "ProgressView",
      "bar_style": "success",
      "description": "",
      "description_tooltip": null,
      "layout": "IPY_MODEL_77f1a51099b24831ad8b2be3d2dc833a",
      "max": 1,
      "min": 0,
      "orientation": "horizontal",
      "style": "IPY_MODEL_d518f2c2ab6945b78a6d336dad6262bd",
      "value": 1
     }
    },
    "c31a747e18df4b4aa4449a30e387448c": {
     "model_module": "@jupyter-widgets/base",
     "model_module_version": "1.2.0",
     "model_name": "LayoutModel",
     "state": {
      "_model_module": "@jupyter-widgets/base",
      "_model_module_version": "1.2.0",
      "_model_name": "LayoutModel",
      "_view_count": null,
      "_view_module": "@jupyter-widgets/base",
      "_view_module_version": "1.2.0",
      "_view_name": "LayoutView",
      "align_content": null,
      "align_items": null,
      "align_self": null,
      "border": null,
      "bottom": null,
      "display": null,
      "flex": null,
      "flex_flow": null,
      "grid_area": null,
      "grid_auto_columns": null,
      "grid_auto_flow": null,
      "grid_auto_rows": null,
      "grid_column": null,
      "grid_gap": null,
      "grid_row": null,
      "grid_template_areas": null,
      "grid_template_columns": null,
      "grid_template_rows": null,
      "height": null,
      "justify_content": null,
      "justify_items": null,
      "left": null,
      "margin": null,
      "max_height": null,
      "max_width": null,
      "min_height": null,
      "min_width": null,
      "object_fit": null,
      "object_position": null,
      "order": null,
      "overflow": null,
      "overflow_x": null,
      "overflow_y": null,
      "padding": null,
      "right": null,
      "top": null,
      "visibility": null,
      "width": null
     }
    },
    "c5eed102ef134a4e8ca41713b82ff6a4": {
     "model_module": "@jupyter-widgets/base",
     "model_module_version": "1.2.0",
     "model_name": "LayoutModel",
     "state": {
      "_model_module": "@jupyter-widgets/base",
      "_model_module_version": "1.2.0",
      "_model_name": "LayoutModel",
      "_view_count": null,
      "_view_module": "@jupyter-widgets/base",
      "_view_module_version": "1.2.0",
      "_view_name": "LayoutView",
      "align_content": null,
      "align_items": null,
      "align_self": null,
      "border": null,
      "bottom": null,
      "display": null,
      "flex": null,
      "flex_flow": null,
      "grid_area": null,
      "grid_auto_columns": null,
      "grid_auto_flow": null,
      "grid_auto_rows": null,
      "grid_column": null,
      "grid_gap": null,
      "grid_row": null,
      "grid_template_areas": null,
      "grid_template_columns": null,
      "grid_template_rows": null,
      "height": null,
      "justify_content": null,
      "justify_items": null,
      "left": null,
      "margin": null,
      "max_height": null,
      "max_width": null,
      "min_height": null,
      "min_width": null,
      "object_fit": null,
      "object_position": null,
      "order": null,
      "overflow": null,
      "overflow_x": null,
      "overflow_y": null,
      "padding": null,
      "right": null,
      "top": null,
      "visibility": null,
      "width": null
     }
    },
    "d45747150d0b434593a3a7c98399599a": {
     "model_module": "@jupyter-widgets/controls",
     "model_module_version": "1.5.0",
     "model_name": "HTMLModel",
     "state": {
      "_dom_classes": [],
      "_model_module": "@jupyter-widgets/controls",
      "_model_module_version": "1.5.0",
      "_model_name": "HTMLModel",
      "_view_count": null,
      "_view_module": "@jupyter-widgets/controls",
      "_view_module_version": "1.5.0",
      "_view_name": "HTMLView",
      "description": "",
      "description_tooltip": null,
      "layout": "IPY_MODEL_aa329cb93df44a6da6012c7cc49d7489",
      "placeholder": "​",
      "style": "IPY_MODEL_9c875952cdd649a5bab87de9bb3f5200",
      "value": "100%"
     }
    },
    "d518f2c2ab6945b78a6d336dad6262bd": {
     "model_module": "@jupyter-widgets/controls",
     "model_module_version": "1.5.0",
     "model_name": "ProgressStyleModel",
     "state": {
      "_model_module": "@jupyter-widgets/controls",
      "_model_module_version": "1.5.0",
      "_model_name": "ProgressStyleModel",
      "_view_count": null,
      "_view_module": "@jupyter-widgets/base",
      "_view_module_version": "1.2.0",
      "_view_name": "StyleView",
      "bar_color": null,
      "description_width": ""
     }
    },
    "d8bf8dc5d6c84140a4e96c9c435b8f17": {
     "model_module": "@jupyter-widgets/controls",
     "model_module_version": "1.5.0",
     "model_name": "HTMLModel",
     "state": {
      "_dom_classes": [],
      "_model_module": "@jupyter-widgets/controls",
      "_model_module_version": "1.5.0",
      "_model_name": "HTMLModel",
      "_view_count": null,
      "_view_module": "@jupyter-widgets/controls",
      "_view_module_version": "1.5.0",
      "_view_name": "HTMLView",
      "description": "",
      "description_tooltip": null,
      "layout": "IPY_MODEL_22ba979142074f1d976e1a905544fd2d",
      "placeholder": "​",
      "style": "IPY_MODEL_5815ae1348994bfebba4a8e968489a96",
      "value": " 1/1 [00:00&lt;00:00,  7.95ba/s]"
     }
    },
    "e6e50da6516847878309fdc5c463edb3": {
     "model_module": "@jupyter-widgets/controls",
     "model_module_version": "1.5.0",
     "model_name": "DescriptionStyleModel",
     "state": {
      "_model_module": "@jupyter-widgets/controls",
      "_model_module_version": "1.5.0",
      "_model_name": "DescriptionStyleModel",
      "_view_count": null,
      "_view_module": "@jupyter-widgets/base",
      "_view_module_version": "1.2.0",
      "_view_name": "StyleView",
      "description_width": ""
     }
    },
    "ea73f7deb1c643f7b81de7fb7acaaf1b": {
     "model_module": "@jupyter-widgets/controls",
     "model_module_version": "1.5.0",
     "model_name": "FloatProgressModel",
     "state": {
      "_dom_classes": [],
      "_model_module": "@jupyter-widgets/controls",
      "_model_module_version": "1.5.0",
      "_model_name": "FloatProgressModel",
      "_view_count": null,
      "_view_module": "@jupyter-widgets/controls",
      "_view_module_version": "1.5.0",
      "_view_name": "ProgressView",
      "bar_style": "success",
      "description": "",
      "description_tooltip": null,
      "layout": "IPY_MODEL_c5eed102ef134a4e8ca41713b82ff6a4",
      "max": 6962,
      "min": 0,
      "orientation": "horizontal",
      "style": "IPY_MODEL_b39b6e9131ca4ce3b31e84ceb04e1b83",
      "value": 6962
     }
    },
    "efc3bc0c48124ebeb79d245216eaf0fe": {
     "model_module": "@jupyter-widgets/base",
     "model_module_version": "1.2.0",
     "model_name": "LayoutModel",
     "state": {
      "_model_module": "@jupyter-widgets/base",
      "_model_module_version": "1.2.0",
      "_model_name": "LayoutModel",
      "_view_count": null,
      "_view_module": "@jupyter-widgets/base",
      "_view_module_version": "1.2.0",
      "_view_name": "LayoutView",
      "align_content": null,
      "align_items": null,
      "align_self": null,
      "border": null,
      "bottom": null,
      "display": null,
      "flex": null,
      "flex_flow": null,
      "grid_area": null,
      "grid_auto_columns": null,
      "grid_auto_flow": null,
      "grid_auto_rows": null,
      "grid_column": null,
      "grid_gap": null,
      "grid_row": null,
      "grid_template_areas": null,
      "grid_template_columns": null,
      "grid_template_rows": null,
      "height": null,
      "justify_content": null,
      "justify_items": null,
      "left": null,
      "margin": null,
      "max_height": null,
      "max_width": null,
      "min_height": null,
      "min_width": null,
      "object_fit": null,
      "object_position": null,
      "order": null,
      "overflow": null,
      "overflow_x": null,
      "overflow_y": null,
      "padding": null,
      "right": null,
      "top": null,
      "visibility": null,
      "width": null
     }
    }
   }
  }
 },
 "nbformat": 4,
 "nbformat_minor": 4
}
