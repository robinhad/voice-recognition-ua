{
 "cells": [
  {
   "cell_type": "code",
   "execution_count": 1,
   "metadata": {
    "colab": {
     "base_uri": "https://localhost:8080/"
    },
    "executionInfo": {
     "elapsed": 829,
     "status": "ok",
     "timestamp": 1641588786523,
     "user": {
      "displayName": "Yurii Paniv",
      "photoUrl": "https://lh3.googleusercontent.com/a/default-user=s64",
      "userId": "13095662915325887123"
     },
     "user_tz": -120
    },
    "id": "YELVqGxMxnbG",
    "outputId": "876761c1-2e03-411b-e61b-07ac4ad61377"
   },
   "outputs": [
    {
     "name": "stdout",
     "output_type": "stream",
     "text": [
      "Mon Dec 26 17:51:09 2022       \n",
      "+-----------------------------------------------------------------------------+\n",
      "| NVIDIA-SMI 515.86.01    Driver Version: 515.86.01    CUDA Version: 11.7     |\n",
      "|-------------------------------+----------------------+----------------------+\n",
      "| GPU  Name        Persistence-M| Bus-Id        Disp.A | Volatile Uncorr. ECC |\n",
      "| Fan  Temp  Perf  Pwr:Usage/Cap|         Memory-Usage | GPU-Util  Compute M. |\n",
      "|                               |                      |               MIG M. |\n",
      "|===============================+======================+======================|\n",
      "|   0  NVIDIA GeForce ...  Off  | 00000000:0A:00.0  On |                  N/A |\n",
      "|  0%   34C    P5    49W / 390W |   1437MiB / 24576MiB |      2%      Default |\n",
      "|                               |                      |                  N/A |\n",
      "+-------------------------------+----------------------+----------------------+\n",
      "                                                                               \n",
      "+-----------------------------------------------------------------------------+\n",
      "| Processes:                                                                  |\n",
      "|  GPU   GI   CI        PID   Type   Process name                  GPU Memory |\n",
      "|        ID   ID                                                   Usage      |\n",
      "|=============================================================================|\n",
      "|    0   N/A  N/A      1223      G   /usr/lib/xorg/Xorg                498MiB |\n",
      "|    0   N/A  N/A      2007      G   /usr/bin/kwalletd5                  4MiB |\n",
      "|    0   N/A  N/A      2174      G   ...ec/xdg-desktop-portal-kde        4MiB |\n",
      "|    0   N/A  N/A      2211      G   /usr/bin/ksmserver                  4MiB |\n",
      "|    0   N/A  N/A      2213      G   /usr/bin/kded5                      4MiB |\n",
      "|    0   N/A  N/A      2214      G   /usr/bin/kwin_x11                  96MiB |\n",
      "|    0   N/A  N/A      2263      G   /usr/bin/plasmashell               96MiB |\n",
      "|    0   N/A  N/A      2283      G   ...de-authentication-agent-1        4MiB |\n",
      "|    0   N/A  N/A      2354      G   ...x-gnu/libexec/kdeconnectd        4MiB |\n",
      "|    0   N/A  N/A      2356      G   .../usr/bin/telegram-desktop        7MiB |\n",
      "|    0   N/A  N/A      2370      G   /usr/bin/kaccess                    4MiB |\n",
      "|    0   N/A  N/A      2377      G   .../libexec/DiscoverNotifier        4MiB |\n",
      "|    0   N/A  N/A      2443      G   ...1/usr/lib/firefox/firefox       96MiB |\n",
      "|    0   N/A  N/A      2704      G   /usr/bin/dolphin                    4MiB |\n",
      "|    0   N/A  N/A      2806      G   /usr/bin/dolphin                    4MiB |\n",
      "|    0   N/A  N/A      2911      G   /usr/bin/dolphin                    4MiB |\n",
      "|    0   N/A  N/A      6634      G   ...RendererForSitePerProcess      585MiB |\n",
      "+-----------------------------------------------------------------------------+\n"
     ]
    }
   ],
   "source": [
    "gpu_info = !nvidia-smi\n",
    "gpu_info = '\\n'.join(gpu_info)\n",
    "if gpu_info.find('failed') >= 0:\n",
    "  print('Not connected to a GPU')\n",
    "else:\n",
    "  print(gpu_info)"
   ]
  },
  {
   "cell_type": "code",
   "execution_count": 2,
   "metadata": {
    "id": "c8eh87Hoee5d"
   },
   "outputs": [],
   "source": [
    "#%%capture\n",
    "#!pip install datasets==1.13.3\n",
    "#!pip install transformers==4.11.3\n",
    "#!pip install huggingface_hub==0.1\n",
    "#!pip install torchaudio==0.10.0+cu113 -f https://download.pytorch.org/whl/cu113/torch_stable.html\n",
    "#!pip install jiwer"
   ]
  },
  {
   "cell_type": "code",
   "execution_count": 5,
   "metadata": {
    "colab": {
     "base_uri": "https://localhost:8080/"
    },
    "executionInfo": {
     "elapsed": 5334,
     "status": "ok",
     "timestamp": 1641588811766,
     "user": {
      "displayName": "Yurii Paniv",
      "photoUrl": "https://lh3.googleusercontent.com/a/default-user=s64",
      "userId": "13095662915325887123"
     },
     "user_tz": -120
    },
    "id": "2MMXcWFFgCXU",
    "outputId": "be9fd72e-4395-4cd0-ff87-631dad046e71"
   },
   "outputs": [
    {
     "name": "stderr",
     "output_type": "stream",
     "text": [
      "Reusing dataset common_voice_10_0 (/home/robinhad/.cache/huggingface/datasets/mozilla-foundation___common_voice_10_0/uk/10.0.0/27df768ab1b5cac48a7616f145b79b62599167b0ffa2e054bf4c3e74e9619e5e)\n",
      "Reusing dataset common_voice_10_0 (/home/robinhad/.cache/huggingface/datasets/mozilla-foundation___common_voice_10_0/uk/10.0.0/27df768ab1b5cac48a7616f145b79b62599167b0ffa2e054bf4c3e74e9619e5e)\n"
     ]
    }
   ],
   "source": [
    "from datasets import load_dataset, load_metric, Audio\n",
    "\n",
    "common_voice_train = load_dataset(\"mozilla-foundation/common_voice_10_0\", \"uk\", split=\"train\", use_auth_token=True)\n",
    "common_voice_test = load_dataset(\"mozilla-foundation/common_voice_10_0\", \"uk\", split=\"test\", use_auth_token=True)"
   ]
  },
  {
   "cell_type": "code",
   "execution_count": 6,
   "metadata": {},
   "outputs": [
    {
     "data": {
      "text/plain": [
       "Dataset({\n",
       "    features: ['client_id', 'path', 'audio', 'sentence', 'up_votes', 'down_votes', 'age', 'gender', 'accent', 'locale', 'segment'],\n",
       "    num_rows: 11463\n",
       "})"
      ]
     },
     "execution_count": 6,
     "metadata": {},
     "output_type": "execute_result"
    }
   ],
   "source": [
    "common_voice_train"
   ]
  },
  {
   "cell_type": "code",
   "execution_count": 7,
   "metadata": {},
   "outputs": [
    {
     "data": {
      "text/plain": [
       "0"
      ]
     },
     "execution_count": 7,
     "metadata": {},
     "output_type": "execute_result"
    }
   ],
   "source": [
    "common_voice_train.cleanup_cache_files()\n",
    "common_voice_test.cleanup_cache_files()"
   ]
  },
  {
   "cell_type": "code",
   "execution_count": 8,
   "metadata": {
    "id": "kbyq6lDgQc2a"
   },
   "outputs": [],
   "source": [
    "common_voice_train = common_voice_train.remove_columns([\"accent\", \"age\", \"client_id\", \"down_votes\", \"gender\", \"locale\", \"segment\", \"up_votes\"])\n",
    "common_voice_test = common_voice_test.remove_columns([\"accent\", \"age\", \"client_id\", \"down_votes\", \"gender\", \"locale\", \"segment\", \"up_votes\"])"
   ]
  },
  {
   "cell_type": "code",
   "execution_count": 9,
   "metadata": {
    "id": "72737oog2F6U"
   },
   "outputs": [],
   "source": [
    "from datasets import ClassLabel\n",
    "import random\n",
    "import pandas as pd\n",
    "from IPython.display import display, HTML\n",
    "\n",
    "def show_random_elements(dataset, num_examples=10):\n",
    "    assert num_examples <= len(dataset), \"Can't pick more elements than there are in the dataset.\"\n",
    "    picks = []\n",
    "    for _ in range(num_examples):\n",
    "        pick = random.randint(0, len(dataset)-1)\n",
    "        while pick in picks:\n",
    "            pick = random.randint(0, len(dataset)-1)\n",
    "        picks.append(pick)\n",
    "    \n",
    "    df = pd.DataFrame(dataset[picks])\n",
    "    display(HTML(df.to_html()))"
   ]
  },
  {
   "cell_type": "code",
   "execution_count": 10,
   "metadata": {
    "colab": {
     "base_uri": "https://localhost:8080/",
     "height": 363
    },
    "executionInfo": {
     "elapsed": 39,
     "status": "ok",
     "timestamp": 1641588811771,
     "user": {
      "displayName": "Yurii Paniv",
      "photoUrl": "https://lh3.googleusercontent.com/a/default-user=s64",
      "userId": "13095662915325887123"
     },
     "user_tz": -120
    },
    "id": "K_JUmf3G3b9S",
    "outputId": "8603c909-09e1-43ae-f7c2-b27b25d795a3"
   },
   "outputs": [
    {
     "data": {
      "text/html": [
       "<table border=\"1\" class=\"dataframe\">\n",
       "  <thead>\n",
       "    <tr style=\"text-align: right;\">\n",
       "      <th></th>\n",
       "      <th>sentence</th>\n",
       "    </tr>\n",
       "  </thead>\n",
       "  <tbody>\n",
       "    <tr>\n",
       "      <th>0</th>\n",
       "      <td>Щоночі одна півсотня ночувала у лісі, друга — в селі.</td>\n",
       "    </tr>\n",
       "    <tr>\n",
       "      <th>1</th>\n",
       "      <td>І зараз за тим днем твоя доля зміниться на краще.</td>\n",
       "    </tr>\n",
       "    <tr>\n",
       "      <th>2</th>\n",
       "      <td>Оп'ять Ірисю посила:</td>\n",
       "    </tr>\n",
       "    <tr>\n",
       "      <th>3</th>\n",
       "      <td>Рушниця впала по той бік плоту.</td>\n",
       "    </tr>\n",
       "    <tr>\n",
       "      <th>4</th>\n",
       "      <td>Загуде вона, як гром.</td>\n",
       "    </tr>\n",
       "    <tr>\n",
       "      <th>5</th>\n",
       "      <td>Дружина не витримує і сміється.</td>\n",
       "    </tr>\n",
       "    <tr>\n",
       "      <th>6</th>\n",
       "      <td>Люблю, тільки боюся говорити.</td>\n",
       "    </tr>\n",
       "    <tr>\n",
       "      <th>7</th>\n",
       "      <td>Звір заревів востаннє, сіпнувся головою назад і зник під водою.</td>\n",
       "    </tr>\n",
       "    <tr>\n",
       "      <th>8</th>\n",
       "      <td>Про їзду риссю не могло бути й мови.</td>\n",
       "    </tr>\n",
       "    <tr>\n",
       "      <th>9</th>\n",
       "      <td>Ми заночували в Бондуровій, — червоні — в Баландиному.</td>\n",
       "    </tr>\n",
       "  </tbody>\n",
       "</table>"
      ],
      "text/plain": [
       "<IPython.core.display.HTML object>"
      ]
     },
     "metadata": {},
     "output_type": "display_data"
    }
   ],
   "source": [
    "show_random_elements(common_voice_train.remove_columns([\"path\", \"audio\"]), num_examples=10)"
   ]
  },
  {
   "cell_type": "code",
   "execution_count": 11,
   "metadata": {
    "colab": {
     "base_uri": "https://localhost:8080/"
    },
    "executionInfo": {
     "elapsed": 30,
     "status": "ok",
     "timestamp": 1641588811775,
     "user": {
      "displayName": "Yurii Paniv",
      "photoUrl": "https://lh3.googleusercontent.com/a/default-user=s64",
      "userId": "13095662915325887123"
     },
     "user_tz": -120
    },
    "id": "XIHocAuTQbBR",
    "outputId": "e8392853-e0d1-45ba-df74-065c50565654"
   },
   "outputs": [
    {
     "data": {
      "application/json": {
       "ascii": false,
       "bar_format": null,
       "colour": null,
       "elapsed": 0.018886804580688477,
       "initial": 0,
       "n": 0,
       "ncols": null,
       "nrows": null,
       "postfix": null,
       "prefix": "",
       "rate": null,
       "total": 12,
       "unit": "ba",
       "unit_divisor": 1000,
       "unit_scale": false
      },
      "application/vnd.jupyter.widget-view+json": {
       "model_id": "609c1f72241d438999ec5fffaf0f23f5",
       "version_major": 2,
       "version_minor": 0
      },
      "text/plain": [
       "  0%|          | 0/12 [00:00<?, ?ba/s]"
      ]
     },
     "metadata": {},
     "output_type": "display_data"
    },
    {
     "data": {
      "application/json": {
       "ascii": false,
       "bar_format": null,
       "colour": null,
       "elapsed": 0.011157989501953125,
       "initial": 0,
       "n": 0,
       "ncols": null,
       "nrows": null,
       "postfix": null,
       "prefix": "",
       "rate": null,
       "total": 7,
       "unit": "ba",
       "unit_divisor": 1000,
       "unit_scale": false
      },
      "application/vnd.jupyter.widget-view+json": {
       "model_id": "29df50a982df4687ae195c2edd1145d3",
       "version_major": 2,
       "version_minor": 0
      },
      "text/plain": [
       "  0%|          | 0/7 [00:00<?, ?ba/s]"
      ]
     },
     "metadata": {},
     "output_type": "display_data"
    }
   ],
   "source": [
    "filter_func = lambda x: not (\"joki\" in x or \"ы\" in x)\n",
    "common_voice_train = common_voice_train.filter(filter_func, input_columns=[\"sentence\"])\n",
    "common_voice_test = common_voice_test.filter(filter_func, input_columns=[\"sentence\"])"
   ]
  },
  {
   "cell_type": "code",
   "execution_count": 12,
   "metadata": {
    "id": "ZcVsD0ETElrR"
   },
   "outputs": [
    {
     "data": {
      "text/plain": [
       "{'sentence': \"привіт як у тебе справи загалом м'якотілий друже\"}"
      ]
     },
     "execution_count": 12,
     "metadata": {},
     "output_type": "execute_result"
    }
   ],
   "source": [
    "def cleaner(batch):\n",
    "    replace_as_space = \"!:;,—…–“”?\\\"«»\"\n",
    "    special_words = {\n",
    "        \"ХIХ\": \"дев'ятнадцятого\",\n",
    "        \"Linux\": \"Лінукс\",\n",
    "        \"Maace\": \"Маасе\",\n",
    "        \"м 'ясо\": \"м'ясо\",\n",
    "        \"'іде\": \"іде\",\n",
    "        \"Д'Аламбер\": \"даламбер\",\n",
    "        \" - \": \" \",\n",
    "        \"--\": \" \",\n",
    "        \"....\": \" \",\n",
    "        \"...\": \" \",\n",
    "        \"..\": \" \",\n",
    "        \" '\": \" \",\n",
    "        \"О'\": \"о\",\n",
    "        \"-\": \"\" #further check needed\n",
    "    }\n",
    "    # check abbreviations later\n",
    "    abbreviations = {\n",
    "        'ЧК': \"чека\",\n",
    "        'ҐПУ': \"ґепеу\",\n",
    "        'ЄС.': \"єес\",\n",
    "        'УНР': \"уенер\",\n",
    "        'ДТП.': \"детепе\",\n",
    "        'РНБО': \"еренбео\",\n",
    "        'СРСР': \"есересер\",\n",
    "        'ДБР': \"дебеер\",\n",
    "        'КП': \"капе\",\n",
    "        'ОС': \"оес\",\n",
    "    } \n",
    "    chars_dict = {\n",
    "        \"C\": \"С\",\n",
    "        \"I\": \"І\",\n",
    "        \"P\": \"Р\",\n",
    "        \"a\": \"а\",\n",
    "        \"e\": \"е\",\n",
    "        \"x\": \"х\",\n",
    "        \"y\": \"у\",\n",
    "        \"p\": \"р\",\n",
    "        \"o\": \"о\",\n",
    "        \"i\": \"і\",\n",
    "        \"\\u0301\": \"\",\n",
    "        \"`\": \"'\",\n",
    "        \"՚\": \"'\",\n",
    "        \".\": \" \",\n",
    "        \"’\": \"'\"\n",
    "        \n",
    "    }\n",
    "    for word in special_words.keys():\n",
    "        batch[\"sentence\"] = batch[\"sentence\"].replace(word, special_words[word])\n",
    "    for word in abbreviations.keys():\n",
    "        batch[\"sentence\"] = batch[\"sentence\"].replace(word, abbreviations[word])\n",
    "    for char in chars_dict.keys():\n",
    "        batch[\"sentence\"] = batch[\"sentence\"].replace(char, chars_dict[char])\n",
    "    for char in replace_as_space:\n",
    "        batch[\"sentence\"] = batch[\"sentence\"].replace(char, \" \")\n",
    "    batch[\"sentence\"] = \" \".join(filter(lambda x: x != \"\", batch[\"sentence\"].strip().lower().split(\" \")))\n",
    "    return batch\n",
    "\n",
    "sentence = {\"sentence\": \"Привіт, - як у тебе справи загалом, м'якотілий друже?\"}\n",
    "cleaner(sentence)"
   ]
  },
  {
   "cell_type": "code",
   "execution_count": 13,
   "metadata": {
    "colab": {
     "base_uri": "https://localhost:8080/",
     "height": 401
    },
    "executionInfo": {
     "elapsed": 32,
     "status": "ok",
     "timestamp": 1641588811774,
     "user": {
      "displayName": "Yurii Paniv",
      "photoUrl": "https://lh3.googleusercontent.com/a/default-user=s64",
      "userId": "13095662915325887123"
     },
     "user_tz": -120
    },
    "id": "6falIJSBED65",
    "outputId": "2f0ca829-dbfa-4d70-ee4a-ded2ae342117"
   },
   "outputs": [
    {
     "data": {
      "application/json": {
       "ascii": false,
       "bar_format": null,
       "colour": null,
       "elapsed": 0.014832735061645508,
       "initial": 0,
       "n": 0,
       "ncols": null,
       "nrows": null,
       "postfix": null,
       "prefix": "",
       "rate": null,
       "total": 11463,
       "unit": "ex",
       "unit_divisor": 1000,
       "unit_scale": false
      },
      "application/vnd.jupyter.widget-view+json": {
       "model_id": "0fc7a813101e45a9866279d6d06f4d4f",
       "version_major": 2,
       "version_minor": 0
      },
      "text/plain": [
       "  0%|          | 0/11463 [00:00<?, ?ex/s]"
      ]
     },
     "metadata": {},
     "output_type": "display_data"
    },
    {
     "data": {
      "text/html": [
       "<table border=\"1\" class=\"dataframe\">\n",
       "  <thead>\n",
       "    <tr style=\"text-align: right;\">\n",
       "      <th></th>\n",
       "      <th>sentence</th>\n",
       "    </tr>\n",
       "  </thead>\n",
       "  <tbody>\n",
       "    <tr>\n",
       "      <th>0</th>\n",
       "      <td>простіть</td>\n",
       "    </tr>\n",
       "    <tr>\n",
       "      <th>1</th>\n",
       "      <td>полковник дасть вам проїзні документи до табору</td>\n",
       "    </tr>\n",
       "    <tr>\n",
       "      <th>2</th>\n",
       "      <td>зараз тільки про це йде мова</td>\n",
       "    </tr>\n",
       "    <tr>\n",
       "      <th>3</th>\n",
       "      <td>у мене лопата вартий на килимі до кам'янки вернутися</td>\n",
       "    </tr>\n",
       "    <tr>\n",
       "      <th>4</th>\n",
       "      <td>хотілося взнати про холодний яр про долю товаришів</td>\n",
       "    </tr>\n",
       "    <tr>\n",
       "      <th>5</th>\n",
       "      <td>а той слухає уважно перепитує</td>\n",
       "    </tr>\n",
       "    <tr>\n",
       "      <th>6</th>\n",
       "      <td>чи то образ перемінився в чоловіка чи чоловік був у тім образі</td>\n",
       "    </tr>\n",
       "    <tr>\n",
       "      <th>7</th>\n",
       "      <td>кінь</td>\n",
       "    </tr>\n",
       "    <tr>\n",
       "      <th>8</th>\n",
       "      <td>у самців вусики трохи довші а у самок дещо коротші за тіло</td>\n",
       "    </tr>\n",
       "    <tr>\n",
       "      <th>9</th>\n",
       "      <td>чорний туман що сповивав усе довкола поволі сірів</td>\n",
       "    </tr>\n",
       "  </tbody>\n",
       "</table>"
      ],
      "text/plain": [
       "<IPython.core.display.HTML object>"
      ]
     },
     "metadata": {},
     "output_type": "display_data"
    }
   ],
   "source": [
    "show_random_elements(common_voice_train.map(cleaner).remove_columns([\"path\", \"audio\"]), num_examples=10)"
   ]
  },
  {
   "cell_type": "code",
   "execution_count": 14,
   "metadata": {},
   "outputs": [
    {
     "name": "stderr",
     "output_type": "stream",
     "text": [
      "Loading cached processed dataset at /home/robinhad/.cache/huggingface/datasets/mozilla-foundation___common_voice_10_0/uk/10.0.0/27df768ab1b5cac48a7616f145b79b62599167b0ffa2e054bf4c3e74e9619e5e/cache-890587fbc5f83609.arrow\n"
     ]
    },
    {
     "data": {
      "application/json": {
       "ascii": false,
       "bar_format": null,
       "colour": null,
       "elapsed": 0.012672662734985352,
       "initial": 0,
       "n": 0,
       "ncols": null,
       "nrows": null,
       "postfix": null,
       "prefix": "",
       "rate": null,
       "total": 6783,
       "unit": "ex",
       "unit_divisor": 1000,
       "unit_scale": false
      },
      "application/vnd.jupyter.widget-view+json": {
       "model_id": "c10e3f80cadb49a7951a2a6863af53bf",
       "version_major": 2,
       "version_minor": 0
      },
      "text/plain": [
       "  0%|          | 0/6783 [00:00<?, ?ex/s]"
      ]
     },
     "metadata": {},
     "output_type": "display_data"
    }
   ],
   "source": [
    "common_voice_train = common_voice_train.map(cleaner)\n",
    "common_voice_test = common_voice_test.map(cleaner)"
   ]
  },
  {
   "cell_type": "code",
   "execution_count": 15,
   "metadata": {
    "colab": {
     "base_uri": "https://localhost:8080/",
     "height": 363
    },
    "executionInfo": {
     "elapsed": 24,
     "status": "ok",
     "timestamp": 1641588811775,
     "user": {
      "displayName": "Yurii Paniv",
      "photoUrl": "https://lh3.googleusercontent.com/a/default-user=s64",
      "userId": "13095662915325887123"
     },
     "user_tz": -120
    },
    "id": "RBDRAAYxRE6n",
    "outputId": "a16beae1-84e6-4388-d601-2ed3a92bf451"
   },
   "outputs": [
    {
     "data": {
      "text/html": [
       "<table border=\"1\" class=\"dataframe\">\n",
       "  <thead>\n",
       "    <tr style=\"text-align: right;\">\n",
       "      <th></th>\n",
       "      <th>sentence</th>\n",
       "    </tr>\n",
       "  </thead>\n",
       "  <tbody>\n",
       "    <tr>\n",
       "      <th>0</th>\n",
       "      <td>спостерігаючи за їхніми спокійними рухами пригадую роботу чекістів у льоху для розстрілів</td>\n",
       "    </tr>\n",
       "    <tr>\n",
       "      <th>1</th>\n",
       "      <td>сірого били дрючками селяни що упіймали його з парою крадених коней</td>\n",
       "    </tr>\n",
       "    <tr>\n",
       "      <th>2</th>\n",
       "      <td>мав лише револьвер далековид і планшет із мапою</td>\n",
       "    </tr>\n",
       "    <tr>\n",
       "      <th>3</th>\n",
       "      <td>коли еней мене бажа</td>\n",
       "    </tr>\n",
       "    <tr>\n",
       "      <th>4</th>\n",
       "      <td>ось і волость</td>\n",
       "    </tr>\n",
       "    <tr>\n",
       "      <th>5</th>\n",
       "      <td>і посмоктали кісточки</td>\n",
       "    </tr>\n",
       "    <tr>\n",
       "      <th>6</th>\n",
       "      <td>скакати високо</td>\n",
       "    </tr>\n",
       "    <tr>\n",
       "      <th>7</th>\n",
       "      <td>я стрепенувся і відкрив повіки</td>\n",
       "    </tr>\n",
       "    <tr>\n",
       "      <th>8</th>\n",
       "      <td>нападом на кінноту ми себе виявили</td>\n",
       "    </tr>\n",
       "    <tr>\n",
       "      <th>9</th>\n",
       "      <td>червоні розгубилися і в безладі закрутилися на місці</td>\n",
       "    </tr>\n",
       "  </tbody>\n",
       "</table>"
      ],
      "text/plain": [
       "<IPython.core.display.HTML object>"
      ]
     },
     "metadata": {},
     "output_type": "display_data"
    }
   ],
   "source": [
    "show_random_elements(common_voice_train.remove_columns([\"path\",\"audio\"]))"
   ]
  },
  {
   "cell_type": "code",
   "execution_count": 16,
   "metadata": {
    "id": "LwCshNbbeRZR"
   },
   "outputs": [],
   "source": [
    "def extract_all_chars(batch):\n",
    "  all_text = \" \".join(batch[\"sentence\"])\n",
    "  vocab = list(set(all_text))\n",
    "  return {\"vocab\": [vocab], \"all_text\": [all_text]}"
   ]
  },
  {
   "cell_type": "code",
   "execution_count": 17,
   "metadata": {
    "colab": {
     "base_uri": "https://localhost:8080/",
     "height": 81,
     "referenced_widgets": [
      "116786d9364a4a57b521cddaabeda688",
      "9baa2f69aa9c4387bf1086a04ed78420",
      "a1e2c04dc2cb45ea80bec125e3dbf56f",
      "b6d46d40efa14b21814f41531f5a2f41",
      "d8bf8dc5d6c84140a4e96c9c435b8f17",
      "04ec68b059df4c628839c3ac29e2ebdd",
      "427056895c674c428400bee0f5b43995",
      "d518f2c2ab6945b78a6d336dad6262bd",
      "77f1a51099b24831ad8b2be3d2dc833a",
      "5815ae1348994bfebba4a8e968489a96",
      "22ba979142074f1d976e1a905544fd2d",
      "8b6b7f28751c45c8869aa86eb2a0ab26",
      "445c84e1e2e541f2a54fb989def386ae",
      "68502fb433564eee8dfdf272ed7e4f56",
      "1f3abdf2e0f6459da4179a94d691c4c4",
      "48c60be3ca9349a295b83f65769c7f27",
      "6c80bd8a8fe14a5989fe27445c14650f",
      "5c2a7fea8c434d51ada69a0854b88baf",
      "414efa8a08cd491cb78af8a95a151daa",
      "c31a747e18df4b4aa4449a30e387448c",
      "3dedffa30b774426bd474072a3a0d591",
      "05d8496d54174ae298c319b0194fc710"
     ]
    },
    "executionInfo": {
     "elapsed": 560,
     "status": "ok",
     "timestamp": 1641588812313,
     "user": {
      "displayName": "Yurii Paniv",
      "photoUrl": "https://lh3.googleusercontent.com/a/default-user=s64",
      "userId": "13095662915325887123"
     },
     "user_tz": -120
    },
    "id": "_m6uUjjcfbjH",
    "outputId": "4cc94e18-9295-4414-c611-c98916fe3d4d"
   },
   "outputs": [
    {
     "data": {
      "application/json": {
       "ascii": false,
       "bar_format": null,
       "colour": null,
       "elapsed": 0.01583385467529297,
       "initial": 0,
       "n": 0,
       "ncols": null,
       "nrows": null,
       "postfix": null,
       "prefix": "",
       "rate": null,
       "total": 1,
       "unit": "ba",
       "unit_divisor": 1000,
       "unit_scale": false
      },
      "application/vnd.jupyter.widget-view+json": {
       "model_id": "3ba1ea8f16284564b96209d4ac0fe9b2",
       "version_major": 2,
       "version_minor": 0
      },
      "text/plain": [
       "  0%|          | 0/1 [00:00<?, ?ba/s]"
      ]
     },
     "metadata": {},
     "output_type": "display_data"
    },
    {
     "data": {
      "application/json": {
       "ascii": false,
       "bar_format": null,
       "colour": null,
       "elapsed": 0.006883859634399414,
       "initial": 0,
       "n": 0,
       "ncols": null,
       "nrows": null,
       "postfix": null,
       "prefix": "",
       "rate": null,
       "total": 1,
       "unit": "ba",
       "unit_divisor": 1000,
       "unit_scale": false
      },
      "application/vnd.jupyter.widget-view+json": {
       "model_id": "24cf52aaa5534c3d94b2c749af19dd86",
       "version_major": 2,
       "version_minor": 0
      },
      "text/plain": [
       "  0%|          | 0/1 [00:00<?, ?ba/s]"
      ]
     },
     "metadata": {},
     "output_type": "display_data"
    }
   ],
   "source": [
    "vocab_train = common_voice_train.map(extract_all_chars, batched=True, batch_size=-1, keep_in_memory=True, remove_columns=common_voice_train.column_names)\n",
    "vocab_test = common_voice_test.map(extract_all_chars, batched=True, batch_size=-1, keep_in_memory=True, remove_columns=common_voice_test.column_names)"
   ]
  },
  {
   "cell_type": "code",
   "execution_count": 18,
   "metadata": {
    "id": "aQfneNsmlJI0"
   },
   "outputs": [],
   "source": [
    "vocab_list = list(set(vocab_train[\"vocab\"][0]) | set(vocab_test[\"vocab\"][0]))"
   ]
  },
  {
   "cell_type": "code",
   "execution_count": 19,
   "metadata": {
    "colab": {
     "base_uri": "https://localhost:8080/"
    },
    "executionInfo": {
     "elapsed": 18,
     "status": "ok",
     "timestamp": 1641588812314,
     "user": {
      "displayName": "Yurii Paniv",
      "photoUrl": "https://lh3.googleusercontent.com/a/default-user=s64",
      "userId": "13095662915325887123"
     },
     "user_tz": -120
    },
    "id": "_0kRndSvqaKk",
    "outputId": "35c48e76-5060-470b-8405-bd6d288296ea"
   },
   "outputs": [
    {
     "data": {
      "text/plain": [
       "{' ': 0,\n",
       " \"'\": 1,\n",
       " 'а': 2,\n",
       " 'б': 3,\n",
       " 'в': 4,\n",
       " 'г': 5,\n",
       " 'д': 6,\n",
       " 'е': 7,\n",
       " 'ж': 8,\n",
       " 'з': 9,\n",
       " 'и': 10,\n",
       " 'й': 11,\n",
       " 'к': 12,\n",
       " 'л': 13,\n",
       " 'м': 14,\n",
       " 'н': 15,\n",
       " 'о': 16,\n",
       " 'п': 17,\n",
       " 'р': 18,\n",
       " 'с': 19,\n",
       " 'т': 20,\n",
       " 'у': 21,\n",
       " 'ф': 22,\n",
       " 'х': 23,\n",
       " 'ц': 24,\n",
       " 'ч': 25,\n",
       " 'ш': 26,\n",
       " 'щ': 27,\n",
       " 'ь': 28,\n",
       " 'ю': 29,\n",
       " 'я': 30,\n",
       " 'є': 31,\n",
       " 'і': 32,\n",
       " 'ї': 33,\n",
       " 'ґ': 34}"
      ]
     },
     "execution_count": 19,
     "metadata": {},
     "output_type": "execute_result"
    }
   ],
   "source": [
    "vocab_dict = {v: k for k, v in enumerate(sorted(vocab_list))}\n",
    "vocab_dict"
   ]
  },
  {
   "cell_type": "code",
   "execution_count": 20,
   "metadata": {
    "id": "npbIbBoLgaFX"
   },
   "outputs": [],
   "source": [
    "vocab_dict[\"|\"] = vocab_dict[\" \"]\n",
    "del vocab_dict[\" \"]"
   ]
  },
  {
   "cell_type": "code",
   "execution_count": 21,
   "metadata": {
    "colab": {
     "base_uri": "https://localhost:8080/"
    },
    "executionInfo": {
     "elapsed": 15,
     "status": "ok",
     "timestamp": 1641588812316,
     "user": {
      "displayName": "Yurii Paniv",
      "photoUrl": "https://lh3.googleusercontent.com/a/default-user=s64",
      "userId": "13095662915325887123"
     },
     "user_tz": -120
    },
    "id": "znF0bNunsjbl",
    "outputId": "480da4c9-b3d4-41c6-fc5c-b87b8b66202e"
   },
   "outputs": [
    {
     "data": {
      "text/plain": [
       "37"
      ]
     },
     "execution_count": 21,
     "metadata": {},
     "output_type": "execute_result"
    }
   ],
   "source": [
    "vocab_dict[\"[UNK]\"] = len(vocab_dict)\n",
    "vocab_dict[\"[PAD]\"] = len(vocab_dict)\n",
    "len(vocab_dict)"
   ]
  },
  {
   "cell_type": "code",
   "execution_count": 22,
   "metadata": {
    "id": "ehyUoh9vk191"
   },
   "outputs": [],
   "source": [
    "import json\n",
    "with open('vocab.json', 'w') as vocab_file:\n",
    "    json.dump(vocab_dict, vocab_file)"
   ]
  },
  {
   "cell_type": "code",
   "execution_count": 23,
   "metadata": {
    "colab": {
     "base_uri": "https://localhost:8080/"
    },
    "executionInfo": {
     "elapsed": 8013,
     "status": "ok",
     "timestamp": 1641588820318,
     "user": {
      "displayName": "Yurii Paniv",
      "photoUrl": "https://lh3.googleusercontent.com/a/default-user=s64",
      "userId": "13095662915325887123"
     },
     "user_tz": -120
    },
    "id": "xriFGEWQkO4M",
    "outputId": "a4497f75-d6f5-411a-d983-2ad519f65b8b"
   },
   "outputs": [
    {
     "name": "stderr",
     "output_type": "stream",
     "text": [
      "Special tokens have been added in the vocabulary, make sure the associated word embeddings are fine-tuned or trained.\n"
     ]
    }
   ],
   "source": [
    "from transformers import Wav2Vec2CTCTokenizer\n",
    "\n",
    "tokenizer = Wav2Vec2CTCTokenizer.from_pretrained(\"./\", unk_token=\"[UNK]\", pad_token=\"[PAD]\", word_delimiter_token=\"|\")"
   ]
  },
  {
   "cell_type": "code",
   "execution_count": 24,
   "metadata": {
    "id": "A1XApZBAF2zr"
   },
   "outputs": [],
   "source": [
    "repo_name = \"wav2vec2-xls-r-base-uk\""
   ]
  },
  {
   "cell_type": "code",
   "execution_count": 26,
   "metadata": {
    "id": "kAR0-2KLkopp"
   },
   "outputs": [],
   "source": [
    "from transformers import Wav2Vec2FeatureExtractor\n",
    "\n",
    "feature_extractor = Wav2Vec2FeatureExtractor(feature_size=1, sampling_rate=16000, padding_value=0.0, do_normalize=True, return_attention_mask=True)"
   ]
  },
  {
   "cell_type": "code",
   "execution_count": 27,
   "metadata": {
    "id": "KYZtoW-tlZgl"
   },
   "outputs": [],
   "source": [
    "from transformers import Wav2Vec2Processor\n",
    "\n",
    "processor = Wav2Vec2Processor(feature_extractor=feature_extractor, tokenizer=tokenizer)"
   ]
  },
  {
   "cell_type": "code",
   "execution_count": 28,
   "metadata": {},
   "outputs": [],
   "source": [
    "# save tokenizer to folder\n",
    "processor.save_pretrained(repo_name)"
   ]
  },
  {
   "cell_type": "code",
   "execution_count": 29,
   "metadata": {
    "colab": {
     "base_uri": "https://localhost:8080/",
     "height": 54
    },
    "executionInfo": {
     "elapsed": 18,
     "status": "ok",
     "timestamp": 1641588820325,
     "user": {
      "displayName": "Yurii Paniv",
      "photoUrl": "https://lh3.googleusercontent.com/a/default-user=s64",
      "userId": "13095662915325887123"
     },
     "user_tz": -120
    },
    "id": "TTCS7W6XJ9BG",
    "outputId": "18b0d44f-a498-4a79-f0a7-984fae48cad1"
   },
   "outputs": [
    {
     "data": {
      "text/plain": [
       "'/home/robinhad/.cache/huggingface/datasets/downloads/extracted/ee7155196e5d51620d53e48cf58eb693b7839b8ff183604c8bb948d3e0aad92d/cv-corpus-10.0-2022-07-04/uk/clips/common_voice_uk_20907128.mp3'"
      ]
     },
     "execution_count": 29,
     "metadata": {},
     "output_type": "execute_result"
    }
   ],
   "source": [
    "common_voice_train[0][\"path\"]"
   ]
  },
  {
   "cell_type": "code",
   "execution_count": 30,
   "metadata": {
    "colab": {
     "base_uri": "https://localhost:8080/"
    },
    "executionInfo": {
     "elapsed": 863,
     "status": "ok",
     "timestamp": 1641588821172,
     "user": {
      "displayName": "Yurii Paniv",
      "photoUrl": "https://lh3.googleusercontent.com/a/default-user=s64",
      "userId": "13095662915325887123"
     },
     "user_tz": -120
    },
    "id": "qj_z5Zc3GAs9",
    "outputId": "ace70f42-dcf0-445c-9b81-b23d4089c90d"
   },
   "outputs": [
    {
     "data": {
      "text/plain": [
       "{'path': '/home/robinhad/.cache/huggingface/datasets/downloads/extracted/ee7155196e5d51620d53e48cf58eb693b7839b8ff183604c8bb948d3e0aad92d/cv-corpus-10.0-2022-07-04/uk/clips/common_voice_uk_20907128.mp3',\n",
       " 'array': array([ 0.0000000e+00, -3.5002383e-14,  9.4785833e-15, ...,\n",
       "        -5.0386465e-08, -4.4114326e-08, -1.9402206e-08], dtype=float32),\n",
       " 'sampling_rate': 48000}"
      ]
     },
     "execution_count": 30,
     "metadata": {},
     "output_type": "execute_result"
    }
   ],
   "source": [
    "common_voice_train[0][\"audio\"]"
   ]
  },
  {
   "cell_type": "code",
   "execution_count": 31,
   "metadata": {
    "id": "rrv65aj7G95i"
   },
   "outputs": [],
   "source": [
    "common_voice_train = common_voice_train.cast_column(\"audio\", Audio(sampling_rate=16_000))\n",
    "common_voice_test = common_voice_test.cast_column(\"audio\", Audio(sampling_rate=16_000))"
   ]
  },
  {
   "cell_type": "code",
   "execution_count": 32,
   "metadata": {
    "colab": {
     "base_uri": "https://localhost:8080/"
    },
    "executionInfo": {
     "elapsed": 31,
     "status": "ok",
     "timestamp": 1641588821174,
     "user": {
      "displayName": "Yurii Paniv",
      "photoUrl": "https://lh3.googleusercontent.com/a/default-user=s64",
      "userId": "13095662915325887123"
     },
     "user_tz": -120
    },
    "id": "aKtkc1o_HWHC",
    "outputId": "55538536-b8c6-484f-d695-5c8e0492747a"
   },
   "outputs": [
    {
     "data": {
      "text/plain": [
       "{'path': '/home/robinhad/.cache/huggingface/datasets/downloads/extracted/ee7155196e5d51620d53e48cf58eb693b7839b8ff183604c8bb948d3e0aad92d/cv-corpus-10.0-2022-07-04/uk/clips/common_voice_uk_20907128.mp3',\n",
       " 'array': array([ 1.00456624e-13, -1.54340042e-13,  7.00158518e-13, ...,\n",
       "        -1.50335762e-08, -1.92623926e-08, -2.21930367e-08], dtype=float32),\n",
       " 'sampling_rate': 16000}"
      ]
     },
     "execution_count": 32,
     "metadata": {},
     "output_type": "execute_result"
    }
   ],
   "source": [
    "common_voice_train[0][\"audio\"]"
   ]
  },
  {
   "cell_type": "code",
   "execution_count": 33,
   "metadata": {
    "colab": {
     "base_uri": "https://localhost:8080/",
     "height": 80
    },
    "executionInfo": {
     "elapsed": 27,
     "status": "ok",
     "timestamp": 1641588821175,
     "user": {
      "displayName": "Yurii Paniv",
      "photoUrl": "https://lh3.googleusercontent.com/a/default-user=s64",
      "userId": "13095662915325887123"
     },
     "user_tz": -120
    },
    "id": "dueM6U7Ev0OA",
    "outputId": "8f8e14bf-6d59-43e2-ae2d-525bac8e5097"
   },
   "outputs": [
    {
     "name": "stdout",
     "output_type": "stream",
     "text": [
      "що ж хоч утекти можна вкупі з нею\n"
     ]
    },
    {
     "data": {
      "text/html": [
       "\n",
       "                <audio  controls=\"controls\" autoplay=\"autoplay\">\n",
       "                    <source src=\"data:audio/wav;base64,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\" type=\"audio/wav\" />\n",
       "                    Your browser does not support the audio element.\n",
       "                </audio>\n",
       "              "
      ],
      "text/plain": [
       "<IPython.lib.display.Audio object>"
      ]
     },
     "execution_count": 33,
     "metadata": {},
     "output_type": "execute_result"
    }
   ],
   "source": [
    "import IPython.display as ipd\n",
    "import numpy as np\n",
    "import random\n",
    "\n",
    "rand_int = random.randint(0, len(common_voice_train)-1)\n",
    "\n",
    "print(common_voice_train[rand_int][\"sentence\"])\n",
    "ipd.Audio(data=common_voice_train[rand_int][\"audio\"][\"array\"], autoplay=True, rate=16000)"
   ]
  },
  {
   "cell_type": "code",
   "execution_count": 34,
   "metadata": {
    "colab": {
     "base_uri": "https://localhost:8080/"
    },
    "executionInfo": {
     "elapsed": 22,
     "status": "ok",
     "timestamp": 1641588821176,
     "user": {
      "displayName": "Yurii Paniv",
      "photoUrl": "https://lh3.googleusercontent.com/a/default-user=s64",
      "userId": "13095662915325887123"
     },
     "user_tz": -120
    },
    "id": "1Po2g7YPuRTx",
    "outputId": "ad79ec8a-ab5a-4c52-edfa-a20d0eec2282"
   },
   "outputs": [
    {
     "name": "stdout",
     "output_type": "stream",
     "text": [
      "Target text: троє\n",
      "Input array shape: (26496,)\n",
      "Sampling rate: 16000\n"
     ]
    }
   ],
   "source": [
    "rand_int = random.randint(0, len(common_voice_train)-1)\n",
    "\n",
    "print(\"Target text:\", common_voice_train[rand_int][\"sentence\"])\n",
    "print(\"Input array shape:\", common_voice_train[rand_int][\"audio\"][\"array\"].shape)\n",
    "print(\"Sampling rate:\", common_voice_train[rand_int][\"audio\"][\"sampling_rate\"])"
   ]
  },
  {
   "cell_type": "code",
   "execution_count": 35,
   "metadata": {
    "id": "eJY7I0XAwe9p"
   },
   "outputs": [],
   "source": [
    "def prepare_dataset(batch):\n",
    "    audio = batch[\"audio\"]\n",
    "\n",
    "    # batched output is \"un-batched\"\n",
    "    batch[\"input_values\"] = processor(audio[\"array\"], sampling_rate=audio[\"sampling_rate\"]).input_values[0]\n",
    "    batch[\"input_length\"] = len(batch[\"input_values\"])\n",
    "    \n",
    "    with processor.as_target_processor():\n",
    "        batch[\"labels\"] = processor(batch[\"sentence\"]).input_ids\n",
    "    return batch"
   ]
  },
  {
   "cell_type": "code",
   "execution_count": 36,
   "metadata": {
    "colab": {
     "base_uri": "https://localhost:8080/",
     "height": 87,
     "referenced_widgets": [
      "a29f88f174f8499082fbb36a36c47fa4",
      "efc3bc0c48124ebeb79d245216eaf0fe",
      "d45747150d0b434593a3a7c98399599a",
      "ea73f7deb1c643f7b81de7fb7acaaf1b",
      "18bc63944343440f837cdff76db004fc",
      "9c875952cdd649a5bab87de9bb3f5200",
      "aa329cb93df44a6da6012c7cc49d7489",
      "b39b6e9131ca4ce3b31e84ceb04e1b83",
      "c5eed102ef134a4e8ca41713b82ff6a4",
      "e6e50da6516847878309fdc5c463edb3",
      "a4ae510b4f3845f891a796cf844fc2bb"
     ]
    },
    "executionInfo": {
     "elapsed": 107521,
     "status": "ok",
     "timestamp": 1641588928679,
     "user": {
      "displayName": "Yurii Paniv",
      "photoUrl": "https://lh3.googleusercontent.com/a/default-user=s64",
      "userId": "13095662915325887123"
     },
     "user_tz": -120
    },
    "id": "-np9xYK-wl8q",
    "outputId": "779b4637-0606-4cc8-be3c-16c1c4241e63"
   },
   "outputs": [
    {
     "data": {
      "application/json": {
       "ascii": false,
       "bar_format": null,
       "colour": null,
       "elapsed": 0.0130767822265625,
       "initial": 0,
       "n": 0,
       "ncols": null,
       "nrows": null,
       "postfix": null,
       "prefix": "",
       "rate": null,
       "total": 11463,
       "unit": "ex",
       "unit_divisor": 1000,
       "unit_scale": false
      },
      "application/vnd.jupyter.widget-view+json": {
       "model_id": "9b61f7e540b64679b38d986c03621299",
       "version_major": 2,
       "version_minor": 0
      },
      "text/plain": [
       "  0%|          | 0/11463 [00:00<?, ?ex/s]"
      ]
     },
     "metadata": {},
     "output_type": "display_data"
    },
    {
     "data": {
      "application/json": {
       "ascii": false,
       "bar_format": null,
       "colour": null,
       "elapsed": 0.007035732269287109,
       "initial": 0,
       "n": 0,
       "ncols": null,
       "nrows": null,
       "postfix": null,
       "prefix": "",
       "rate": null,
       "total": 6783,
       "unit": "ex",
       "unit_divisor": 1000,
       "unit_scale": false
      },
      "application/vnd.jupyter.widget-view+json": {
       "model_id": "6710267a647b45c89a24800f79d88d15",
       "version_major": 2,
       "version_minor": 0
      },
      "text/plain": [
       "  0%|          | 0/6783 [00:00<?, ?ex/s]"
      ]
     },
     "metadata": {},
     "output_type": "display_data"
    }
   ],
   "source": [
    "common_voice_train = common_voice_train.map(prepare_dataset, remove_columns=common_voice_train.column_names)\n",
    "common_voice_test = common_voice_test.map(prepare_dataset, remove_columns=common_voice_test.column_names)"
   ]
  },
  {
   "cell_type": "code",
   "execution_count": 34,
   "metadata": {
    "id": "tdHfbUJ_09iA"
   },
   "outputs": [],
   "source": [
    "#max_input_length_in_sec = 5.0\n",
    "#common_voice_train = common_voice_train.filter(lambda x: x < max_input_length_in_sec * processor.feature_extractor.sampling_rate, input_columns=[\"input_length\"])"
   ]
  },
  {
   "cell_type": "code",
   "execution_count": 37,
   "metadata": {},
   "outputs": [],
   "source": [
    "!mkdir cached_dataset"
   ]
  },
  {
   "cell_type": "code",
   "execution_count": 38,
   "metadata": {},
   "outputs": [],
   "source": [
    "common_voice_train.save_to_disk(\"cached_dataset/cv_train\")"
   ]
  },
  {
   "cell_type": "code",
   "execution_count": 39,
   "metadata": {},
   "outputs": [],
   "source": [
    "common_voice_test.save_to_disk(\"cached_dataset/cv_test\")"
   ]
  }
 ],
 "metadata": {
  "accelerator": "GPU",
  "colab": {
   "collapsed_sections": [],
   "machine_shape": "hm",
   "name": "Копія записника \"Fine-Tune XLS-R on Common Voice.ipynb\"",
   "provenance": [
    {
     "file_id": "https://github.com/patrickvonplaten/notebooks/blob/master/Fine_Tune_XLS_R_on_Common_Voice.ipynb",
     "timestamp": 1641583715050
    }
   ]
  },
  "kernelspec": {
   "display_name": "Python 3.9.13 (conda)",
   "language": "python",
   "name": "python3"
  },
  "language_info": {
   "codemirror_mode": {
    "name": "ipython",
    "version": 3
   },
   "file_extension": ".py",
   "mimetype": "text/x-python",
   "name": "python",
   "nbconvert_exporter": "python",
   "pygments_lexer": "ipython3",
   "version": "3.9.13"
  },
  "vscode": {
   "interpreter": {
    "hash": "a5cdd9abf8df3af0fd61fdb3838d6c6f2f66a9ba4bf4484f45cd88abf9f04fe9"
   }
  },
  "widgets": {
   "application/vnd.jupyter.widget-state+json": {
    "04ec68b059df4c628839c3ac29e2ebdd": {
     "model_module": "@jupyter-widgets/controls",
     "model_module_version": "1.5.0",
     "model_name": "DescriptionStyleModel",
     "state": {
      "_model_module": "@jupyter-widgets/controls",
      "_model_module_version": "1.5.0",
      "_model_name": "DescriptionStyleModel",
      "_view_count": null,
      "_view_module": "@jupyter-widgets/base",
      "_view_module_version": "1.2.0",
      "_view_name": "StyleView",
      "description_width": ""
     }
    },
    "05d8496d54174ae298c319b0194fc710": {
     "model_module": "@jupyter-widgets/base",
     "model_module_version": "1.2.0",
     "model_name": "LayoutModel",
     "state": {
      "_model_module": "@jupyter-widgets/base",
      "_model_module_version": "1.2.0",
      "_model_name": "LayoutModel",
      "_view_count": null,
      "_view_module": "@jupyter-widgets/base",
      "_view_module_version": "1.2.0",
      "_view_name": "LayoutView",
      "align_content": null,
      "align_items": null,
      "align_self": null,
      "border": null,
      "bottom": null,
      "display": null,
      "flex": null,
      "flex_flow": null,
      "grid_area": null,
      "grid_auto_columns": null,
      "grid_auto_flow": null,
      "grid_auto_rows": null,
      "grid_column": null,
      "grid_gap": null,
      "grid_row": null,
      "grid_template_areas": null,
      "grid_template_columns": null,
      "grid_template_rows": null,
      "height": null,
      "justify_content": null,
      "justify_items": null,
      "left": null,
      "margin": null,
      "max_height": null,
      "max_width": null,
      "min_height": null,
      "min_width": null,
      "object_fit": null,
      "object_position": null,
      "order": null,
      "overflow": null,
      "overflow_x": null,
      "overflow_y": null,
      "padding": null,
      "right": null,
      "top": null,
      "visibility": null,
      "width": null
     }
    },
    "116786d9364a4a57b521cddaabeda688": {
     "model_module": "@jupyter-widgets/controls",
     "model_module_version": "1.5.0",
     "model_name": "HBoxModel",
     "state": {
      "_dom_classes": [],
      "_model_module": "@jupyter-widgets/controls",
      "_model_module_version": "1.5.0",
      "_model_name": "HBoxModel",
      "_view_count": null,
      "_view_module": "@jupyter-widgets/controls",
      "_view_module_version": "1.5.0",
      "_view_name": "HBoxView",
      "box_style": "",
      "children": [
       "IPY_MODEL_a1e2c04dc2cb45ea80bec125e3dbf56f",
       "IPY_MODEL_b6d46d40efa14b21814f41531f5a2f41",
       "IPY_MODEL_d8bf8dc5d6c84140a4e96c9c435b8f17"
      ],
      "layout": "IPY_MODEL_9baa2f69aa9c4387bf1086a04ed78420"
     }
    },
    "18bc63944343440f837cdff76db004fc": {
     "model_module": "@jupyter-widgets/controls",
     "model_module_version": "1.5.0",
     "model_name": "HTMLModel",
     "state": {
      "_dom_classes": [],
      "_model_module": "@jupyter-widgets/controls",
      "_model_module_version": "1.5.0",
      "_model_name": "HTMLModel",
      "_view_count": null,
      "_view_module": "@jupyter-widgets/controls",
      "_view_module_version": "1.5.0",
      "_view_name": "HTMLView",
      "description": "",
      "description_tooltip": null,
      "layout": "IPY_MODEL_a4ae510b4f3845f891a796cf844fc2bb",
      "placeholder": "​",
      "style": "IPY_MODEL_e6e50da6516847878309fdc5c463edb3",
      "value": " 6962/6962 [01:46&lt;00:00, 78.15ex/s]"
     }
    },
    "1f3abdf2e0f6459da4179a94d691c4c4": {
     "model_module": "@jupyter-widgets/controls",
     "model_module_version": "1.5.0",
     "model_name": "FloatProgressModel",
     "state": {
      "_dom_classes": [],
      "_model_module": "@jupyter-widgets/controls",
      "_model_module_version": "1.5.0",
      "_model_name": "FloatProgressModel",
      "_view_count": null,
      "_view_module": "@jupyter-widgets/controls",
      "_view_module_version": "1.5.0",
      "_view_name": "ProgressView",
      "bar_style": "success",
      "description": "",
      "description_tooltip": null,
      "layout": "IPY_MODEL_c31a747e18df4b4aa4449a30e387448c",
      "max": 1,
      "min": 0,
      "orientation": "horizontal",
      "style": "IPY_MODEL_414efa8a08cd491cb78af8a95a151daa",
      "value": 1
     }
    },
    "22ba979142074f1d976e1a905544fd2d": {
     "model_module": "@jupyter-widgets/base",
     "model_module_version": "1.2.0",
     "model_name": "LayoutModel",
     "state": {
      "_model_module": "@jupyter-widgets/base",
      "_model_module_version": "1.2.0",
      "_model_name": "LayoutModel",
      "_view_count": null,
      "_view_module": "@jupyter-widgets/base",
      "_view_module_version": "1.2.0",
      "_view_name": "LayoutView",
      "align_content": null,
      "align_items": null,
      "align_self": null,
      "border": null,
      "bottom": null,
      "display": null,
      "flex": null,
      "flex_flow": null,
      "grid_area": null,
      "grid_auto_columns": null,
      "grid_auto_flow": null,
      "grid_auto_rows": null,
      "grid_column": null,
      "grid_gap": null,
      "grid_row": null,
      "grid_template_areas": null,
      "grid_template_columns": null,
      "grid_template_rows": null,
      "height": null,
      "justify_content": null,
      "justify_items": null,
      "left": null,
      "margin": null,
      "max_height": null,
      "max_width": null,
      "min_height": null,
      "min_width": null,
      "object_fit": null,
      "object_position": null,
      "order": null,
      "overflow": null,
      "overflow_x": null,
      "overflow_y": null,
      "padding": null,
      "right": null,
      "top": null,
      "visibility": null,
      "width": null
     }
    },
    "3dedffa30b774426bd474072a3a0d591": {
     "model_module": "@jupyter-widgets/controls",
     "model_module_version": "1.5.0",
     "model_name": "DescriptionStyleModel",
     "state": {
      "_model_module": "@jupyter-widgets/controls",
      "_model_module_version": "1.5.0",
      "_model_name": "DescriptionStyleModel",
      "_view_count": null,
      "_view_module": "@jupyter-widgets/base",
      "_view_module_version": "1.2.0",
      "_view_name": "StyleView",
      "description_width": ""
     }
    },
    "414efa8a08cd491cb78af8a95a151daa": {
     "model_module": "@jupyter-widgets/controls",
     "model_module_version": "1.5.0",
     "model_name": "ProgressStyleModel",
     "state": {
      "_model_module": "@jupyter-widgets/controls",
      "_model_module_version": "1.5.0",
      "_model_name": "ProgressStyleModel",
      "_view_count": null,
      "_view_module": "@jupyter-widgets/base",
      "_view_module_version": "1.2.0",
      "_view_name": "StyleView",
      "bar_color": null,
      "description_width": ""
     }
    },
    "427056895c674c428400bee0f5b43995": {
     "model_module": "@jupyter-widgets/base",
     "model_module_version": "1.2.0",
     "model_name": "LayoutModel",
     "state": {
      "_model_module": "@jupyter-widgets/base",
      "_model_module_version": "1.2.0",
      "_model_name": "LayoutModel",
      "_view_count": null,
      "_view_module": "@jupyter-widgets/base",
      "_view_module_version": "1.2.0",
      "_view_name": "LayoutView",
      "align_content": null,
      "align_items": null,
      "align_self": null,
      "border": null,
      "bottom": null,
      "display": null,
      "flex": null,
      "flex_flow": null,
      "grid_area": null,
      "grid_auto_columns": null,
      "grid_auto_flow": null,
      "grid_auto_rows": null,
      "grid_column": null,
      "grid_gap": null,
      "grid_row": null,
      "grid_template_areas": null,
      "grid_template_columns": null,
      "grid_template_rows": null,
      "height": null,
      "justify_content": null,
      "justify_items": null,
      "left": null,
      "margin": null,
      "max_height": null,
      "max_width": null,
      "min_height": null,
      "min_width": null,
      "object_fit": null,
      "object_position": null,
      "order": null,
      "overflow": null,
      "overflow_x": null,
      "overflow_y": null,
      "padding": null,
      "right": null,
      "top": null,
      "visibility": null,
      "width": null
     }
    },
    "445c84e1e2e541f2a54fb989def386ae": {
     "model_module": "@jupyter-widgets/base",
     "model_module_version": "1.2.0",
     "model_name": "LayoutModel",
     "state": {
      "_model_module": "@jupyter-widgets/base",
      "_model_module_version": "1.2.0",
      "_model_name": "LayoutModel",
      "_view_count": null,
      "_view_module": "@jupyter-widgets/base",
      "_view_module_version": "1.2.0",
      "_view_name": "LayoutView",
      "align_content": null,
      "align_items": null,
      "align_self": null,
      "border": null,
      "bottom": null,
      "display": null,
      "flex": null,
      "flex_flow": null,
      "grid_area": null,
      "grid_auto_columns": null,
      "grid_auto_flow": null,
      "grid_auto_rows": null,
      "grid_column": null,
      "grid_gap": null,
      "grid_row": null,
      "grid_template_areas": null,
      "grid_template_columns": null,
      "grid_template_rows": null,
      "height": null,
      "justify_content": null,
      "justify_items": null,
      "left": null,
      "margin": null,
      "max_height": null,
      "max_width": null,
      "min_height": null,
      "min_width": null,
      "object_fit": null,
      "object_position": null,
      "order": null,
      "overflow": null,
      "overflow_x": null,
      "overflow_y": null,
      "padding": null,
      "right": null,
      "top": null,
      "visibility": null,
      "width": null
     }
    },
    "48c60be3ca9349a295b83f65769c7f27": {
     "model_module": "@jupyter-widgets/controls",
     "model_module_version": "1.5.0",
     "model_name": "HTMLModel",
     "state": {
      "_dom_classes": [],
      "_model_module": "@jupyter-widgets/controls",
      "_model_module_version": "1.5.0",
      "_model_name": "HTMLModel",
      "_view_count": null,
      "_view_module": "@jupyter-widgets/controls",
      "_view_module_version": "1.5.0",
      "_view_name": "HTMLView",
      "description": "",
      "description_tooltip": null,
      "layout": "IPY_MODEL_05d8496d54174ae298c319b0194fc710",
      "placeholder": "​",
      "style": "IPY_MODEL_3dedffa30b774426bd474072a3a0d591",
      "value": " 1/1 [00:00&lt;00:00, 11.09ba/s]"
     }
    },
    "5815ae1348994bfebba4a8e968489a96": {
     "model_module": "@jupyter-widgets/controls",
     "model_module_version": "1.5.0",
     "model_name": "DescriptionStyleModel",
     "state": {
      "_model_module": "@jupyter-widgets/controls",
      "_model_module_version": "1.5.0",
      "_model_name": "DescriptionStyleModel",
      "_view_count": null,
      "_view_module": "@jupyter-widgets/base",
      "_view_module_version": "1.2.0",
      "_view_name": "StyleView",
      "description_width": ""
     }
    },
    "5c2a7fea8c434d51ada69a0854b88baf": {
     "model_module": "@jupyter-widgets/base",
     "model_module_version": "1.2.0",
     "model_name": "LayoutModel",
     "state": {
      "_model_module": "@jupyter-widgets/base",
      "_model_module_version": "1.2.0",
      "_model_name": "LayoutModel",
      "_view_count": null,
      "_view_module": "@jupyter-widgets/base",
      "_view_module_version": "1.2.0",
      "_view_name": "LayoutView",
      "align_content": null,
      "align_items": null,
      "align_self": null,
      "border": null,
      "bottom": null,
      "display": null,
      "flex": null,
      "flex_flow": null,
      "grid_area": null,
      "grid_auto_columns": null,
      "grid_auto_flow": null,
      "grid_auto_rows": null,
      "grid_column": null,
      "grid_gap": null,
      "grid_row": null,
      "grid_template_areas": null,
      "grid_template_columns": null,
      "grid_template_rows": null,
      "height": null,
      "justify_content": null,
      "justify_items": null,
      "left": null,
      "margin": null,
      "max_height": null,
      "max_width": null,
      "min_height": null,
      "min_width": null,
      "object_fit": null,
      "object_position": null,
      "order": null,
      "overflow": null,
      "overflow_x": null,
      "overflow_y": null,
      "padding": null,
      "right": null,
      "top": null,
      "visibility": null,
      "width": null
     }
    },
    "68502fb433564eee8dfdf272ed7e4f56": {
     "model_module": "@jupyter-widgets/controls",
     "model_module_version": "1.5.0",
     "model_name": "HTMLModel",
     "state": {
      "_dom_classes": [],
      "_model_module": "@jupyter-widgets/controls",
      "_model_module_version": "1.5.0",
      "_model_name": "HTMLModel",
      "_view_count": null,
      "_view_module": "@jupyter-widgets/controls",
      "_view_module_version": "1.5.0",
      "_view_name": "HTMLView",
      "description": "",
      "description_tooltip": null,
      "layout": "IPY_MODEL_5c2a7fea8c434d51ada69a0854b88baf",
      "placeholder": "​",
      "style": "IPY_MODEL_6c80bd8a8fe14a5989fe27445c14650f",
      "value": "100%"
     }
    },
    "6c80bd8a8fe14a5989fe27445c14650f": {
     "model_module": "@jupyter-widgets/controls",
     "model_module_version": "1.5.0",
     "model_name": "DescriptionStyleModel",
     "state": {
      "_model_module": "@jupyter-widgets/controls",
      "_model_module_version": "1.5.0",
      "_model_name": "DescriptionStyleModel",
      "_view_count": null,
      "_view_module": "@jupyter-widgets/base",
      "_view_module_version": "1.2.0",
      "_view_name": "StyleView",
      "description_width": ""
     }
    },
    "77f1a51099b24831ad8b2be3d2dc833a": {
     "model_module": "@jupyter-widgets/base",
     "model_module_version": "1.2.0",
     "model_name": "LayoutModel",
     "state": {
      "_model_module": "@jupyter-widgets/base",
      "_model_module_version": "1.2.0",
      "_model_name": "LayoutModel",
      "_view_count": null,
      "_view_module": "@jupyter-widgets/base",
      "_view_module_version": "1.2.0",
      "_view_name": "LayoutView",
      "align_content": null,
      "align_items": null,
      "align_self": null,
      "border": null,
      "bottom": null,
      "display": null,
      "flex": null,
      "flex_flow": null,
      "grid_area": null,
      "grid_auto_columns": null,
      "grid_auto_flow": null,
      "grid_auto_rows": null,
      "grid_column": null,
      "grid_gap": null,
      "grid_row": null,
      "grid_template_areas": null,
      "grid_template_columns": null,
      "grid_template_rows": null,
      "height": null,
      "justify_content": null,
      "justify_items": null,
      "left": null,
      "margin": null,
      "max_height": null,
      "max_width": null,
      "min_height": null,
      "min_width": null,
      "object_fit": null,
      "object_position": null,
      "order": null,
      "overflow": null,
      "overflow_x": null,
      "overflow_y": null,
      "padding": null,
      "right": null,
      "top": null,
      "visibility": null,
      "width": null
     }
    },
    "8b6b7f28751c45c8869aa86eb2a0ab26": {
     "model_module": "@jupyter-widgets/controls",
     "model_module_version": "1.5.0",
     "model_name": "HBoxModel",
     "state": {
      "_dom_classes": [],
      "_model_module": "@jupyter-widgets/controls",
      "_model_module_version": "1.5.0",
      "_model_name": "HBoxModel",
      "_view_count": null,
      "_view_module": "@jupyter-widgets/controls",
      "_view_module_version": "1.5.0",
      "_view_name": "HBoxView",
      "box_style": "",
      "children": [
       "IPY_MODEL_68502fb433564eee8dfdf272ed7e4f56",
       "IPY_MODEL_1f3abdf2e0f6459da4179a94d691c4c4",
       "IPY_MODEL_48c60be3ca9349a295b83f65769c7f27"
      ],
      "layout": "IPY_MODEL_445c84e1e2e541f2a54fb989def386ae"
     }
    },
    "9baa2f69aa9c4387bf1086a04ed78420": {
     "model_module": "@jupyter-widgets/base",
     "model_module_version": "1.2.0",
     "model_name": "LayoutModel",
     "state": {
      "_model_module": "@jupyter-widgets/base",
      "_model_module_version": "1.2.0",
      "_model_name": "LayoutModel",
      "_view_count": null,
      "_view_module": "@jupyter-widgets/base",
      "_view_module_version": "1.2.0",
      "_view_name": "LayoutView",
      "align_content": null,
      "align_items": null,
      "align_self": null,
      "border": null,
      "bottom": null,
      "display": null,
      "flex": null,
      "flex_flow": null,
      "grid_area": null,
      "grid_auto_columns": null,
      "grid_auto_flow": null,
      "grid_auto_rows": null,
      "grid_column": null,
      "grid_gap": null,
      "grid_row": null,
      "grid_template_areas": null,
      "grid_template_columns": null,
      "grid_template_rows": null,
      "height": null,
      "justify_content": null,
      "justify_items": null,
      "left": null,
      "margin": null,
      "max_height": null,
      "max_width": null,
      "min_height": null,
      "min_width": null,
      "object_fit": null,
      "object_position": null,
      "order": null,
      "overflow": null,
      "overflow_x": null,
      "overflow_y": null,
      "padding": null,
      "right": null,
      "top": null,
      "visibility": null,
      "width": null
     }
    },
    "9c875952cdd649a5bab87de9bb3f5200": {
     "model_module": "@jupyter-widgets/controls",
     "model_module_version": "1.5.0",
     "model_name": "DescriptionStyleModel",
     "state": {
      "_model_module": "@jupyter-widgets/controls",
      "_model_module_version": "1.5.0",
      "_model_name": "DescriptionStyleModel",
      "_view_count": null,
      "_view_module": "@jupyter-widgets/base",
      "_view_module_version": "1.2.0",
      "_view_name": "StyleView",
      "description_width": ""
     }
    },
    "a1e2c04dc2cb45ea80bec125e3dbf56f": {
     "model_module": "@jupyter-widgets/controls",
     "model_module_version": "1.5.0",
     "model_name": "HTMLModel",
     "state": {
      "_dom_classes": [],
      "_model_module": "@jupyter-widgets/controls",
      "_model_module_version": "1.5.0",
      "_model_name": "HTMLModel",
      "_view_count": null,
      "_view_module": "@jupyter-widgets/controls",
      "_view_module_version": "1.5.0",
      "_view_name": "HTMLView",
      "description": "",
      "description_tooltip": null,
      "layout": "IPY_MODEL_427056895c674c428400bee0f5b43995",
      "placeholder": "​",
      "style": "IPY_MODEL_04ec68b059df4c628839c3ac29e2ebdd",
      "value": "100%"
     }
    },
    "a29f88f174f8499082fbb36a36c47fa4": {
     "model_module": "@jupyter-widgets/controls",
     "model_module_version": "1.5.0",
     "model_name": "HBoxModel",
     "state": {
      "_dom_classes": [],
      "_model_module": "@jupyter-widgets/controls",
      "_model_module_version": "1.5.0",
      "_model_name": "HBoxModel",
      "_view_count": null,
      "_view_module": "@jupyter-widgets/controls",
      "_view_module_version": "1.5.0",
      "_view_name": "HBoxView",
      "box_style": "",
      "children": [
       "IPY_MODEL_d45747150d0b434593a3a7c98399599a",
       "IPY_MODEL_ea73f7deb1c643f7b81de7fb7acaaf1b",
       "IPY_MODEL_18bc63944343440f837cdff76db004fc"
      ],
      "layout": "IPY_MODEL_efc3bc0c48124ebeb79d245216eaf0fe"
     }
    },
    "a4ae510b4f3845f891a796cf844fc2bb": {
     "model_module": "@jupyter-widgets/base",
     "model_module_version": "1.2.0",
     "model_name": "LayoutModel",
     "state": {
      "_model_module": "@jupyter-widgets/base",
      "_model_module_version": "1.2.0",
      "_model_name": "LayoutModel",
      "_view_count": null,
      "_view_module": "@jupyter-widgets/base",
      "_view_module_version": "1.2.0",
      "_view_name": "LayoutView",
      "align_content": null,
      "align_items": null,
      "align_self": null,
      "border": null,
      "bottom": null,
      "display": null,
      "flex": null,
      "flex_flow": null,
      "grid_area": null,
      "grid_auto_columns": null,
      "grid_auto_flow": null,
      "grid_auto_rows": null,
      "grid_column": null,
      "grid_gap": null,
      "grid_row": null,
      "grid_template_areas": null,
      "grid_template_columns": null,
      "grid_template_rows": null,
      "height": null,
      "justify_content": null,
      "justify_items": null,
      "left": null,
      "margin": null,
      "max_height": null,
      "max_width": null,
      "min_height": null,
      "min_width": null,
      "object_fit": null,
      "object_position": null,
      "order": null,
      "overflow": null,
      "overflow_x": null,
      "overflow_y": null,
      "padding": null,
      "right": null,
      "top": null,
      "visibility": null,
      "width": null
     }
    },
    "aa329cb93df44a6da6012c7cc49d7489": {
     "model_module": "@jupyter-widgets/base",
     "model_module_version": "1.2.0",
     "model_name": "LayoutModel",
     "state": {
      "_model_module": "@jupyter-widgets/base",
      "_model_module_version": "1.2.0",
      "_model_name": "LayoutModel",
      "_view_count": null,
      "_view_module": "@jupyter-widgets/base",
      "_view_module_version": "1.2.0",
      "_view_name": "LayoutView",
      "align_content": null,
      "align_items": null,
      "align_self": null,
      "border": null,
      "bottom": null,
      "display": null,
      "flex": null,
      "flex_flow": null,
      "grid_area": null,
      "grid_auto_columns": null,
      "grid_auto_flow": null,
      "grid_auto_rows": null,
      "grid_column": null,
      "grid_gap": null,
      "grid_row": null,
      "grid_template_areas": null,
      "grid_template_columns": null,
      "grid_template_rows": null,
      "height": null,
      "justify_content": null,
      "justify_items": null,
      "left": null,
      "margin": null,
      "max_height": null,
      "max_width": null,
      "min_height": null,
      "min_width": null,
      "object_fit": null,
      "object_position": null,
      "order": null,
      "overflow": null,
      "overflow_x": null,
      "overflow_y": null,
      "padding": null,
      "right": null,
      "top": null,
      "visibility": null,
      "width": null
     }
    },
    "b39b6e9131ca4ce3b31e84ceb04e1b83": {
     "model_module": "@jupyter-widgets/controls",
     "model_module_version": "1.5.0",
     "model_name": "ProgressStyleModel",
     "state": {
      "_model_module": "@jupyter-widgets/controls",
      "_model_module_version": "1.5.0",
      "_model_name": "ProgressStyleModel",
      "_view_count": null,
      "_view_module": "@jupyter-widgets/base",
      "_view_module_version": "1.2.0",
      "_view_name": "StyleView",
      "bar_color": null,
      "description_width": ""
     }
    },
    "b6d46d40efa14b21814f41531f5a2f41": {
     "model_module": "@jupyter-widgets/controls",
     "model_module_version": "1.5.0",
     "model_name": "FloatProgressModel",
     "state": {
      "_dom_classes": [],
      "_model_module": "@jupyter-widgets/controls",
      "_model_module_version": "1.5.0",
      "_model_name": "FloatProgressModel",
      "_view_count": null,
      "_view_module": "@jupyter-widgets/controls",
      "_view_module_version": "1.5.0",
      "_view_name": "ProgressView",
      "bar_style": "success",
      "description": "",
      "description_tooltip": null,
      "layout": "IPY_MODEL_77f1a51099b24831ad8b2be3d2dc833a",
      "max": 1,
      "min": 0,
      "orientation": "horizontal",
      "style": "IPY_MODEL_d518f2c2ab6945b78a6d336dad6262bd",
      "value": 1
     }
    },
    "c31a747e18df4b4aa4449a30e387448c": {
     "model_module": "@jupyter-widgets/base",
     "model_module_version": "1.2.0",
     "model_name": "LayoutModel",
     "state": {
      "_model_module": "@jupyter-widgets/base",
      "_model_module_version": "1.2.0",
      "_model_name": "LayoutModel",
      "_view_count": null,
      "_view_module": "@jupyter-widgets/base",
      "_view_module_version": "1.2.0",
      "_view_name": "LayoutView",
      "align_content": null,
      "align_items": null,
      "align_self": null,
      "border": null,
      "bottom": null,
      "display": null,
      "flex": null,
      "flex_flow": null,
      "grid_area": null,
      "grid_auto_columns": null,
      "grid_auto_flow": null,
      "grid_auto_rows": null,
      "grid_column": null,
      "grid_gap": null,
      "grid_row": null,
      "grid_template_areas": null,
      "grid_template_columns": null,
      "grid_template_rows": null,
      "height": null,
      "justify_content": null,
      "justify_items": null,
      "left": null,
      "margin": null,
      "max_height": null,
      "max_width": null,
      "min_height": null,
      "min_width": null,
      "object_fit": null,
      "object_position": null,
      "order": null,
      "overflow": null,
      "overflow_x": null,
      "overflow_y": null,
      "padding": null,
      "right": null,
      "top": null,
      "visibility": null,
      "width": null
     }
    },
    "c5eed102ef134a4e8ca41713b82ff6a4": {
     "model_module": "@jupyter-widgets/base",
     "model_module_version": "1.2.0",
     "model_name": "LayoutModel",
     "state": {
      "_model_module": "@jupyter-widgets/base",
      "_model_module_version": "1.2.0",
      "_model_name": "LayoutModel",
      "_view_count": null,
      "_view_module": "@jupyter-widgets/base",
      "_view_module_version": "1.2.0",
      "_view_name": "LayoutView",
      "align_content": null,
      "align_items": null,
      "align_self": null,
      "border": null,
      "bottom": null,
      "display": null,
      "flex": null,
      "flex_flow": null,
      "grid_area": null,
      "grid_auto_columns": null,
      "grid_auto_flow": null,
      "grid_auto_rows": null,
      "grid_column": null,
      "grid_gap": null,
      "grid_row": null,
      "grid_template_areas": null,
      "grid_template_columns": null,
      "grid_template_rows": null,
      "height": null,
      "justify_content": null,
      "justify_items": null,
      "left": null,
      "margin": null,
      "max_height": null,
      "max_width": null,
      "min_height": null,
      "min_width": null,
      "object_fit": null,
      "object_position": null,
      "order": null,
      "overflow": null,
      "overflow_x": null,
      "overflow_y": null,
      "padding": null,
      "right": null,
      "top": null,
      "visibility": null,
      "width": null
     }
    },
    "d45747150d0b434593a3a7c98399599a": {
     "model_module": "@jupyter-widgets/controls",
     "model_module_version": "1.5.0",
     "model_name": "HTMLModel",
     "state": {
      "_dom_classes": [],
      "_model_module": "@jupyter-widgets/controls",
      "_model_module_version": "1.5.0",
      "_model_name": "HTMLModel",
      "_view_count": null,
      "_view_module": "@jupyter-widgets/controls",
      "_view_module_version": "1.5.0",
      "_view_name": "HTMLView",
      "description": "",
      "description_tooltip": null,
      "layout": "IPY_MODEL_aa329cb93df44a6da6012c7cc49d7489",
      "placeholder": "​",
      "style": "IPY_MODEL_9c875952cdd649a5bab87de9bb3f5200",
      "value": "100%"
     }
    },
    "d518f2c2ab6945b78a6d336dad6262bd": {
     "model_module": "@jupyter-widgets/controls",
     "model_module_version": "1.5.0",
     "model_name": "ProgressStyleModel",
     "state": {
      "_model_module": "@jupyter-widgets/controls",
      "_model_module_version": "1.5.0",
      "_model_name": "ProgressStyleModel",
      "_view_count": null,
      "_view_module": "@jupyter-widgets/base",
      "_view_module_version": "1.2.0",
      "_view_name": "StyleView",
      "bar_color": null,
      "description_width": ""
     }
    },
    "d8bf8dc5d6c84140a4e96c9c435b8f17": {
     "model_module": "@jupyter-widgets/controls",
     "model_module_version": "1.5.0",
     "model_name": "HTMLModel",
     "state": {
      "_dom_classes": [],
      "_model_module": "@jupyter-widgets/controls",
      "_model_module_version": "1.5.0",
      "_model_name": "HTMLModel",
      "_view_count": null,
      "_view_module": "@jupyter-widgets/controls",
      "_view_module_version": "1.5.0",
      "_view_name": "HTMLView",
      "description": "",
      "description_tooltip": null,
      "layout": "IPY_MODEL_22ba979142074f1d976e1a905544fd2d",
      "placeholder": "​",
      "style": "IPY_MODEL_5815ae1348994bfebba4a8e968489a96",
      "value": " 1/1 [00:00&lt;00:00,  7.95ba/s]"
     }
    },
    "e6e50da6516847878309fdc5c463edb3": {
     "model_module": "@jupyter-widgets/controls",
     "model_module_version": "1.5.0",
     "model_name": "DescriptionStyleModel",
     "state": {
      "_model_module": "@jupyter-widgets/controls",
      "_model_module_version": "1.5.0",
      "_model_name": "DescriptionStyleModel",
      "_view_count": null,
      "_view_module": "@jupyter-widgets/base",
      "_view_module_version": "1.2.0",
      "_view_name": "StyleView",
      "description_width": ""
     }
    },
    "ea73f7deb1c643f7b81de7fb7acaaf1b": {
     "model_module": "@jupyter-widgets/controls",
     "model_module_version": "1.5.0",
     "model_name": "FloatProgressModel",
     "state": {
      "_dom_classes": [],
      "_model_module": "@jupyter-widgets/controls",
      "_model_module_version": "1.5.0",
      "_model_name": "FloatProgressModel",
      "_view_count": null,
      "_view_module": "@jupyter-widgets/controls",
      "_view_module_version": "1.5.0",
      "_view_name": "ProgressView",
      "bar_style": "success",
      "description": "",
      "description_tooltip": null,
      "layout": "IPY_MODEL_c5eed102ef134a4e8ca41713b82ff6a4",
      "max": 6962,
      "min": 0,
      "orientation": "horizontal",
      "style": "IPY_MODEL_b39b6e9131ca4ce3b31e84ceb04e1b83",
      "value": 6962
     }
    },
    "efc3bc0c48124ebeb79d245216eaf0fe": {
     "model_module": "@jupyter-widgets/base",
     "model_module_version": "1.2.0",
     "model_name": "LayoutModel",
     "state": {
      "_model_module": "@jupyter-widgets/base",
      "_model_module_version": "1.2.0",
      "_model_name": "LayoutModel",
      "_view_count": null,
      "_view_module": "@jupyter-widgets/base",
      "_view_module_version": "1.2.0",
      "_view_name": "LayoutView",
      "align_content": null,
      "align_items": null,
      "align_self": null,
      "border": null,
      "bottom": null,
      "display": null,
      "flex": null,
      "flex_flow": null,
      "grid_area": null,
      "grid_auto_columns": null,
      "grid_auto_flow": null,
      "grid_auto_rows": null,
      "grid_column": null,
      "grid_gap": null,
      "grid_row": null,
      "grid_template_areas": null,
      "grid_template_columns": null,
      "grid_template_rows": null,
      "height": null,
      "justify_content": null,
      "justify_items": null,
      "left": null,
      "margin": null,
      "max_height": null,
      "max_width": null,
      "min_height": null,
      "min_width": null,
      "object_fit": null,
      "object_position": null,
      "order": null,
      "overflow": null,
      "overflow_x": null,
      "overflow_y": null,
      "padding": null,
      "right": null,
      "top": null,
      "visibility": null,
      "width": null
     }
    }
   }
  }
 },
 "nbformat": 4,
 "nbformat_minor": 4
}
