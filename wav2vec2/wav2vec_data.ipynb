{
 "cells": [
  {
   "cell_type": "code",
   "execution_count": 1,
   "metadata": {
    "colab": {
     "base_uri": "https://localhost:8080/"
    },
    "executionInfo": {
     "elapsed": 829,
     "status": "ok",
     "timestamp": 1641588786523,
     "user": {
      "displayName": "Yurii Paniv",
      "photoUrl": "https://lh3.googleusercontent.com/a/default-user=s64",
      "userId": "13095662915325887123"
     },
     "user_tz": -120
    },
    "id": "YELVqGxMxnbG",
    "outputId": "876761c1-2e03-411b-e61b-07ac4ad61377"
   },
   "outputs": [
    {
     "name": "stdout",
     "output_type": "stream",
     "text": [
      "Wed Dec 28 20:57:11 2022       \n",
      "+-----------------------------------------------------------------------------+\n",
      "| NVIDIA-SMI 515.86.01    Driver Version: 515.86.01    CUDA Version: 11.7     |\n",
      "|-------------------------------+----------------------+----------------------+\n",
      "| GPU  Name        Persistence-M| Bus-Id        Disp.A | Volatile Uncorr. ECC |\n",
      "| Fan  Temp  Perf  Pwr:Usage/Cap|         Memory-Usage | GPU-Util  Compute M. |\n",
      "|                               |                      |               MIG M. |\n",
      "|===============================+======================+======================|\n",
      "|   0  NVIDIA GeForce ...  Off  | 00000000:0A:00.0  On |                  N/A |\n",
      "|  0%   31C    P8    36W / 390W |   1401MiB / 24576MiB |      3%      Default |\n",
      "|                               |                      |                  N/A |\n",
      "+-------------------------------+----------------------+----------------------+\n",
      "                                                                               \n",
      "+-----------------------------------------------------------------------------+\n",
      "| Processes:                                                                  |\n",
      "|  GPU   GI   CI        PID   Type   Process name                  GPU Memory |\n",
      "|        ID   ID                                                   Usage      |\n",
      "|=============================================================================|\n",
      "|    0   N/A  N/A      1267      G   /usr/lib/xorg/Xorg                574MiB |\n",
      "|    0   N/A  N/A      2054      G   /usr/bin/kwalletd5                  4MiB |\n",
      "|    0   N/A  N/A      2222      G   ...ec/xdg-desktop-portal-kde        4MiB |\n",
      "|    0   N/A  N/A      2259      G   /usr/bin/ksmserver                  4MiB |\n",
      "|    0   N/A  N/A      2261      G   /usr/bin/kded5                      4MiB |\n",
      "|    0   N/A  N/A      2262      G   /usr/bin/kwin_x11                  97MiB |\n",
      "|    0   N/A  N/A      2309      G   /usr/bin/plasmashell              130MiB |\n",
      "|    0   N/A  N/A      2332      G   ...de-authentication-agent-1        4MiB |\n",
      "|    0   N/A  N/A      2399      G   ...x-gnu/libexec/kdeconnectd        4MiB |\n",
      "|    0   N/A  N/A      2401      G   .../usr/bin/telegram-desktop        7MiB |\n",
      "|    0   N/A  N/A      2415      G   /usr/bin/kaccess                    4MiB |\n",
      "|    0   N/A  N/A      2421      G   .../libexec/DiscoverNotifier        4MiB |\n",
      "|    0   N/A  N/A      2438      G   ...1/usr/lib/firefox/firefox      216MiB |\n",
      "|    0   N/A  N/A      2626      G   /usr/bin/dolphin                    4MiB |\n",
      "|    0   N/A  N/A      2774      G   /usr/bin/dolphin                    4MiB |\n",
      "|    0   N/A  N/A      2824      G   /usr/bin/dolphin                    4MiB |\n",
      "|    0   N/A  N/A      3559      G   /usr/bin/dolphin                    4MiB |\n",
      "|    0   N/A  N/A      3665      G   /usr/bin/dolphin                    4MiB |\n",
      "|    0   N/A  N/A      4830      G   ...RendererForSitePerProcess      308MiB |\n",
      "+-----------------------------------------------------------------------------+\n"
     ]
    }
   ],
   "source": [
    "gpu_info = !nvidia-smi\n",
    "gpu_info = '\\n'.join(gpu_info)\n",
    "if gpu_info.find('failed') >= 0:\n",
    "  print('Not connected to a GPU')\n",
    "else:\n",
    "  print(gpu_info)"
   ]
  },
  {
   "cell_type": "code",
   "execution_count": 2,
   "metadata": {
    "id": "c8eh87Hoee5d"
   },
   "outputs": [],
   "source": [
    "#%%capture\n",
    "#!pip install datasets==1.13.3\n",
    "#!pip install transformers==4.11.3\n",
    "#!pip install huggingface_hub==0.1\n",
    "#!pip install torchaudio==0.10.0+cu113 -f https://download.pytorch.org/whl/cu113/torch_stable.html\n",
    "#!pip install jiwer"
   ]
  },
  {
   "cell_type": "code",
   "execution_count": 3,
   "metadata": {
    "colab": {
     "base_uri": "https://localhost:8080/"
    },
    "executionInfo": {
     "elapsed": 5334,
     "status": "ok",
     "timestamp": 1641588811766,
     "user": {
      "displayName": "Yurii Paniv",
      "photoUrl": "https://lh3.googleusercontent.com/a/default-user=s64",
      "userId": "13095662915325887123"
     },
     "user_tz": -120
    },
    "id": "2MMXcWFFgCXU",
    "outputId": "be9fd72e-4395-4cd0-ff87-631dad046e71"
   },
   "outputs": [
    {
     "name": "stderr",
     "output_type": "stream",
     "text": [
      "Reusing dataset common_voice_10_0 (/home/robinhad/.cache/huggingface/datasets/mozilla-foundation___common_voice_10_0/uk/10.0.0/27df768ab1b5cac48a7616f145b79b62599167b0ffa2e054bf4c3e74e9619e5e)\n",
      "Reusing dataset common_voice_10_0 (/home/robinhad/.cache/huggingface/datasets/mozilla-foundation___common_voice_10_0/uk/10.0.0/27df768ab1b5cac48a7616f145b79b62599167b0ffa2e054bf4c3e74e9619e5e)\n"
     ]
    }
   ],
   "source": [
    "from datasets import load_dataset, load_metric, Audio\n",
    "\n",
    "common_voice_train = load_dataset(\"mozilla-foundation/common_voice_10_0\", \"uk\", split=\"train\", use_auth_token=True)\n",
    "common_voice_test = load_dataset(\"mozilla-foundation/common_voice_10_0\", \"uk\", split=\"test\", use_auth_token=True)"
   ]
  },
  {
   "cell_type": "code",
   "execution_count": 4,
   "metadata": {},
   "outputs": [
    {
     "data": {
      "text/plain": [
       "Dataset({\n",
       "    features: ['client_id', 'path', 'audio', 'sentence', 'up_votes', 'down_votes', 'age', 'gender', 'accent', 'locale', 'segment'],\n",
       "    num_rows: 11463\n",
       "})"
      ]
     },
     "execution_count": 4,
     "metadata": {},
     "output_type": "execute_result"
    }
   ],
   "source": [
    "common_voice_train"
   ]
  },
  {
   "cell_type": "code",
   "execution_count": 5,
   "metadata": {},
   "outputs": [
    {
     "data": {
      "text/plain": [
       "0"
      ]
     },
     "execution_count": 5,
     "metadata": {},
     "output_type": "execute_result"
    }
   ],
   "source": [
    "common_voice_train.cleanup_cache_files()\n",
    "common_voice_test.cleanup_cache_files()"
   ]
  },
  {
   "cell_type": "code",
   "execution_count": 6,
   "metadata": {
    "id": "kbyq6lDgQc2a"
   },
   "outputs": [],
   "source": [
    "common_voice_train = common_voice_train.remove_columns([\"accent\", \"age\", \"client_id\", \"down_votes\", \"gender\", \"locale\", \"segment\", \"up_votes\"])\n",
    "common_voice_test = common_voice_test.remove_columns([\"accent\", \"age\", \"client_id\", \"down_votes\", \"gender\", \"locale\", \"segment\", \"up_votes\"])"
   ]
  },
  {
   "cell_type": "code",
   "execution_count": 7,
   "metadata": {
    "id": "72737oog2F6U"
   },
   "outputs": [],
   "source": [
    "from datasets import ClassLabel\n",
    "import random\n",
    "import pandas as pd\n",
    "from IPython.display import display, HTML\n",
    "\n",
    "def show_random_elements(dataset, num_examples=10):\n",
    "    assert num_examples <= len(dataset), \"Can't pick more elements than there are in the dataset.\"\n",
    "    picks = []\n",
    "    for _ in range(num_examples):\n",
    "        pick = random.randint(0, len(dataset)-1)\n",
    "        while pick in picks:\n",
    "            pick = random.randint(0, len(dataset)-1)\n",
    "        picks.append(pick)\n",
    "    \n",
    "    df = pd.DataFrame(dataset[picks])\n",
    "    display(HTML(df.to_html()))"
   ]
  },
  {
   "cell_type": "code",
   "execution_count": 8,
   "metadata": {
    "colab": {
     "base_uri": "https://localhost:8080/",
     "height": 363
    },
    "executionInfo": {
     "elapsed": 39,
     "status": "ok",
     "timestamp": 1641588811771,
     "user": {
      "displayName": "Yurii Paniv",
      "photoUrl": "https://lh3.googleusercontent.com/a/default-user=s64",
      "userId": "13095662915325887123"
     },
     "user_tz": -120
    },
    "id": "K_JUmf3G3b9S",
    "outputId": "8603c909-09e1-43ae-f7c2-b27b25d795a3"
   },
   "outputs": [
    {
     "data": {
      "text/html": [
       "<table border=\"1\" class=\"dataframe\">\n",
       "  <thead>\n",
       "    <tr style=\"text-align: right;\">\n",
       "      <th></th>\n",
       "      <th>sentence</th>\n",
       "    </tr>\n",
       "  </thead>\n",
       "  <tbody>\n",
       "    <tr>\n",
       "      <th>0</th>\n",
       "      <td>У червоних — невдачі на фронті.</td>\n",
       "    </tr>\n",
       "    <tr>\n",
       "      <th>1</th>\n",
       "      <td>Він нагадував недавні ночі в кам'янському парку.</td>\n",
       "    </tr>\n",
       "    <tr>\n",
       "      <th>2</th>\n",
       "      <td>Творення займенників</td>\n",
       "    </tr>\n",
       "    <tr>\n",
       "      <th>3</th>\n",
       "      <td>Коли бідний жениться, ніч мала.</td>\n",
       "    </tr>\n",
       "    <tr>\n",
       "      <th>4</th>\n",
       "      <td>Чорнота і Бугай злізли з дерев і пішли назирцем.</td>\n",
       "    </tr>\n",
       "    <tr>\n",
       "      <th>5</th>\n",
       "      <td>крик.</td>\n",
       "    </tr>\n",
       "    <tr>\n",
       "      <th>6</th>\n",
       "      <td>Крім того, мало не завжди погода примушує його десь заночувати.</td>\n",
       "    </tr>\n",
       "    <tr>\n",
       "      <th>7</th>\n",
       "      <td>Така вже мода тепер.</td>\n",
       "    </tr>\n",
       "    <tr>\n",
       "      <th>8</th>\n",
       "      <td>Летить що має сили до вікна і — грим грудьми до шибки.</td>\n",
       "    </tr>\n",
       "    <tr>\n",
       "      <th>9</th>\n",
       "      <td>Ворожа лава проминула вже балку, а Василенко не стріляв.</td>\n",
       "    </tr>\n",
       "  </tbody>\n",
       "</table>"
      ],
      "text/plain": [
       "<IPython.core.display.HTML object>"
      ]
     },
     "metadata": {},
     "output_type": "display_data"
    }
   ],
   "source": [
    "show_random_elements(common_voice_train.remove_columns([\"path\", \"audio\"]), num_examples=10)"
   ]
  },
  {
   "cell_type": "code",
   "execution_count": 9,
   "metadata": {
    "colab": {
     "base_uri": "https://localhost:8080/"
    },
    "executionInfo": {
     "elapsed": 30,
     "status": "ok",
     "timestamp": 1641588811775,
     "user": {
      "displayName": "Yurii Paniv",
      "photoUrl": "https://lh3.googleusercontent.com/a/default-user=s64",
      "userId": "13095662915325887123"
     },
     "user_tz": -120
    },
    "id": "XIHocAuTQbBR",
    "outputId": "e8392853-e0d1-45ba-df74-065c50565654"
   },
   "outputs": [
    {
     "data": {
      "application/vnd.jupyter.widget-view+json": {
       "model_id": "cac2ebe21a844f7c8d3699f811555e9c",
       "version_major": 2,
       "version_minor": 0
      },
      "text/plain": [
       "  0%|          | 0/12 [00:00<?, ?ba/s]"
      ]
     },
     "metadata": {},
     "output_type": "display_data"
    },
    {
     "data": {
      "application/vnd.jupyter.widget-view+json": {
       "model_id": "7068bb21616a4fd3b4eb1976653787d1",
       "version_major": 2,
       "version_minor": 0
      },
      "text/plain": [
       "  0%|          | 0/7 [00:00<?, ?ba/s]"
      ]
     },
     "metadata": {},
     "output_type": "display_data"
    }
   ],
   "source": [
    "filter_func = lambda x: not (\"joki\" in x or \"ы\" in x)\n",
    "common_voice_train = common_voice_train.filter(filter_func, input_columns=[\"sentence\"])\n",
    "common_voice_test = common_voice_test.filter(filter_func, input_columns=[\"sentence\"])"
   ]
  },
  {
   "cell_type": "code",
   "execution_count": 10,
   "metadata": {
    "id": "ZcVsD0ETElrR"
   },
   "outputs": [
    {
     "data": {
      "text/plain": [
       "{'sentence': \"привіт як у тебе справи загалом м'якотілий друже\"}"
      ]
     },
     "execution_count": 10,
     "metadata": {},
     "output_type": "execute_result"
    }
   ],
   "source": [
    "def cleaner(batch):\n",
    "    replace_as_space = \"!:;,—…–“”?\\\"«»\"\n",
    "    special_words = {\n",
    "        \"ХIХ\": \"дев'ятнадцятого\",\n",
    "        \"Linux\": \"Лінукс\",\n",
    "        \"Maace\": \"Маасе\",\n",
    "        \"м 'ясо\": \"м'ясо\",\n",
    "        \"'іде\": \"іде\",\n",
    "        \"Д'Аламбер\": \"даламбер\",\n",
    "        \" - \": \" \",\n",
    "        \"--\": \" \",\n",
    "        \"....\": \" \",\n",
    "        \"...\": \" \",\n",
    "        \"..\": \" \",\n",
    "        \" '\": \" \",\n",
    "        \"О'\": \"о\",\n",
    "        \"-\": \" \" #further check needed\n",
    "    }\n",
    "    # check abbreviations later\n",
    "    abbreviations = {\n",
    "        'ЧК': \"чека\",\n",
    "        'ҐПУ': \"ґепеу\",\n",
    "        'ЄС.': \"єес\",\n",
    "        'УНР': \"уенер\",\n",
    "        'ДТП.': \"детепе\",\n",
    "        'РНБО': \"еренбео\",\n",
    "        'СРСР': \"есересер\",\n",
    "        'ДБР': \"дебеер\",\n",
    "        'КП': \"капе\",\n",
    "        'ОС': \"оес\",\n",
    "    } \n",
    "    chars_dict = {\n",
    "        \"C\": \"С\",\n",
    "        \"I\": \"І\",\n",
    "        \"P\": \"Р\",\n",
    "        \"a\": \"а\",\n",
    "        \"e\": \"е\",\n",
    "        \"x\": \"х\",\n",
    "        \"y\": \"у\",\n",
    "        \"p\": \"р\",\n",
    "        \"o\": \"о\",\n",
    "        \"i\": \"і\",\n",
    "        \"\\u0301\": \"\",\n",
    "        \"`\": \"'\",\n",
    "        \"՚\": \"'\",\n",
    "        \".\": \" \",\n",
    "        \"’\": \"'\"\n",
    "        \n",
    "    }\n",
    "    for word in special_words.keys():\n",
    "        batch[\"sentence\"] = batch[\"sentence\"].replace(word, special_words[word])\n",
    "    for word in abbreviations.keys():\n",
    "        batch[\"sentence\"] = batch[\"sentence\"].replace(word, abbreviations[word])\n",
    "    for char in chars_dict.keys():\n",
    "        batch[\"sentence\"] = batch[\"sentence\"].replace(char, chars_dict[char])\n",
    "    for char in replace_as_space:\n",
    "        batch[\"sentence\"] = batch[\"sentence\"].replace(char, \" \")\n",
    "    batch[\"sentence\"] = \" \".join(filter(lambda x: x != \"\", batch[\"sentence\"].strip().lower().split(\" \")))\n",
    "    return batch\n",
    "\n",
    "sentence = {\"sentence\": \"Привіт, - як у тебе справи загалом, м'якотілий друже?\"}\n",
    "cleaner(sentence)"
   ]
  },
  {
   "cell_type": "code",
   "execution_count": 11,
   "metadata": {
    "colab": {
     "base_uri": "https://localhost:8080/",
     "height": 401
    },
    "executionInfo": {
     "elapsed": 32,
     "status": "ok",
     "timestamp": 1641588811774,
     "user": {
      "displayName": "Yurii Paniv",
      "photoUrl": "https://lh3.googleusercontent.com/a/default-user=s64",
      "userId": "13095662915325887123"
     },
     "user_tz": -120
    },
    "id": "6falIJSBED65",
    "outputId": "2f0ca829-dbfa-4d70-ee4a-ded2ae342117"
   },
   "outputs": [
    {
     "data": {
      "application/vnd.jupyter.widget-view+json": {
       "model_id": "21f88692aec04acea6056893c8b6b1bc",
       "version_major": 2,
       "version_minor": 0
      },
      "text/plain": [
       "  0%|          | 0/11463 [00:00<?, ?ex/s]"
      ]
     },
     "metadata": {},
     "output_type": "display_data"
    },
    {
     "data": {
      "text/html": [
       "<table border=\"1\" class=\"dataframe\">\n",
       "  <thead>\n",
       "    <tr style=\"text-align: right;\">\n",
       "      <th></th>\n",
       "      <th>sentence</th>\n",
       "    </tr>\n",
       "  </thead>\n",
       "  <tbody>\n",
       "    <tr>\n",
       "      <th>0</th>\n",
       "      <td>отаманенко почав пояснювати з наукової точки але дід перебив його</td>\n",
       "    </tr>\n",
       "    <tr>\n",
       "      <th>1</th>\n",
       "      <td>енею глуздівно сказав</td>\n",
       "    </tr>\n",
       "    <tr>\n",
       "      <th>2</th>\n",
       "      <td>ні розвідки вперед ні стежі до лісу</td>\n",
       "    </tr>\n",
       "    <tr>\n",
       "      <th>3</th>\n",
       "      <td>ну ну та я нічого не кажу</td>\n",
       "    </tr>\n",
       "    <tr>\n",
       "      <th>4</th>\n",
       "      <td>якось прийшов зв'язковий із мельників</td>\n",
       "    </tr>\n",
       "    <tr>\n",
       "      <th>5</th>\n",
       "      <td>я хоч не з мельників так мені оповідав батько був козаком у холодному яру</td>\n",
       "    </tr>\n",
       "    <tr>\n",
       "      <th>6</th>\n",
       "      <td>ну бо</td>\n",
       "    </tr>\n",
       "    <tr>\n",
       "      <th>7</th>\n",
       "      <td>макітру одділив од плеч</td>\n",
       "    </tr>\n",
       "    <tr>\n",
       "      <th>8</th>\n",
       "      <td>видно стріляла розвідка ударників що йшла із собакою попереду групи</td>\n",
       "    </tr>\n",
       "    <tr>\n",
       "      <th>9</th>\n",
       "      <td>левко слабий лежить просить щоб зайшов</td>\n",
       "    </tr>\n",
       "  </tbody>\n",
       "</table>"
      ],
      "text/plain": [
       "<IPython.core.display.HTML object>"
      ]
     },
     "metadata": {},
     "output_type": "display_data"
    }
   ],
   "source": [
    "show_random_elements(common_voice_train.map(cleaner).remove_columns([\"path\", \"audio\"]), num_examples=10)"
   ]
  },
  {
   "cell_type": "code",
   "execution_count": 12,
   "metadata": {},
   "outputs": [
    {
     "name": "stderr",
     "output_type": "stream",
     "text": [
      "Loading cached processed dataset at /home/robinhad/.cache/huggingface/datasets/mozilla-foundation___common_voice_10_0/uk/10.0.0/27df768ab1b5cac48a7616f145b79b62599167b0ffa2e054bf4c3e74e9619e5e/cache-96af4ec6cf30f0d6.arrow\n"
     ]
    },
    {
     "data": {
      "application/vnd.jupyter.widget-view+json": {
       "model_id": "217b24de248145d3af8d71497dc39b6e",
       "version_major": 2,
       "version_minor": 0
      },
      "text/plain": [
       "  0%|          | 0/6783 [00:00<?, ?ex/s]"
      ]
     },
     "metadata": {},
     "output_type": "display_data"
    }
   ],
   "source": [
    "common_voice_train = common_voice_train.map(cleaner)\n",
    "common_voice_test = common_voice_test.map(cleaner)"
   ]
  },
  {
   "cell_type": "code",
   "execution_count": 13,
   "metadata": {
    "colab": {
     "base_uri": "https://localhost:8080/",
     "height": 363
    },
    "executionInfo": {
     "elapsed": 24,
     "status": "ok",
     "timestamp": 1641588811775,
     "user": {
      "displayName": "Yurii Paniv",
      "photoUrl": "https://lh3.googleusercontent.com/a/default-user=s64",
      "userId": "13095662915325887123"
     },
     "user_tz": -120
    },
    "id": "RBDRAAYxRE6n",
    "outputId": "a16beae1-84e6-4388-d601-2ed3a92bf451"
   },
   "outputs": [
    {
     "data": {
      "text/html": [
       "<table border=\"1\" class=\"dataframe\">\n",
       "  <thead>\n",
       "    <tr style=\"text-align: right;\">\n",
       "      <th></th>\n",
       "      <th>sentence</th>\n",
       "    </tr>\n",
       "  </thead>\n",
       "  <tbody>\n",
       "    <tr>\n",
       "      <th>0</th>\n",
       "      <td>чому алгоритм зупиниться</td>\n",
       "    </tr>\n",
       "    <tr>\n",
       "      <th>1</th>\n",
       "      <td>конем</td>\n",
       "    </tr>\n",
       "    <tr>\n",
       "      <th>2</th>\n",
       "      <td>наступного дня нас прийняли на службу до міліції</td>\n",
       "    </tr>\n",
       "    <tr>\n",
       "      <th>3</th>\n",
       "      <td>я знав що це неправда</td>\n",
       "    </tr>\n",
       "    <tr>\n",
       "      <th>4</th>\n",
       "      <td>і взявши з запічка кресало</td>\n",
       "    </tr>\n",
       "    <tr>\n",
       "      <th>5</th>\n",
       "      <td>скоріше б на гору бо тачанки ар'єргарду вже відкрили вогонь</td>\n",
       "    </tr>\n",
       "    <tr>\n",
       "      <th>6</th>\n",
       "      <td>удень відтягалася вглиб села залишаючи наглядати за виходом із міста неозброєних</td>\n",
       "    </tr>\n",
       "    <tr>\n",
       "      <th>7</th>\n",
       "      <td>чи співвідноситься це твердження з поняттям карми</td>\n",
       "    </tr>\n",
       "    <tr>\n",
       "      <th>8</th>\n",
       "      <td>селяни мусили шукати бодай якоїсь їжі</td>\n",
       "    </tr>\n",
       "    <tr>\n",
       "      <th>9</th>\n",
       "      <td>більшість убитих і полонених були одягнені в селянські кожухи</td>\n",
       "    </tr>\n",
       "  </tbody>\n",
       "</table>"
      ],
      "text/plain": [
       "<IPython.core.display.HTML object>"
      ]
     },
     "metadata": {},
     "output_type": "display_data"
    }
   ],
   "source": [
    "show_random_elements(common_voice_train.remove_columns([\"path\",\"audio\"]))"
   ]
  },
  {
   "cell_type": "code",
   "execution_count": 14,
   "metadata": {
    "id": "LwCshNbbeRZR"
   },
   "outputs": [],
   "source": [
    "def extract_all_chars(batch):\n",
    "  all_text = \" \".join(batch[\"sentence\"])\n",
    "  vocab = list(set(all_text))\n",
    "  return {\"vocab\": [vocab], \"all_text\": [all_text]}"
   ]
  },
  {
   "cell_type": "code",
   "execution_count": 15,
   "metadata": {
    "colab": {
     "base_uri": "https://localhost:8080/",
     "height": 81,
     "referenced_widgets": [
      "116786d9364a4a57b521cddaabeda688",
      "9baa2f69aa9c4387bf1086a04ed78420",
      "a1e2c04dc2cb45ea80bec125e3dbf56f",
      "b6d46d40efa14b21814f41531f5a2f41",
      "d8bf8dc5d6c84140a4e96c9c435b8f17",
      "04ec68b059df4c628839c3ac29e2ebdd",
      "427056895c674c428400bee0f5b43995",
      "d518f2c2ab6945b78a6d336dad6262bd",
      "77f1a51099b24831ad8b2be3d2dc833a",
      "5815ae1348994bfebba4a8e968489a96",
      "22ba979142074f1d976e1a905544fd2d",
      "8b6b7f28751c45c8869aa86eb2a0ab26",
      "445c84e1e2e541f2a54fb989def386ae",
      "68502fb433564eee8dfdf272ed7e4f56",
      "1f3abdf2e0f6459da4179a94d691c4c4",
      "48c60be3ca9349a295b83f65769c7f27",
      "6c80bd8a8fe14a5989fe27445c14650f",
      "5c2a7fea8c434d51ada69a0854b88baf",
      "414efa8a08cd491cb78af8a95a151daa",
      "c31a747e18df4b4aa4449a30e387448c",
      "3dedffa30b774426bd474072a3a0d591",
      "05d8496d54174ae298c319b0194fc710"
     ]
    },
    "executionInfo": {
     "elapsed": 560,
     "status": "ok",
     "timestamp": 1641588812313,
     "user": {
      "displayName": "Yurii Paniv",
      "photoUrl": "https://lh3.googleusercontent.com/a/default-user=s64",
      "userId": "13095662915325887123"
     },
     "user_tz": -120
    },
    "id": "_m6uUjjcfbjH",
    "outputId": "4cc94e18-9295-4414-c611-c98916fe3d4d"
   },
   "outputs": [
    {
     "data": {
      "application/vnd.jupyter.widget-view+json": {
       "model_id": "3324cb796c2e4ac582a6ba5386336e8f",
       "version_major": 2,
       "version_minor": 0
      },
      "text/plain": [
       "  0%|          | 0/1 [00:00<?, ?ba/s]"
      ]
     },
     "metadata": {},
     "output_type": "display_data"
    },
    {
     "data": {
      "application/vnd.jupyter.widget-view+json": {
       "model_id": "b27a77fd9fe54cceba55cc3de23fac60",
       "version_major": 2,
       "version_minor": 0
      },
      "text/plain": [
       "  0%|          | 0/1 [00:00<?, ?ba/s]"
      ]
     },
     "metadata": {},
     "output_type": "display_data"
    }
   ],
   "source": [
    "vocab_train = common_voice_train.map(extract_all_chars, batched=True, batch_size=-1, keep_in_memory=True, remove_columns=common_voice_train.column_names)\n",
    "vocab_test = common_voice_test.map(extract_all_chars, batched=True, batch_size=-1, keep_in_memory=True, remove_columns=common_voice_test.column_names)"
   ]
  },
  {
   "cell_type": "code",
   "execution_count": 16,
   "metadata": {
    "id": "aQfneNsmlJI0"
   },
   "outputs": [],
   "source": [
    "vocab_list = list(set(vocab_train[\"vocab\"][0]) | set(vocab_test[\"vocab\"][0]))"
   ]
  },
  {
   "cell_type": "code",
   "execution_count": 17,
   "metadata": {
    "colab": {
     "base_uri": "https://localhost:8080/"
    },
    "executionInfo": {
     "elapsed": 18,
     "status": "ok",
     "timestamp": 1641588812314,
     "user": {
      "displayName": "Yurii Paniv",
      "photoUrl": "https://lh3.googleusercontent.com/a/default-user=s64",
      "userId": "13095662915325887123"
     },
     "user_tz": -120
    },
    "id": "_0kRndSvqaKk",
    "outputId": "35c48e76-5060-470b-8405-bd6d288296ea"
   },
   "outputs": [
    {
     "data": {
      "text/plain": [
       "{' ': 0,\n",
       " \"'\": 1,\n",
       " 'а': 2,\n",
       " 'б': 3,\n",
       " 'в': 4,\n",
       " 'г': 5,\n",
       " 'д': 6,\n",
       " 'е': 7,\n",
       " 'ж': 8,\n",
       " 'з': 9,\n",
       " 'и': 10,\n",
       " 'й': 11,\n",
       " 'к': 12,\n",
       " 'л': 13,\n",
       " 'м': 14,\n",
       " 'н': 15,\n",
       " 'о': 16,\n",
       " 'п': 17,\n",
       " 'р': 18,\n",
       " 'с': 19,\n",
       " 'т': 20,\n",
       " 'у': 21,\n",
       " 'ф': 22,\n",
       " 'х': 23,\n",
       " 'ц': 24,\n",
       " 'ч': 25,\n",
       " 'ш': 26,\n",
       " 'щ': 27,\n",
       " 'ь': 28,\n",
       " 'ю': 29,\n",
       " 'я': 30,\n",
       " 'є': 31,\n",
       " 'і': 32,\n",
       " 'ї': 33,\n",
       " 'ґ': 34}"
      ]
     },
     "execution_count": 17,
     "metadata": {},
     "output_type": "execute_result"
    }
   ],
   "source": [
    "vocab_dict = {v: k for k, v in enumerate(sorted(vocab_list))}\n",
    "vocab_dict"
   ]
  },
  {
   "cell_type": "code",
   "execution_count": 18,
   "metadata": {
    "id": "npbIbBoLgaFX"
   },
   "outputs": [],
   "source": [
    "vocab_dict[\"|\"] = vocab_dict[\" \"]\n",
    "del vocab_dict[\" \"]"
   ]
  },
  {
   "cell_type": "code",
   "execution_count": 19,
   "metadata": {
    "colab": {
     "base_uri": "https://localhost:8080/"
    },
    "executionInfo": {
     "elapsed": 15,
     "status": "ok",
     "timestamp": 1641588812316,
     "user": {
      "displayName": "Yurii Paniv",
      "photoUrl": "https://lh3.googleusercontent.com/a/default-user=s64",
      "userId": "13095662915325887123"
     },
     "user_tz": -120
    },
    "id": "znF0bNunsjbl",
    "outputId": "480da4c9-b3d4-41c6-fc5c-b87b8b66202e"
   },
   "outputs": [
    {
     "data": {
      "text/plain": [
       "37"
      ]
     },
     "execution_count": 19,
     "metadata": {},
     "output_type": "execute_result"
    }
   ],
   "source": [
    "vocab_dict[\"[UNK]\"] = len(vocab_dict)\n",
    "vocab_dict[\"[PAD]\"] = len(vocab_dict)\n",
    "len(vocab_dict)"
   ]
  },
  {
   "cell_type": "code",
   "execution_count": 20,
   "metadata": {
    "id": "ehyUoh9vk191"
   },
   "outputs": [],
   "source": [
    "import json\n",
    "with open('vocab.json', 'w') as vocab_file:\n",
    "    json.dump(vocab_dict, vocab_file)"
   ]
  },
  {
   "cell_type": "code",
   "execution_count": 21,
   "metadata": {
    "colab": {
     "base_uri": "https://localhost:8080/"
    },
    "executionInfo": {
     "elapsed": 8013,
     "status": "ok",
     "timestamp": 1641588820318,
     "user": {
      "displayName": "Yurii Paniv",
      "photoUrl": "https://lh3.googleusercontent.com/a/default-user=s64",
      "userId": "13095662915325887123"
     },
     "user_tz": -120
    },
    "id": "xriFGEWQkO4M",
    "outputId": "a4497f75-d6f5-411a-d983-2ad519f65b8b"
   },
   "outputs": [
    {
     "name": "stderr",
     "output_type": "stream",
     "text": [
      "Special tokens have been added in the vocabulary, make sure the associated word embeddings are fine-tuned or trained.\n"
     ]
    }
   ],
   "source": [
    "from transformers import Wav2Vec2CTCTokenizer\n",
    "\n",
    "tokenizer = Wav2Vec2CTCTokenizer.from_pretrained(\"./\", unk_token=\"[UNK]\", pad_token=\"[PAD]\", word_delimiter_token=\"|\")"
   ]
  },
  {
   "cell_type": "code",
   "execution_count": 22,
   "metadata": {
    "id": "A1XApZBAF2zr"
   },
   "outputs": [],
   "source": [
    "repo_name = \"wav2vec2-xls-r-base-uk\""
   ]
  },
  {
   "cell_type": "code",
   "execution_count": 23,
   "metadata": {
    "id": "kAR0-2KLkopp"
   },
   "outputs": [],
   "source": [
    "from transformers import Wav2Vec2FeatureExtractor\n",
    "\n",
    "feature_extractor = Wav2Vec2FeatureExtractor(feature_size=1, sampling_rate=16000, padding_value=0.0, do_normalize=True, return_attention_mask=True)"
   ]
  },
  {
   "cell_type": "code",
   "execution_count": 24,
   "metadata": {
    "id": "KYZtoW-tlZgl"
   },
   "outputs": [],
   "source": [
    "from transformers import Wav2Vec2Processor\n",
    "\n",
    "processor = Wav2Vec2Processor(feature_extractor=feature_extractor, tokenizer=tokenizer)"
   ]
  },
  {
   "cell_type": "code",
   "execution_count": 25,
   "metadata": {},
   "outputs": [],
   "source": [
    "# save tokenizer to folder\n",
    "processor.save_pretrained(repo_name)"
   ]
  },
  {
   "cell_type": "code",
   "execution_count": 26,
   "metadata": {
    "colab": {
     "base_uri": "https://localhost:8080/",
     "height": 54
    },
    "executionInfo": {
     "elapsed": 18,
     "status": "ok",
     "timestamp": 1641588820325,
     "user": {
      "displayName": "Yurii Paniv",
      "photoUrl": "https://lh3.googleusercontent.com/a/default-user=s64",
      "userId": "13095662915325887123"
     },
     "user_tz": -120
    },
    "id": "TTCS7W6XJ9BG",
    "outputId": "18b0d44f-a498-4a79-f0a7-984fae48cad1"
   },
   "outputs": [
    {
     "data": {
      "text/plain": [
       "'/home/robinhad/.cache/huggingface/datasets/downloads/extracted/ee7155196e5d51620d53e48cf58eb693b7839b8ff183604c8bb948d3e0aad92d/cv-corpus-10.0-2022-07-04/uk/clips/common_voice_uk_20907128.mp3'"
      ]
     },
     "execution_count": 26,
     "metadata": {},
     "output_type": "execute_result"
    }
   ],
   "source": [
    "common_voice_train[0][\"path\"]"
   ]
  },
  {
   "cell_type": "code",
   "execution_count": 27,
   "metadata": {
    "colab": {
     "base_uri": "https://localhost:8080/"
    },
    "executionInfo": {
     "elapsed": 863,
     "status": "ok",
     "timestamp": 1641588821172,
     "user": {
      "displayName": "Yurii Paniv",
      "photoUrl": "https://lh3.googleusercontent.com/a/default-user=s64",
      "userId": "13095662915325887123"
     },
     "user_tz": -120
    },
    "id": "qj_z5Zc3GAs9",
    "outputId": "ace70f42-dcf0-445c-9b81-b23d4089c90d"
   },
   "outputs": [
    {
     "data": {
      "text/plain": [
       "{'path': '/home/robinhad/.cache/huggingface/datasets/downloads/extracted/ee7155196e5d51620d53e48cf58eb693b7839b8ff183604c8bb948d3e0aad92d/cv-corpus-10.0-2022-07-04/uk/clips/common_voice_uk_20907128.mp3',\n",
       " 'array': array([ 0.0000000e+00, -3.5002383e-14,  9.4785833e-15, ...,\n",
       "        -5.0386465e-08, -4.4114326e-08, -1.9402206e-08], dtype=float32),\n",
       " 'sampling_rate': 48000}"
      ]
     },
     "execution_count": 27,
     "metadata": {},
     "output_type": "execute_result"
    }
   ],
   "source": [
    "common_voice_train[0][\"audio\"]"
   ]
  },
  {
   "cell_type": "code",
   "execution_count": 28,
   "metadata": {
    "id": "rrv65aj7G95i"
   },
   "outputs": [],
   "source": [
    "common_voice_train = common_voice_train.cast_column(\"audio\", Audio(sampling_rate=16_000))\n",
    "common_voice_test = common_voice_test.cast_column(\"audio\", Audio(sampling_rate=16_000))"
   ]
  },
  {
   "cell_type": "code",
   "execution_count": 29,
   "metadata": {
    "colab": {
     "base_uri": "https://localhost:8080/"
    },
    "executionInfo": {
     "elapsed": 31,
     "status": "ok",
     "timestamp": 1641588821174,
     "user": {
      "displayName": "Yurii Paniv",
      "photoUrl": "https://lh3.googleusercontent.com/a/default-user=s64",
      "userId": "13095662915325887123"
     },
     "user_tz": -120
    },
    "id": "aKtkc1o_HWHC",
    "outputId": "55538536-b8c6-484f-d695-5c8e0492747a"
   },
   "outputs": [
    {
     "data": {
      "text/plain": [
       "{'path': '/home/robinhad/.cache/huggingface/datasets/downloads/extracted/ee7155196e5d51620d53e48cf58eb693b7839b8ff183604c8bb948d3e0aad92d/cv-corpus-10.0-2022-07-04/uk/clips/common_voice_uk_20907128.mp3',\n",
       " 'array': array([ 1.00456624e-13, -1.54340042e-13,  7.00158518e-13, ...,\n",
       "        -1.50335762e-08, -1.92623926e-08, -2.21930367e-08], dtype=float32),\n",
       " 'sampling_rate': 16000}"
      ]
     },
     "execution_count": 29,
     "metadata": {},
     "output_type": "execute_result"
    }
   ],
   "source": [
    "common_voice_train[0][\"audio\"]"
   ]
  },
  {
   "cell_type": "code",
   "execution_count": 30,
   "metadata": {
    "colab": {
     "base_uri": "https://localhost:8080/",
     "height": 80
    },
    "executionInfo": {
     "elapsed": 27,
     "status": "ok",
     "timestamp": 1641588821175,
     "user": {
      "displayName": "Yurii Paniv",
      "photoUrl": "https://lh3.googleusercontent.com/a/default-user=s64",
      "userId": "13095662915325887123"
     },
     "user_tz": -120
    },
    "id": "dueM6U7Ev0OA",
    "outputId": "8f8e14bf-6d59-43e2-ae2d-525bac8e5097"
   },
   "outputs": [
    {
     "name": "stdout",
     "output_type": "stream",
     "text": [
      "здогадалась дівочити по семій дитині\n"
     ]
    },
    {
     "data": {
      "text/html": [
       "\n",
       "                <audio  controls=\"controls\" autoplay=\"autoplay\">\n",
       "                    <source src=\"data:audio/wav;base64,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\" type=\"audio/wav\" />\n",
       "                    Your browser does not support the audio element.\n",
       "                </audio>\n",
       "              "
      ],
      "text/plain": [
       "<IPython.lib.display.Audio object>"
      ]
     },
     "execution_count": 30,
     "metadata": {},
     "output_type": "execute_result"
    }
   ],
   "source": [
    "import IPython.display as ipd\n",
    "import numpy as np\n",
    "import random\n",
    "\n",
    "rand_int = random.randint(0, len(common_voice_train)-1)\n",
    "\n",
    "print(common_voice_train[rand_int][\"sentence\"])\n",
    "ipd.Audio(data=common_voice_train[rand_int][\"audio\"][\"array\"], autoplay=True, rate=16000)"
   ]
  },
  {
   "cell_type": "code",
   "execution_count": 31,
   "metadata": {
    "colab": {
     "base_uri": "https://localhost:8080/"
    },
    "executionInfo": {
     "elapsed": 22,
     "status": "ok",
     "timestamp": 1641588821176,
     "user": {
      "displayName": "Yurii Paniv",
      "photoUrl": "https://lh3.googleusercontent.com/a/default-user=s64",
      "userId": "13095662915325887123"
     },
     "user_tz": -120
    },
    "id": "1Po2g7YPuRTx",
    "outputId": "ad79ec8a-ab5a-4c52-edfa-a20d0eec2282"
   },
   "outputs": [
    {
     "name": "stdout",
     "output_type": "stream",
     "text": [
      "Target text: там і стали на ночівлю\n",
      "Input array shape: (36288,)\n",
      "Sampling rate: 16000\n"
     ]
    }
   ],
   "source": [
    "rand_int = random.randint(0, len(common_voice_train)-1)\n",
    "\n",
    "print(\"Target text:\", common_voice_train[rand_int][\"sentence\"])\n",
    "print(\"Input array shape:\", common_voice_train[rand_int][\"audio\"][\"array\"].shape)\n",
    "print(\"Sampling rate:\", common_voice_train[rand_int][\"audio\"][\"sampling_rate\"])"
   ]
  },
  {
   "cell_type": "code",
   "execution_count": 32,
   "metadata": {
    "id": "eJY7I0XAwe9p"
   },
   "outputs": [],
   "source": [
    "def prepare_dataset(batch):\n",
    "    audio = batch[\"audio\"]\n",
    "\n",
    "    # batched output is \"un-batched\"\n",
    "    batch[\"input_values\"] = processor(audio[\"array\"], sampling_rate=audio[\"sampling_rate\"]).input_values[0]\n",
    "    batch[\"input_length\"] = len(batch[\"input_values\"])\n",
    "    \n",
    "    with processor.as_target_processor():\n",
    "        batch[\"labels\"] = processor(batch[\"sentence\"]).input_ids\n",
    "    return batch"
   ]
  },
  {
   "cell_type": "code",
   "execution_count": 33,
   "metadata": {
    "colab": {
     "base_uri": "https://localhost:8080/",
     "height": 87,
     "referenced_widgets": [
      "a29f88f174f8499082fbb36a36c47fa4",
      "efc3bc0c48124ebeb79d245216eaf0fe",
      "d45747150d0b434593a3a7c98399599a",
      "ea73f7deb1c643f7b81de7fb7acaaf1b",
      "18bc63944343440f837cdff76db004fc",
      "9c875952cdd649a5bab87de9bb3f5200",
      "aa329cb93df44a6da6012c7cc49d7489",
      "b39b6e9131ca4ce3b31e84ceb04e1b83",
      "c5eed102ef134a4e8ca41713b82ff6a4",
      "e6e50da6516847878309fdc5c463edb3",
      "a4ae510b4f3845f891a796cf844fc2bb"
     ]
    },
    "executionInfo": {
     "elapsed": 107521,
     "status": "ok",
     "timestamp": 1641588928679,
     "user": {
      "displayName": "Yurii Paniv",
      "photoUrl": "https://lh3.googleusercontent.com/a/default-user=s64",
      "userId": "13095662915325887123"
     },
     "user_tz": -120
    },
    "id": "-np9xYK-wl8q",
    "outputId": "779b4637-0606-4cc8-be3c-16c1c4241e63"
   },
   "outputs": [
    {
     "data": {
      "application/vnd.jupyter.widget-view+json": {
       "model_id": "a4013929a3b945ef9dcd3041f0cc3e91",
       "version_major": 2,
       "version_minor": 0
      },
      "text/plain": [
       "  0%|          | 0/11463 [00:00<?, ?ex/s]"
      ]
     },
     "metadata": {},
     "output_type": "display_data"
    },
    {
     "data": {
      "application/vnd.jupyter.widget-view+json": {
       "model_id": "785794e2e56b4260bea488093f20798e",
       "version_major": 2,
       "version_minor": 0
      },
      "text/plain": [
       "  0%|          | 0/6783 [00:00<?, ?ex/s]"
      ]
     },
     "metadata": {},
     "output_type": "display_data"
    }
   ],
   "source": [
    "common_voice_train = common_voice_train.map(prepare_dataset, remove_columns=common_voice_train.column_names)\n",
    "common_voice_test = common_voice_test.map(prepare_dataset, remove_columns=common_voice_test.column_names)"
   ]
  },
  {
   "cell_type": "code",
   "execution_count": 34,
   "metadata": {
    "id": "tdHfbUJ_09iA"
   },
   "outputs": [],
   "source": [
    "#max_input_length_in_sec = 5.0\n",
    "#common_voice_train = common_voice_train.filter(lambda x: x < max_input_length_in_sec * processor.feature_extractor.sampling_rate, input_columns=[\"input_length\"])"
   ]
  },
  {
   "cell_type": "code",
   "execution_count": 35,
   "metadata": {},
   "outputs": [
    {
     "name": "stdout",
     "output_type": "stream",
     "text": [
      "mkdir: cannot create directory ‘cached_dataset’: File exists\n"
     ]
    }
   ],
   "source": [
    "!mkdir cached_dataset"
   ]
  },
  {
   "cell_type": "code",
   "execution_count": 36,
   "metadata": {},
   "outputs": [],
   "source": [
    "common_voice_train.save_to_disk(\"cached_dataset/cv_train\")"
   ]
  },
  {
   "cell_type": "code",
   "execution_count": 37,
   "metadata": {},
   "outputs": [],
   "source": [
    "common_voice_test.save_to_disk(\"cached_dataset/cv_test\")"
   ]
  }
 ],
 "metadata": {
  "accelerator": "GPU",
  "colab": {
   "collapsed_sections": [],
   "machine_shape": "hm",
   "name": "Копія записника \"Fine-Tune XLS-R on Common Voice.ipynb\"",
   "provenance": [
    {
     "file_id": "https://github.com/patrickvonplaten/notebooks/blob/master/Fine_Tune_XLS_R_on_Common_Voice.ipynb",
     "timestamp": 1641583715050
    }
   ]
  },
  "kernelspec": {
   "display_name": "Python 3 (ipykernel)",
   "language": "python",
   "name": "python3"
  },
  "language_info": {
   "codemirror_mode": {
    "name": "ipython",
    "version": 3
   },
   "file_extension": ".py",
   "mimetype": "text/x-python",
   "name": "python",
   "nbconvert_exporter": "python",
   "pygments_lexer": "ipython3",
   "version": "3.10.6"
  },
  "vscode": {
   "interpreter": {
    "hash": "a5cdd9abf8df3af0fd61fdb3838d6c6f2f66a9ba4bf4484f45cd88abf9f04fe9"
   }
  },
  "widgets": {
   "application/vnd.jupyter.widget-state+json": {
    "04ec68b059df4c628839c3ac29e2ebdd": {
     "model_module": "@jupyter-widgets/controls",
     "model_module_version": "1.5.0",
     "model_name": "DescriptionStyleModel",
     "state": {
      "_model_module": "@jupyter-widgets/controls",
      "_model_module_version": "1.5.0",
      "_model_name": "DescriptionStyleModel",
      "_view_count": null,
      "_view_module": "@jupyter-widgets/base",
      "_view_module_version": "1.2.0",
      "_view_name": "StyleView",
      "description_width": ""
     }
    },
    "05d8496d54174ae298c319b0194fc710": {
     "model_module": "@jupyter-widgets/base",
     "model_module_version": "1.2.0",
     "model_name": "LayoutModel",
     "state": {
      "_model_module": "@jupyter-widgets/base",
      "_model_module_version": "1.2.0",
      "_model_name": "LayoutModel",
      "_view_count": null,
      "_view_module": "@jupyter-widgets/base",
      "_view_module_version": "1.2.0",
      "_view_name": "LayoutView",
      "align_content": null,
      "align_items": null,
      "align_self": null,
      "border": null,
      "bottom": null,
      "display": null,
      "flex": null,
      "flex_flow": null,
      "grid_area": null,
      "grid_auto_columns": null,
      "grid_auto_flow": null,
      "grid_auto_rows": null,
      "grid_column": null,
      "grid_gap": null,
      "grid_row": null,
      "grid_template_areas": null,
      "grid_template_columns": null,
      "grid_template_rows": null,
      "height": null,
      "justify_content": null,
      "justify_items": null,
      "left": null,
      "margin": null,
      "max_height": null,
      "max_width": null,
      "min_height": null,
      "min_width": null,
      "object_fit": null,
      "object_position": null,
      "order": null,
      "overflow": null,
      "overflow_x": null,
      "overflow_y": null,
      "padding": null,
      "right": null,
      "top": null,
      "visibility": null,
      "width": null
     }
    },
    "116786d9364a4a57b521cddaabeda688": {
     "model_module": "@jupyter-widgets/controls",
     "model_module_version": "1.5.0",
     "model_name": "HBoxModel",
     "state": {
      "_dom_classes": [],
      "_model_module": "@jupyter-widgets/controls",
      "_model_module_version": "1.5.0",
      "_model_name": "HBoxModel",
      "_view_count": null,
      "_view_module": "@jupyter-widgets/controls",
      "_view_module_version": "1.5.0",
      "_view_name": "HBoxView",
      "box_style": "",
      "children": [
       "IPY_MODEL_a1e2c04dc2cb45ea80bec125e3dbf56f",
       "IPY_MODEL_b6d46d40efa14b21814f41531f5a2f41",
       "IPY_MODEL_d8bf8dc5d6c84140a4e96c9c435b8f17"
      ],
      "layout": "IPY_MODEL_9baa2f69aa9c4387bf1086a04ed78420"
     }
    },
    "18bc63944343440f837cdff76db004fc": {
     "model_module": "@jupyter-widgets/controls",
     "model_module_version": "1.5.0",
     "model_name": "HTMLModel",
     "state": {
      "_dom_classes": [],
      "_model_module": "@jupyter-widgets/controls",
      "_model_module_version": "1.5.0",
      "_model_name": "HTMLModel",
      "_view_count": null,
      "_view_module": "@jupyter-widgets/controls",
      "_view_module_version": "1.5.0",
      "_view_name": "HTMLView",
      "description": "",
      "description_tooltip": null,
      "layout": "IPY_MODEL_a4ae510b4f3845f891a796cf844fc2bb",
      "placeholder": "​",
      "style": "IPY_MODEL_e6e50da6516847878309fdc5c463edb3",
      "value": " 6962/6962 [01:46&lt;00:00, 78.15ex/s]"
     }
    },
    "1f3abdf2e0f6459da4179a94d691c4c4": {
     "model_module": "@jupyter-widgets/controls",
     "model_module_version": "1.5.0",
     "model_name": "FloatProgressModel",
     "state": {
      "_dom_classes": [],
      "_model_module": "@jupyter-widgets/controls",
      "_model_module_version": "1.5.0",
      "_model_name": "FloatProgressModel",
      "_view_count": null,
      "_view_module": "@jupyter-widgets/controls",
      "_view_module_version": "1.5.0",
      "_view_name": "ProgressView",
      "bar_style": "success",
      "description": "",
      "description_tooltip": null,
      "layout": "IPY_MODEL_c31a747e18df4b4aa4449a30e387448c",
      "max": 1,
      "min": 0,
      "orientation": "horizontal",
      "style": "IPY_MODEL_414efa8a08cd491cb78af8a95a151daa",
      "value": 1
     }
    },
    "22ba979142074f1d976e1a905544fd2d": {
     "model_module": "@jupyter-widgets/base",
     "model_module_version": "1.2.0",
     "model_name": "LayoutModel",
     "state": {
      "_model_module": "@jupyter-widgets/base",
      "_model_module_version": "1.2.0",
      "_model_name": "LayoutModel",
      "_view_count": null,
      "_view_module": "@jupyter-widgets/base",
      "_view_module_version": "1.2.0",
      "_view_name": "LayoutView",
      "align_content": null,
      "align_items": null,
      "align_self": null,
      "border": null,
      "bottom": null,
      "display": null,
      "flex": null,
      "flex_flow": null,
      "grid_area": null,
      "grid_auto_columns": null,
      "grid_auto_flow": null,
      "grid_auto_rows": null,
      "grid_column": null,
      "grid_gap": null,
      "grid_row": null,
      "grid_template_areas": null,
      "grid_template_columns": null,
      "grid_template_rows": null,
      "height": null,
      "justify_content": null,
      "justify_items": null,
      "left": null,
      "margin": null,
      "max_height": null,
      "max_width": null,
      "min_height": null,
      "min_width": null,
      "object_fit": null,
      "object_position": null,
      "order": null,
      "overflow": null,
      "overflow_x": null,
      "overflow_y": null,
      "padding": null,
      "right": null,
      "top": null,
      "visibility": null,
      "width": null
     }
    },
    "3dedffa30b774426bd474072a3a0d591": {
     "model_module": "@jupyter-widgets/controls",
     "model_module_version": "1.5.0",
     "model_name": "DescriptionStyleModel",
     "state": {
      "_model_module": "@jupyter-widgets/controls",
      "_model_module_version": "1.5.0",
      "_model_name": "DescriptionStyleModel",
      "_view_count": null,
      "_view_module": "@jupyter-widgets/base",
      "_view_module_version": "1.2.0",
      "_view_name": "StyleView",
      "description_width": ""
     }
    },
    "414efa8a08cd491cb78af8a95a151daa": {
     "model_module": "@jupyter-widgets/controls",
     "model_module_version": "1.5.0",
     "model_name": "ProgressStyleModel",
     "state": {
      "_model_module": "@jupyter-widgets/controls",
      "_model_module_version": "1.5.0",
      "_model_name": "ProgressStyleModel",
      "_view_count": null,
      "_view_module": "@jupyter-widgets/base",
      "_view_module_version": "1.2.0",
      "_view_name": "StyleView",
      "bar_color": null,
      "description_width": ""
     }
    },
    "427056895c674c428400bee0f5b43995": {
     "model_module": "@jupyter-widgets/base",
     "model_module_version": "1.2.0",
     "model_name": "LayoutModel",
     "state": {
      "_model_module": "@jupyter-widgets/base",
      "_model_module_version": "1.2.0",
      "_model_name": "LayoutModel",
      "_view_count": null,
      "_view_module": "@jupyter-widgets/base",
      "_view_module_version": "1.2.0",
      "_view_name": "LayoutView",
      "align_content": null,
      "align_items": null,
      "align_self": null,
      "border": null,
      "bottom": null,
      "display": null,
      "flex": null,
      "flex_flow": null,
      "grid_area": null,
      "grid_auto_columns": null,
      "grid_auto_flow": null,
      "grid_auto_rows": null,
      "grid_column": null,
      "grid_gap": null,
      "grid_row": null,
      "grid_template_areas": null,
      "grid_template_columns": null,
      "grid_template_rows": null,
      "height": null,
      "justify_content": null,
      "justify_items": null,
      "left": null,
      "margin": null,
      "max_height": null,
      "max_width": null,
      "min_height": null,
      "min_width": null,
      "object_fit": null,
      "object_position": null,
      "order": null,
      "overflow": null,
      "overflow_x": null,
      "overflow_y": null,
      "padding": null,
      "right": null,
      "top": null,
      "visibility": null,
      "width": null
     }
    },
    "445c84e1e2e541f2a54fb989def386ae": {
     "model_module": "@jupyter-widgets/base",
     "model_module_version": "1.2.0",
     "model_name": "LayoutModel",
     "state": {
      "_model_module": "@jupyter-widgets/base",
      "_model_module_version": "1.2.0",
      "_model_name": "LayoutModel",
      "_view_count": null,
      "_view_module": "@jupyter-widgets/base",
      "_view_module_version": "1.2.0",
      "_view_name": "LayoutView",
      "align_content": null,
      "align_items": null,
      "align_self": null,
      "border": null,
      "bottom": null,
      "display": null,
      "flex": null,
      "flex_flow": null,
      "grid_area": null,
      "grid_auto_columns": null,
      "grid_auto_flow": null,
      "grid_auto_rows": null,
      "grid_column": null,
      "grid_gap": null,
      "grid_row": null,
      "grid_template_areas": null,
      "grid_template_columns": null,
      "grid_template_rows": null,
      "height": null,
      "justify_content": null,
      "justify_items": null,
      "left": null,
      "margin": null,
      "max_height": null,
      "max_width": null,
      "min_height": null,
      "min_width": null,
      "object_fit": null,
      "object_position": null,
      "order": null,
      "overflow": null,
      "overflow_x": null,
      "overflow_y": null,
      "padding": null,
      "right": null,
      "top": null,
      "visibility": null,
      "width": null
     }
    },
    "48c60be3ca9349a295b83f65769c7f27": {
     "model_module": "@jupyter-widgets/controls",
     "model_module_version": "1.5.0",
     "model_name": "HTMLModel",
     "state": {
      "_dom_classes": [],
      "_model_module": "@jupyter-widgets/controls",
      "_model_module_version": "1.5.0",
      "_model_name": "HTMLModel",
      "_view_count": null,
      "_view_module": "@jupyter-widgets/controls",
      "_view_module_version": "1.5.0",
      "_view_name": "HTMLView",
      "description": "",
      "description_tooltip": null,
      "layout": "IPY_MODEL_05d8496d54174ae298c319b0194fc710",
      "placeholder": "​",
      "style": "IPY_MODEL_3dedffa30b774426bd474072a3a0d591",
      "value": " 1/1 [00:00&lt;00:00, 11.09ba/s]"
     }
    },
    "5815ae1348994bfebba4a8e968489a96": {
     "model_module": "@jupyter-widgets/controls",
     "model_module_version": "1.5.0",
     "model_name": "DescriptionStyleModel",
     "state": {
      "_model_module": "@jupyter-widgets/controls",
      "_model_module_version": "1.5.0",
      "_model_name": "DescriptionStyleModel",
      "_view_count": null,
      "_view_module": "@jupyter-widgets/base",
      "_view_module_version": "1.2.0",
      "_view_name": "StyleView",
      "description_width": ""
     }
    },
    "5c2a7fea8c434d51ada69a0854b88baf": {
     "model_module": "@jupyter-widgets/base",
     "model_module_version": "1.2.0",
     "model_name": "LayoutModel",
     "state": {
      "_model_module": "@jupyter-widgets/base",
      "_model_module_version": "1.2.0",
      "_model_name": "LayoutModel",
      "_view_count": null,
      "_view_module": "@jupyter-widgets/base",
      "_view_module_version": "1.2.0",
      "_view_name": "LayoutView",
      "align_content": null,
      "align_items": null,
      "align_self": null,
      "border": null,
      "bottom": null,
      "display": null,
      "flex": null,
      "flex_flow": null,
      "grid_area": null,
      "grid_auto_columns": null,
      "grid_auto_flow": null,
      "grid_auto_rows": null,
      "grid_column": null,
      "grid_gap": null,
      "grid_row": null,
      "grid_template_areas": null,
      "grid_template_columns": null,
      "grid_template_rows": null,
      "height": null,
      "justify_content": null,
      "justify_items": null,
      "left": null,
      "margin": null,
      "max_height": null,
      "max_width": null,
      "min_height": null,
      "min_width": null,
      "object_fit": null,
      "object_position": null,
      "order": null,
      "overflow": null,
      "overflow_x": null,
      "overflow_y": null,
      "padding": null,
      "right": null,
      "top": null,
      "visibility": null,
      "width": null
     }
    },
    "68502fb433564eee8dfdf272ed7e4f56": {
     "model_module": "@jupyter-widgets/controls",
     "model_module_version": "1.5.0",
     "model_name": "HTMLModel",
     "state": {
      "_dom_classes": [],
      "_model_module": "@jupyter-widgets/controls",
      "_model_module_version": "1.5.0",
      "_model_name": "HTMLModel",
      "_view_count": null,
      "_view_module": "@jupyter-widgets/controls",
      "_view_module_version": "1.5.0",
      "_view_name": "HTMLView",
      "description": "",
      "description_tooltip": null,
      "layout": "IPY_MODEL_5c2a7fea8c434d51ada69a0854b88baf",
      "placeholder": "​",
      "style": "IPY_MODEL_6c80bd8a8fe14a5989fe27445c14650f",
      "value": "100%"
     }
    },
    "6c80bd8a8fe14a5989fe27445c14650f": {
     "model_module": "@jupyter-widgets/controls",
     "model_module_version": "1.5.0",
     "model_name": "DescriptionStyleModel",
     "state": {
      "_model_module": "@jupyter-widgets/controls",
      "_model_module_version": "1.5.0",
      "_model_name": "DescriptionStyleModel",
      "_view_count": null,
      "_view_module": "@jupyter-widgets/base",
      "_view_module_version": "1.2.0",
      "_view_name": "StyleView",
      "description_width": ""
     }
    },
    "77f1a51099b24831ad8b2be3d2dc833a": {
     "model_module": "@jupyter-widgets/base",
     "model_module_version": "1.2.0",
     "model_name": "LayoutModel",
     "state": {
      "_model_module": "@jupyter-widgets/base",
      "_model_module_version": "1.2.0",
      "_model_name": "LayoutModel",
      "_view_count": null,
      "_view_module": "@jupyter-widgets/base",
      "_view_module_version": "1.2.0",
      "_view_name": "LayoutView",
      "align_content": null,
      "align_items": null,
      "align_self": null,
      "border": null,
      "bottom": null,
      "display": null,
      "flex": null,
      "flex_flow": null,
      "grid_area": null,
      "grid_auto_columns": null,
      "grid_auto_flow": null,
      "grid_auto_rows": null,
      "grid_column": null,
      "grid_gap": null,
      "grid_row": null,
      "grid_template_areas": null,
      "grid_template_columns": null,
      "grid_template_rows": null,
      "height": null,
      "justify_content": null,
      "justify_items": null,
      "left": null,
      "margin": null,
      "max_height": null,
      "max_width": null,
      "min_height": null,
      "min_width": null,
      "object_fit": null,
      "object_position": null,
      "order": null,
      "overflow": null,
      "overflow_x": null,
      "overflow_y": null,
      "padding": null,
      "right": null,
      "top": null,
      "visibility": null,
      "width": null
     }
    },
    "8b6b7f28751c45c8869aa86eb2a0ab26": {
     "model_module": "@jupyter-widgets/controls",
     "model_module_version": "1.5.0",
     "model_name": "HBoxModel",
     "state": {
      "_dom_classes": [],
      "_model_module": "@jupyter-widgets/controls",
      "_model_module_version": "1.5.0",
      "_model_name": "HBoxModel",
      "_view_count": null,
      "_view_module": "@jupyter-widgets/controls",
      "_view_module_version": "1.5.0",
      "_view_name": "HBoxView",
      "box_style": "",
      "children": [
       "IPY_MODEL_68502fb433564eee8dfdf272ed7e4f56",
       "IPY_MODEL_1f3abdf2e0f6459da4179a94d691c4c4",
       "IPY_MODEL_48c60be3ca9349a295b83f65769c7f27"
      ],
      "layout": "IPY_MODEL_445c84e1e2e541f2a54fb989def386ae"
     }
    },
    "9baa2f69aa9c4387bf1086a04ed78420": {
     "model_module": "@jupyter-widgets/base",
     "model_module_version": "1.2.0",
     "model_name": "LayoutModel",
     "state": {
      "_model_module": "@jupyter-widgets/base",
      "_model_module_version": "1.2.0",
      "_model_name": "LayoutModel",
      "_view_count": null,
      "_view_module": "@jupyter-widgets/base",
      "_view_module_version": "1.2.0",
      "_view_name": "LayoutView",
      "align_content": null,
      "align_items": null,
      "align_self": null,
      "border": null,
      "bottom": null,
      "display": null,
      "flex": null,
      "flex_flow": null,
      "grid_area": null,
      "grid_auto_columns": null,
      "grid_auto_flow": null,
      "grid_auto_rows": null,
      "grid_column": null,
      "grid_gap": null,
      "grid_row": null,
      "grid_template_areas": null,
      "grid_template_columns": null,
      "grid_template_rows": null,
      "height": null,
      "justify_content": null,
      "justify_items": null,
      "left": null,
      "margin": null,
      "max_height": null,
      "max_width": null,
      "min_height": null,
      "min_width": null,
      "object_fit": null,
      "object_position": null,
      "order": null,
      "overflow": null,
      "overflow_x": null,
      "overflow_y": null,
      "padding": null,
      "right": null,
      "top": null,
      "visibility": null,
      "width": null
     }
    },
    "9c875952cdd649a5bab87de9bb3f5200": {
     "model_module": "@jupyter-widgets/controls",
     "model_module_version": "1.5.0",
     "model_name": "DescriptionStyleModel",
     "state": {
      "_model_module": "@jupyter-widgets/controls",
      "_model_module_version": "1.5.0",
      "_model_name": "DescriptionStyleModel",
      "_view_count": null,
      "_view_module": "@jupyter-widgets/base",
      "_view_module_version": "1.2.0",
      "_view_name": "StyleView",
      "description_width": ""
     }
    },
    "a1e2c04dc2cb45ea80bec125e3dbf56f": {
     "model_module": "@jupyter-widgets/controls",
     "model_module_version": "1.5.0",
     "model_name": "HTMLModel",
     "state": {
      "_dom_classes": [],
      "_model_module": "@jupyter-widgets/controls",
      "_model_module_version": "1.5.0",
      "_model_name": "HTMLModel",
      "_view_count": null,
      "_view_module": "@jupyter-widgets/controls",
      "_view_module_version": "1.5.0",
      "_view_name": "HTMLView",
      "description": "",
      "description_tooltip": null,
      "layout": "IPY_MODEL_427056895c674c428400bee0f5b43995",
      "placeholder": "​",
      "style": "IPY_MODEL_04ec68b059df4c628839c3ac29e2ebdd",
      "value": "100%"
     }
    },
    "a29f88f174f8499082fbb36a36c47fa4": {
     "model_module": "@jupyter-widgets/controls",
     "model_module_version": "1.5.0",
     "model_name": "HBoxModel",
     "state": {
      "_dom_classes": [],
      "_model_module": "@jupyter-widgets/controls",
      "_model_module_version": "1.5.0",
      "_model_name": "HBoxModel",
      "_view_count": null,
      "_view_module": "@jupyter-widgets/controls",
      "_view_module_version": "1.5.0",
      "_view_name": "HBoxView",
      "box_style": "",
      "children": [
       "IPY_MODEL_d45747150d0b434593a3a7c98399599a",
       "IPY_MODEL_ea73f7deb1c643f7b81de7fb7acaaf1b",
       "IPY_MODEL_18bc63944343440f837cdff76db004fc"
      ],
      "layout": "IPY_MODEL_efc3bc0c48124ebeb79d245216eaf0fe"
     }
    },
    "a4ae510b4f3845f891a796cf844fc2bb": {
     "model_module": "@jupyter-widgets/base",
     "model_module_version": "1.2.0",
     "model_name": "LayoutModel",
     "state": {
      "_model_module": "@jupyter-widgets/base",
      "_model_module_version": "1.2.0",
      "_model_name": "LayoutModel",
      "_view_count": null,
      "_view_module": "@jupyter-widgets/base",
      "_view_module_version": "1.2.0",
      "_view_name": "LayoutView",
      "align_content": null,
      "align_items": null,
      "align_self": null,
      "border": null,
      "bottom": null,
      "display": null,
      "flex": null,
      "flex_flow": null,
      "grid_area": null,
      "grid_auto_columns": null,
      "grid_auto_flow": null,
      "grid_auto_rows": null,
      "grid_column": null,
      "grid_gap": null,
      "grid_row": null,
      "grid_template_areas": null,
      "grid_template_columns": null,
      "grid_template_rows": null,
      "height": null,
      "justify_content": null,
      "justify_items": null,
      "left": null,
      "margin": null,
      "max_height": null,
      "max_width": null,
      "min_height": null,
      "min_width": null,
      "object_fit": null,
      "object_position": null,
      "order": null,
      "overflow": null,
      "overflow_x": null,
      "overflow_y": null,
      "padding": null,
      "right": null,
      "top": null,
      "visibility": null,
      "width": null
     }
    },
    "aa329cb93df44a6da6012c7cc49d7489": {
     "model_module": "@jupyter-widgets/base",
     "model_module_version": "1.2.0",
     "model_name": "LayoutModel",
     "state": {
      "_model_module": "@jupyter-widgets/base",
      "_model_module_version": "1.2.0",
      "_model_name": "LayoutModel",
      "_view_count": null,
      "_view_module": "@jupyter-widgets/base",
      "_view_module_version": "1.2.0",
      "_view_name": "LayoutView",
      "align_content": null,
      "align_items": null,
      "align_self": null,
      "border": null,
      "bottom": null,
      "display": null,
      "flex": null,
      "flex_flow": null,
      "grid_area": null,
      "grid_auto_columns": null,
      "grid_auto_flow": null,
      "grid_auto_rows": null,
      "grid_column": null,
      "grid_gap": null,
      "grid_row": null,
      "grid_template_areas": null,
      "grid_template_columns": null,
      "grid_template_rows": null,
      "height": null,
      "justify_content": null,
      "justify_items": null,
      "left": null,
      "margin": null,
      "max_height": null,
      "max_width": null,
      "min_height": null,
      "min_width": null,
      "object_fit": null,
      "object_position": null,
      "order": null,
      "overflow": null,
      "overflow_x": null,
      "overflow_y": null,
      "padding": null,
      "right": null,
      "top": null,
      "visibility": null,
      "width": null
     }
    },
    "b39b6e9131ca4ce3b31e84ceb04e1b83": {
     "model_module": "@jupyter-widgets/controls",
     "model_module_version": "1.5.0",
     "model_name": "ProgressStyleModel",
     "state": {
      "_model_module": "@jupyter-widgets/controls",
      "_model_module_version": "1.5.0",
      "_model_name": "ProgressStyleModel",
      "_view_count": null,
      "_view_module": "@jupyter-widgets/base",
      "_view_module_version": "1.2.0",
      "_view_name": "StyleView",
      "bar_color": null,
      "description_width": ""
     }
    },
    "b6d46d40efa14b21814f41531f5a2f41": {
     "model_module": "@jupyter-widgets/controls",
     "model_module_version": "1.5.0",
     "model_name": "FloatProgressModel",
     "state": {
      "_dom_classes": [],
      "_model_module": "@jupyter-widgets/controls",
      "_model_module_version": "1.5.0",
      "_model_name": "FloatProgressModel",
      "_view_count": null,
      "_view_module": "@jupyter-widgets/controls",
      "_view_module_version": "1.5.0",
      "_view_name": "ProgressView",
      "bar_style": "success",
      "description": "",
      "description_tooltip": null,
      "layout": "IPY_MODEL_77f1a51099b24831ad8b2be3d2dc833a",
      "max": 1,
      "min": 0,
      "orientation": "horizontal",
      "style": "IPY_MODEL_d518f2c2ab6945b78a6d336dad6262bd",
      "value": 1
     }
    },
    "c31a747e18df4b4aa4449a30e387448c": {
     "model_module": "@jupyter-widgets/base",
     "model_module_version": "1.2.0",
     "model_name": "LayoutModel",
     "state": {
      "_model_module": "@jupyter-widgets/base",
      "_model_module_version": "1.2.0",
      "_model_name": "LayoutModel",
      "_view_count": null,
      "_view_module": "@jupyter-widgets/base",
      "_view_module_version": "1.2.0",
      "_view_name": "LayoutView",
      "align_content": null,
      "align_items": null,
      "align_self": null,
      "border": null,
      "bottom": null,
      "display": null,
      "flex": null,
      "flex_flow": null,
      "grid_area": null,
      "grid_auto_columns": null,
      "grid_auto_flow": null,
      "grid_auto_rows": null,
      "grid_column": null,
      "grid_gap": null,
      "grid_row": null,
      "grid_template_areas": null,
      "grid_template_columns": null,
      "grid_template_rows": null,
      "height": null,
      "justify_content": null,
      "justify_items": null,
      "left": null,
      "margin": null,
      "max_height": null,
      "max_width": null,
      "min_height": null,
      "min_width": null,
      "object_fit": null,
      "object_position": null,
      "order": null,
      "overflow": null,
      "overflow_x": null,
      "overflow_y": null,
      "padding": null,
      "right": null,
      "top": null,
      "visibility": null,
      "width": null
     }
    },
    "c5eed102ef134a4e8ca41713b82ff6a4": {
     "model_module": "@jupyter-widgets/base",
     "model_module_version": "1.2.0",
     "model_name": "LayoutModel",
     "state": {
      "_model_module": "@jupyter-widgets/base",
      "_model_module_version": "1.2.0",
      "_model_name": "LayoutModel",
      "_view_count": null,
      "_view_module": "@jupyter-widgets/base",
      "_view_module_version": "1.2.0",
      "_view_name": "LayoutView",
      "align_content": null,
      "align_items": null,
      "align_self": null,
      "border": null,
      "bottom": null,
      "display": null,
      "flex": null,
      "flex_flow": null,
      "grid_area": null,
      "grid_auto_columns": null,
      "grid_auto_flow": null,
      "grid_auto_rows": null,
      "grid_column": null,
      "grid_gap": null,
      "grid_row": null,
      "grid_template_areas": null,
      "grid_template_columns": null,
      "grid_template_rows": null,
      "height": null,
      "justify_content": null,
      "justify_items": null,
      "left": null,
      "margin": null,
      "max_height": null,
      "max_width": null,
      "min_height": null,
      "min_width": null,
      "object_fit": null,
      "object_position": null,
      "order": null,
      "overflow": null,
      "overflow_x": null,
      "overflow_y": null,
      "padding": null,
      "right": null,
      "top": null,
      "visibility": null,
      "width": null
     }
    },
    "d45747150d0b434593a3a7c98399599a": {
     "model_module": "@jupyter-widgets/controls",
     "model_module_version": "1.5.0",
     "model_name": "HTMLModel",
     "state": {
      "_dom_classes": [],
      "_model_module": "@jupyter-widgets/controls",
      "_model_module_version": "1.5.0",
      "_model_name": "HTMLModel",
      "_view_count": null,
      "_view_module": "@jupyter-widgets/controls",
      "_view_module_version": "1.5.0",
      "_view_name": "HTMLView",
      "description": "",
      "description_tooltip": null,
      "layout": "IPY_MODEL_aa329cb93df44a6da6012c7cc49d7489",
      "placeholder": "​",
      "style": "IPY_MODEL_9c875952cdd649a5bab87de9bb3f5200",
      "value": "100%"
     }
    },
    "d518f2c2ab6945b78a6d336dad6262bd": {
     "model_module": "@jupyter-widgets/controls",
     "model_module_version": "1.5.0",
     "model_name": "ProgressStyleModel",
     "state": {
      "_model_module": "@jupyter-widgets/controls",
      "_model_module_version": "1.5.0",
      "_model_name": "ProgressStyleModel",
      "_view_count": null,
      "_view_module": "@jupyter-widgets/base",
      "_view_module_version": "1.2.0",
      "_view_name": "StyleView",
      "bar_color": null,
      "description_width": ""
     }
    },
    "d8bf8dc5d6c84140a4e96c9c435b8f17": {
     "model_module": "@jupyter-widgets/controls",
     "model_module_version": "1.5.0",
     "model_name": "HTMLModel",
     "state": {
      "_dom_classes": [],
      "_model_module": "@jupyter-widgets/controls",
      "_model_module_version": "1.5.0",
      "_model_name": "HTMLModel",
      "_view_count": null,
      "_view_module": "@jupyter-widgets/controls",
      "_view_module_version": "1.5.0",
      "_view_name": "HTMLView",
      "description": "",
      "description_tooltip": null,
      "layout": "IPY_MODEL_22ba979142074f1d976e1a905544fd2d",
      "placeholder": "​",
      "style": "IPY_MODEL_5815ae1348994bfebba4a8e968489a96",
      "value": " 1/1 [00:00&lt;00:00,  7.95ba/s]"
     }
    },
    "e6e50da6516847878309fdc5c463edb3": {
     "model_module": "@jupyter-widgets/controls",
     "model_module_version": "1.5.0",
     "model_name": "DescriptionStyleModel",
     "state": {
      "_model_module": "@jupyter-widgets/controls",
      "_model_module_version": "1.5.0",
      "_model_name": "DescriptionStyleModel",
      "_view_count": null,
      "_view_module": "@jupyter-widgets/base",
      "_view_module_version": "1.2.0",
      "_view_name": "StyleView",
      "description_width": ""
     }
    },
    "ea73f7deb1c643f7b81de7fb7acaaf1b": {
     "model_module": "@jupyter-widgets/controls",
     "model_module_version": "1.5.0",
     "model_name": "FloatProgressModel",
     "state": {
      "_dom_classes": [],
      "_model_module": "@jupyter-widgets/controls",
      "_model_module_version": "1.5.0",
      "_model_name": "FloatProgressModel",
      "_view_count": null,
      "_view_module": "@jupyter-widgets/controls",
      "_view_module_version": "1.5.0",
      "_view_name": "ProgressView",
      "bar_style": "success",
      "description": "",
      "description_tooltip": null,
      "layout": "IPY_MODEL_c5eed102ef134a4e8ca41713b82ff6a4",
      "max": 6962,
      "min": 0,
      "orientation": "horizontal",
      "style": "IPY_MODEL_b39b6e9131ca4ce3b31e84ceb04e1b83",
      "value": 6962
     }
    },
    "efc3bc0c48124ebeb79d245216eaf0fe": {
     "model_module": "@jupyter-widgets/base",
     "model_module_version": "1.2.0",
     "model_name": "LayoutModel",
     "state": {
      "_model_module": "@jupyter-widgets/base",
      "_model_module_version": "1.2.0",
      "_model_name": "LayoutModel",
      "_view_count": null,
      "_view_module": "@jupyter-widgets/base",
      "_view_module_version": "1.2.0",
      "_view_name": "LayoutView",
      "align_content": null,
      "align_items": null,
      "align_self": null,
      "border": null,
      "bottom": null,
      "display": null,
      "flex": null,
      "flex_flow": null,
      "grid_area": null,
      "grid_auto_columns": null,
      "grid_auto_flow": null,
      "grid_auto_rows": null,
      "grid_column": null,
      "grid_gap": null,
      "grid_row": null,
      "grid_template_areas": null,
      "grid_template_columns": null,
      "grid_template_rows": null,
      "height": null,
      "justify_content": null,
      "justify_items": null,
      "left": null,
      "margin": null,
      "max_height": null,
      "max_width": null,
      "min_height": null,
      "min_width": null,
      "object_fit": null,
      "object_position": null,
      "order": null,
      "overflow": null,
      "overflow_x": null,
      "overflow_y": null,
      "padding": null,
      "right": null,
      "top": null,
      "visibility": null,
      "width": null
     }
    }
   }
  }
 },
 "nbformat": 4,
 "nbformat_minor": 4
}
